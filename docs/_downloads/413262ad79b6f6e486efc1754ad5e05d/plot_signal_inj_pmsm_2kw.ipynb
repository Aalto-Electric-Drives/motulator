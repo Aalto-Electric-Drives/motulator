{
  "cells": [
    {
      "cell_type": "markdown",
      "metadata": {},
      "source": [
        "\n# 2.2-kW PMSM\n\nThis example simulates sensorless vector control of a 2.2-kW PMSM drive.\nSquare-wave signal injection is used with a simple phase-locked loop.\n"
      ]
    },
    {
      "cell_type": "code",
      "execution_count": null,
      "metadata": {
        "collapsed": false
      },
      "outputs": [],
      "source": [
        "import numpy as np\nimport matplotlib.pyplot as plt\n\nfrom motulator.drive import model\nimport motulator.drive.control.sm as control\nfrom motulator.drive.utils import BaseValues, NominalValues, plot, Sequence"
      ]
    },
    {
      "cell_type": "markdown",
      "metadata": {},
      "source": [
        "Compute base values based on the nominal values (just for figures).\n\n"
      ]
    },
    {
      "cell_type": "code",
      "execution_count": null,
      "metadata": {
        "collapsed": false
      },
      "outputs": [],
      "source": [
        "nom = NominalValues(U=370, I=4.3, f=75, P=2.2e3, tau=14)\nbase = BaseValues.from_nominal(nom, n_p=3)"
      ]
    },
    {
      "cell_type": "markdown",
      "metadata": {},
      "source": [
        "Configure the system model.\n\n"
      ]
    },
    {
      "cell_type": "code",
      "execution_count": null,
      "metadata": {
        "collapsed": false
      },
      "outputs": [],
      "source": [
        "machine = model.SynchronousMachine(\n    n_p=3, R_s=3.6, L_d=.036, L_q=.051, psi_f=.545)\nmechanics = model.Mechanics(J=.015)\nconverter = model.Inverter(u_dc=540)\nmdl = model.Drive(converter, machine, mechanics)"
      ]
    },
    {
      "cell_type": "markdown",
      "metadata": {},
      "source": [
        "Configure the control system.\n\n"
      ]
    },
    {
      "cell_type": "code",
      "execution_count": null,
      "metadata": {
        "collapsed": false
      },
      "outputs": [],
      "source": [
        "par = control.ModelPars(n_p=3, R_s=3.6, L_d=.036, L_q=.051, psi_f=.545, J=.015)\ncfg = control.CurrentReferenceCfg(par, nom_w_m=base.w, max_i_s=2*base.i)\nctrl = control.SignalInjectionCtrl(par, cfg, T_s=250e-6)\n# ctrl.current_ctrl = control.sm.CurrentCtrl(par, 2*np.pi*100)"
      ]
    },
    {
      "cell_type": "markdown",
      "metadata": {},
      "source": [
        "Set the speed reference and the external load torque.\n\n"
      ]
    },
    {
      "cell_type": "code",
      "execution_count": null,
      "metadata": {
        "collapsed": false
      },
      "outputs": [],
      "source": [
        "# Speed reference\ntimes = np.array([0, .25, .25, .375, .5, .625, .75, .75, 1])*4\nvalues = np.array([0, 0, 1, 1, 0, -1, -1, 0, 0])*base.w*.1\nctrl.ref.w_m = Sequence(times, values)\n# External load torque\ntimes = np.array([0, .125, .125, .875, .875, 1])*4\nvalues = np.array([0, 0, 1, 1, 0, 0])*nom.tau\nmdl.mechanics.tau_L_t = Sequence(times, values)"
      ]
    },
    {
      "cell_type": "markdown",
      "metadata": {},
      "source": [
        "Create the simulation object and simulate it.\n\n"
      ]
    },
    {
      "cell_type": "code",
      "execution_count": null,
      "metadata": {
        "collapsed": false
      },
      "outputs": [],
      "source": [
        "sim = model.Simulation(mdl, ctrl)\nsim.simulate(t_stop=4)"
      ]
    },
    {
      "cell_type": "markdown",
      "metadata": {},
      "source": [
        "Plot results in per-unit values.\n\n"
      ]
    },
    {
      "cell_type": "code",
      "execution_count": null,
      "metadata": {
        "collapsed": false
      },
      "outputs": [],
      "source": [
        "# Plot the \"basic\" figure\nplot(sim, base)\n\n# Plot also the angles\nmdl = sim.mdl  # Continuous-time data\nctrl = sim.ctrl.data  # Discrete-time data\nctrl.t = ctrl.ref.t  # Discrete time\n\nplt.figure()\nplt.plot(mdl.data.t, mdl.machine.data.theta_m, label=r\"$\\vartheta_\\mathrm{m}$\")\nplt.plot(\n    ctrl.t,\n    ctrl.fbk.theta_m,\n    ds=\"steps-post\",\n    label=r\"$\\hat \\vartheta_\\mathrm{m}$\")\nplt.legend()\nplt.xlim(0, 4)\nplt.xlabel(\"Time (s)\")\nplt.ylabel(\"Electrical angle (rad)\")\nplt.show()"
      ]
    }
  ],
  "metadata": {
    "kernelspec": {
      "display_name": "Python 3",
      "language": "python",
      "name": "python3"
    },
    "language_info": {
      "codemirror_mode": {
        "name": "ipython",
        "version": 3
      },
      "file_extension": ".py",
      "mimetype": "text/x-python",
      "name": "python",
      "nbconvert_exporter": "python",
      "pygments_lexer": "ipython3",
      "version": "3.8.2"
    }
  },
  "nbformat": 4,
  "nbformat_minor": 0
}