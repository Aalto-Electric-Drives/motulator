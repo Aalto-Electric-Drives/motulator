{
  "cells": [
    {
      "cell_type": "markdown",
      "metadata": {},
      "source": [
        "\n# 5-kW PM-SyRM\n\nThis example simulates sensorless current-vector control of a 5-kW permanent-\nmagnet synchronous reluctance motor. Control look-up tables are also plotted.\n"
      ]
    },
    {
      "cell_type": "code",
      "execution_count": null,
      "metadata": {
        "collapsed": false
      },
      "outputs": [],
      "source": [
        "import numpy as np\nfrom motulator import model, control\nfrom motulator import BaseValues, NominalValues, plot"
      ]
    },
    {
      "cell_type": "markdown",
      "metadata": {},
      "source": [
        "Compute base values based on the nominal values (just for figures).\n\n"
      ]
    },
    {
      "cell_type": "code",
      "execution_count": null,
      "metadata": {
        "collapsed": false
      },
      "outputs": [],
      "source": [
        "nom = NominalValues(U=220, I=15.6, f=85, P=5.07e3, tau=19)\nbase = BaseValues.from_nominal(nom, n_p=2)"
      ]
    },
    {
      "cell_type": "markdown",
      "metadata": {},
      "source": [
        "Configure the system model.\n\n"
      ]
    },
    {
      "cell_type": "code",
      "execution_count": null,
      "metadata": {
        "collapsed": false
      },
      "outputs": [],
      "source": [
        "# Configure magnetically linear motor model\nmachine = model.SynchronousMachine(\n    n_p=2, R_s=.2, L_d=4e-3, L_q=17e-3, psi_f=.134)\nmechanics = model.Mechanics(J=.0042)\nconverter = model.Inverter(u_dc=310)\nmdl = model.Drive(converter, machine, mechanics)"
      ]
    },
    {
      "cell_type": "markdown",
      "metadata": {},
      "source": [
        "Configure the control system.\n\n"
      ]
    },
    {
      "cell_type": "code",
      "execution_count": null,
      "metadata": {
        "collapsed": false
      },
      "outputs": [],
      "source": [
        "par = control.sm.ModelPars(\n    n_p=2, R_s=.2, L_d=4e-3, L_q=17e-3, psi_f=.134, J=.0042)\ncfg = control.sm.CurrentReferenceCfg(\n    par, nom_w_m=base.w, max_i_s=2*base.i, k_u=.9)\nctrl = control.sm.CurrentVectorCtrl(par, cfg, T_s=125e-6, sensorless=True)\nctrl.observer = control.sm.Observer(\n    control.sm.ObserverCfg(par, sensorless=True, alpha_o=2*np.pi*200))\nctrl.speed_ctrl = control.SpeedCtrl(\n    J=par.J, alpha_s=2*np.pi*4, max_tau_M=1.5*nom.tau)"
      ]
    },
    {
      "cell_type": "markdown",
      "metadata": {},
      "source": [
        "Plot control characteristics, computed using constant L_d, L_q, and psi_f.\n\n"
      ]
    },
    {
      "cell_type": "code",
      "execution_count": null,
      "metadata": {
        "collapsed": false
      },
      "outputs": [],
      "source": [
        "# sphinx_gallery_thumbnail_number = 1\ntq = control.sm.TorqueCharacteristics(par)\ntq.plot_current_loci(ctrl.current_reference.cfg.max_i_s, base)\ntq.plot_torque_flux(ctrl.current_reference.cfg.max_i_s, base)\ntq.plot_torque_current(ctrl.current_reference.cfg.max_i_s, base)\n# tq.plot_flux_loci(ctrl.current_reference.cfg.max_i_s, base)"
      ]
    },
    {
      "cell_type": "markdown",
      "metadata": {},
      "source": [
        "Set the speed reference and the external load torque.\n\n"
      ]
    },
    {
      "cell_type": "code",
      "execution_count": null,
      "metadata": {
        "collapsed": false
      },
      "outputs": [],
      "source": [
        "# Acceleration and load torque step\nctrl.ref.w_m = lambda t: (t > .1)*base.w*3\n# Quadratic load torque profile\nk = .05*nom.tau/(base.w/base.n_p)**2\nmdl.mechanics.tau_L_w = lambda w_M: k*w_M**2*np.sign(w_M)"
      ]
    },
    {
      "cell_type": "markdown",
      "metadata": {},
      "source": [
        "Create the simulation object, simulate, and plot results in per-unit values.\n\n"
      ]
    },
    {
      "cell_type": "code",
      "execution_count": null,
      "metadata": {
        "collapsed": false
      },
      "outputs": [],
      "source": [
        "sim = model.Simulation(mdl, ctrl)\nsim.simulate(t_stop=.6)\nplot(sim, base)"
      ]
    }
  ],
  "metadata": {
    "kernelspec": {
      "display_name": "Python 3",
      "language": "python",
      "name": "python3"
    },
    "language_info": {
      "codemirror_mode": {
        "name": "ipython",
        "version": 3
      },
      "file_extension": ".py",
      "mimetype": "text/x-python",
      "name": "python",
      "nbconvert_exporter": "python",
      "pygments_lexer": "ipython3",
      "version": "3.8.2"
    }
  },
  "nbformat": 4,
  "nbformat_minor": 0
}