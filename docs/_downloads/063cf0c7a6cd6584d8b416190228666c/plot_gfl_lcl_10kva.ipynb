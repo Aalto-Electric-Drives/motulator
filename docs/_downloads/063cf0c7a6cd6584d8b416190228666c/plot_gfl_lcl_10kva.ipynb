{
  "cells": [
    {
      "cell_type": "markdown",
      "metadata": {},
      "source": [
        "\n# 10-kVA converter, LCL filter\n\nThis example simulates a grid-following-controlled converter connected to a strong grid\nthrough an LCL filter. The control system includes a phase-locked loop (PLL) to\nsynchronize with the grid, a current reference generator, and a PI-type current\ncontroller. The LCL-filter dynamics are not taken into account in the control system.\n"
      ]
    },
    {
      "cell_type": "code",
      "execution_count": null,
      "metadata": {
        "collapsed": false
      },
      "outputs": [],
      "source": [
        "from motulator.grid import control, model, utils"
      ]
    },
    {
      "cell_type": "markdown",
      "metadata": {},
      "source": [
        "Compute base values based on the nominal values.\n\n"
      ]
    },
    {
      "cell_type": "code",
      "execution_count": null,
      "metadata": {
        "collapsed": false
      },
      "outputs": [],
      "source": [
        "nom = utils.NominalValues(U=400, I=14.5, f=50, P=10e3)\nbase = utils.BaseValues.from_nominal(nom)"
      ]
    },
    {
      "cell_type": "markdown",
      "metadata": {},
      "source": [
        "Configure the system model.\n\n"
      ]
    },
    {
      "cell_type": "code",
      "execution_count": null,
      "metadata": {
        "collapsed": false
      },
      "outputs": [],
      "source": [
        "ac_filter = model.LCLFilter(\n    L_fc=0.073 * base.L, L_fg=0.073 * base.L, C_f=0.043 * base.C, u_f0_ab=base.u\n)\nac_source = model.ThreePhaseSource(w_g=base.w, e_g=base.u)\nconverter = model.VoltageSourceConverter(u_dc=650)\nmdl = model.GridConverterSystem(converter, ac_filter, ac_source)"
      ]
    },
    {
      "cell_type": "markdown",
      "metadata": {},
      "source": [
        "Configure the control system.\n\n"
      ]
    },
    {
      "cell_type": "code",
      "execution_count": null,
      "metadata": {
        "collapsed": false
      },
      "outputs": [],
      "source": [
        "inner_ctrl = control.CurrentVectorController(\n    i_max=1.5 * base.i, L=0.073 * base.L, T_s=100e-6\n)\nctrl = control.GridConverterControlSystem(inner_ctrl)"
      ]
    },
    {
      "cell_type": "markdown",
      "metadata": {},
      "source": [
        "Set external references.\n\n"
      ]
    },
    {
      "cell_type": "code",
      "execution_count": null,
      "metadata": {
        "collapsed": false
      },
      "outputs": [],
      "source": [
        "# Set the active and reactive power references\nctrl.set_power_ref(lambda t: (t > 0.02) * 5e3)\nctrl.set_reactive_power_ref(lambda t: (t > 0.04) * 4e3)"
      ]
    },
    {
      "cell_type": "markdown",
      "metadata": {},
      "source": [
        "Create the simulation object and simulate it.\n\n"
      ]
    },
    {
      "cell_type": "code",
      "execution_count": null,
      "metadata": {
        "collapsed": false
      },
      "outputs": [],
      "source": [
        "sim = model.Simulation(mdl, ctrl)\nres = sim.simulate(t_stop=0.08)"
      ]
    },
    {
      "cell_type": "markdown",
      "metadata": {},
      "source": [
        "Plot the results.\n\n"
      ]
    },
    {
      "cell_type": "code",
      "execution_count": null,
      "metadata": {
        "collapsed": false
      },
      "outputs": [],
      "source": [
        "utils.plot_control_signals(res, base)\nutils.plot_grid_waveforms(res, base)"
      ]
    }
  ],
  "metadata": {
    "kernelspec": {
      "display_name": "Python 3",
      "language": "python",
      "name": "python3"
    },
    "language_info": {
      "codemirror_mode": {
        "name": "ipython",
        "version": 3
      },
      "file_extension": ".py",
      "mimetype": "text/x-python",
      "name": "python",
      "nbconvert_exporter": "python",
      "pygments_lexer": "ipython3",
      "version": "3.12.10"
    }
  },
  "nbformat": 4,
  "nbformat_minor": 0
}