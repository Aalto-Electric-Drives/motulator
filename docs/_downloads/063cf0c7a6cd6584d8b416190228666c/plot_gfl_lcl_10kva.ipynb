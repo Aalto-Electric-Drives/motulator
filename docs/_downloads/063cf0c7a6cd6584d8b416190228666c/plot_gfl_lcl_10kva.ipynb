{
  "cells": [
    {
      "cell_type": "markdown",
      "metadata": {},
      "source": [
        "\n# 10-kVA converter, LCL filter\n    \nThis example simulates a grid-following-controlled converter connected to a\nstrong grid through an LCL filter. The control system includes a phase-locked\nloop (PLL) to synchronize with the grid, a current reference generator, and a\nPI-type current controller. The dynamics of the LCL filter are not taken into\naccount in the control system.\n"
      ]
    },
    {
      "cell_type": "code",
      "execution_count": null,
      "metadata": {
        "collapsed": false
      },
      "outputs": [],
      "source": [
        "from motulator.grid import model, control\nfrom motulator.grid.utils import (\n    BaseValues, ACFilterPars, NominalValues, plot)"
      ]
    },
    {
      "cell_type": "markdown",
      "metadata": {},
      "source": [
        "Compute base values based on the nominal values.\n\n"
      ]
    },
    {
      "cell_type": "code",
      "execution_count": null,
      "metadata": {
        "collapsed": false
      },
      "outputs": [],
      "source": [
        "nom = NominalValues(U=400, I=14.5, f=50, P=10e3)\nbase = BaseValues.from_nominal(nom)"
      ]
    },
    {
      "cell_type": "markdown",
      "metadata": {},
      "source": [
        "Configure the system model.\n\n"
      ]
    },
    {
      "cell_type": "code",
      "execution_count": null,
      "metadata": {
        "collapsed": false
      },
      "outputs": [],
      "source": [
        "# Grid and filter\npar = ACFilterPars(\n    L_fc=.073*base.L, L_fg=.073*base.L, C_f=.043*base.C, u_fs0=base.u)\nac_filter = model.ACFilter(par)\nac_source = model.ThreePhaseVoltageSource(w_g=base.w, abs_e_g=base.u)\n# Inverter model with constant DC voltage\nconverter = model.VoltageSourceConverter(u_dc=650)\n\n# Create system model\nmdl = model.GridConverterSystem(converter, ac_filter, ac_source)"
      ]
    },
    {
      "cell_type": "markdown",
      "metadata": {},
      "source": [
        "Configure the control system.\n\n"
      ]
    },
    {
      "cell_type": "code",
      "execution_count": null,
      "metadata": {
        "collapsed": false
      },
      "outputs": [],
      "source": [
        "cfg = control.GridFollowingControlCfg(\n    L=.073*base.L, nom_u=base.u, nom_w=base.w, max_i=1.5*base.i)\nctrl = control.GridFollowingControl(cfg)"
      ]
    },
    {
      "cell_type": "markdown",
      "metadata": {},
      "source": [
        "Set the time-dependent reference and disturbance signals.\n\n"
      ]
    },
    {
      "cell_type": "code",
      "execution_count": null,
      "metadata": {
        "collapsed": false
      },
      "outputs": [],
      "source": [
        "# Set the active and reactive power references\nctrl.ref.p_g = lambda t: (t > .02)*5e3\nctrl.ref.q_g = lambda t: (t > .04)*4e3"
      ]
    },
    {
      "cell_type": "markdown",
      "metadata": {},
      "source": [
        "Create the simulation object and simulate it.\n\n"
      ]
    },
    {
      "cell_type": "code",
      "execution_count": null,
      "metadata": {
        "collapsed": false
      },
      "outputs": [],
      "source": [
        "sim = model.Simulation(mdl, ctrl)\nsim.simulate(t_stop=.1)"
      ]
    },
    {
      "cell_type": "markdown",
      "metadata": {},
      "source": [
        "Plot the results.\n\n"
      ]
    },
    {
      "cell_type": "code",
      "execution_count": null,
      "metadata": {
        "collapsed": false
      },
      "outputs": [],
      "source": [
        "plot(sim, base)"
      ]
    }
  ],
  "metadata": {
    "kernelspec": {
      "display_name": "Python 3",
      "language": "python",
      "name": "python3"
    },
    "language_info": {
      "codemirror_mode": {
        "name": "ipython",
        "version": 3
      },
      "file_extension": ".py",
      "mimetype": "text/x-python",
      "name": "python",
      "nbconvert_exporter": "python",
      "pygments_lexer": "ipython3",
      "version": "3.8.2"
    }
  },
  "nbformat": 4,
  "nbformat_minor": 0
}