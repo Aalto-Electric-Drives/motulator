{
  "cells": [
    {
      "cell_type": "markdown",
      "metadata": {},
      "source": [
        "\n# 2.2-kW induction motor\n\nThis example simulates observer-based V/Hz control of a 2.2-kW induction motor\ndrive.\n"
      ]
    },
    {
      "cell_type": "markdown",
      "metadata": {},
      "source": [
        "Imports.\n\n"
      ]
    },
    {
      "cell_type": "code",
      "execution_count": null,
      "metadata": {
        "collapsed": false
      },
      "outputs": [],
      "source": [
        "import numpy as np\nfrom motulator import model, control\nfrom motulator import BaseValues, Sequence, plot"
      ]
    },
    {
      "cell_type": "markdown",
      "metadata": {},
      "source": [
        "Compute base values based on the nominal values (just for figures).\n\n"
      ]
    },
    {
      "cell_type": "code",
      "execution_count": null,
      "metadata": {
        "collapsed": false
      },
      "outputs": [],
      "source": [
        "base = BaseValues(\n    U_nom=400, I_nom=5, f_nom=50, tau_nom=14.6, P_nom=2.2e3, n_p=2)"
      ]
    },
    {
      "cell_type": "markdown",
      "metadata": {},
      "source": [
        "Configure the system model.\n\n"
      ]
    },
    {
      "cell_type": "code",
      "execution_count": null,
      "metadata": {
        "collapsed": false
      },
      "outputs": [],
      "source": [
        "# Configure the induction machine using its inverse-\u0393 parameters\nmachine = model.im.InductionMachineInvGamma(\n    R_s=3.7, R_R=2.1, L_sgm=.021, L_M=.224, n_p=2)\nmechanics = model.Mechanics(J=.015)\nconverter = model.Inverter(u_dc=540)\nmdl = model.im.Drive(machine, mechanics, converter)"
      ]
    },
    {
      "cell_type": "markdown",
      "metadata": {},
      "source": [
        "Configure the control system.\n\n"
      ]
    },
    {
      "cell_type": "code",
      "execution_count": null,
      "metadata": {
        "collapsed": false
      },
      "outputs": [],
      "source": [
        "# Inverse-\u0393 model parameter estimates\npar = control.im.ModelPars(R_s=3.7, R_R=2.1, L_sgm=.021, L_M=.224, n_p=2)\nctrl_par = control.im.ObserverBasedVHzCtrlPars(\n    psi_s_nom=base.psi, i_s_max=1.5*base.i)\nctrl = control.im.ObserverBasedVHzCtrl(par, ctrl_par, T_s=250e-6)"
      ]
    },
    {
      "cell_type": "markdown",
      "metadata": {},
      "source": [
        "Set the speed reference.\n\n"
      ]
    },
    {
      "cell_type": "code",
      "execution_count": null,
      "metadata": {
        "collapsed": false
      },
      "outputs": [],
      "source": [
        "# Speed reference\ntimes = np.array([0, .125, .25, .375, .5, .625, .75, .875, 1])*4\nvalues = np.array([0, 0, 1, 1, 0, -1, -1, 0, 0])*base.w\nctrl.w_m_ref = Sequence(times, values)"
      ]
    },
    {
      "cell_type": "markdown",
      "metadata": {},
      "source": [
        "Set the load torque reference\n\n"
      ]
    },
    {
      "cell_type": "code",
      "execution_count": null,
      "metadata": {
        "collapsed": false
      },
      "outputs": [],
      "source": [
        "# External load torque\ntimes = np.array([0, .125, .125, .875, .875, 1])*4\nvalues = np.array([0, 0, 1, 1, 0, 0])*base.tau_nom\nmdl.mechanics.tau_L_t = Sequence(times, values)\n\n# Quadratic load torque profile, e.g. pumps and fans (uncomment to enable)\n# k = 1.1*base.tau_nom/(base.w/base.p)**2\n# mdl.mech.tau_L_w = lambda w_M: np.sign(w_M)*k*w_M**2"
      ]
    },
    {
      "cell_type": "markdown",
      "metadata": {},
      "source": [
        "Create the simulation object and simulate it. You can also enable the PWM\nmodel (which makes simulation slower). One-sampling-period computational\ndelay is modeled.\n\n"
      ]
    },
    {
      "cell_type": "code",
      "execution_count": null,
      "metadata": {
        "collapsed": false
      },
      "outputs": [],
      "source": [
        "sim = model.Simulation(mdl, ctrl, pwm=False, delay=1)\nsim.simulate(t_stop=4)"
      ]
    },
    {
      "cell_type": "markdown",
      "metadata": {},
      "source": [
        "Plot results in per-unit values. By omitting the argument `base` you can plot\nthe results in SI units.\n\n"
      ]
    },
    {
      "cell_type": "code",
      "execution_count": null,
      "metadata": {
        "collapsed": false
      },
      "outputs": [],
      "source": [
        "plot(sim, base)"
      ]
    }
  ],
  "metadata": {
    "kernelspec": {
      "display_name": "Python 3",
      "language": "python",
      "name": "python3"
    },
    "language_info": {
      "codemirror_mode": {
        "name": "ipython",
        "version": 3
      },
      "file_extension": ".py",
      "mimetype": "text/x-python",
      "name": "python",
      "nbconvert_exporter": "python",
      "pygments_lexer": "ipython3",
      "version": "3.8.2"
    }
  },
  "nbformat": 4,
  "nbformat_minor": 0
}