{
  "cells": [
    {
      "cell_type": "markdown",
      "metadata": {},
      "source": [
        "\n# 12.5-kVA converter, disturbance observer\n\nThis example simulates a converter using disturbance-observer-based control in grid-\nforming mode. The converter output voltage and the active power are directly controlled,\nand grid synchronization is provided by the disturbance observer. A transparent current\ncontroller is included for current limitation.\n"
      ]
    },
    {
      "cell_type": "code",
      "execution_count": null,
      "metadata": {
        "collapsed": false
      },
      "outputs": [],
      "source": [
        "from motulator.grid import control, model, utils"
      ]
    },
    {
      "cell_type": "markdown",
      "metadata": {},
      "source": [
        "Compute base values based on the nominal values.\n\n"
      ]
    },
    {
      "cell_type": "code",
      "execution_count": null,
      "metadata": {
        "collapsed": false
      },
      "outputs": [],
      "source": [
        "nom = utils.NominalValues(U=400, I=18, f=50, P=12.5e3)\nbase = utils.BaseValues.from_nominal(nom)"
      ]
    },
    {
      "cell_type": "markdown",
      "metadata": {},
      "source": [
        "Configure the system model.\n\n"
      ]
    },
    {
      "cell_type": "code",
      "execution_count": null,
      "metadata": {
        "collapsed": false
      },
      "outputs": [],
      "source": [
        "ac_filter = model.LFilter(L_f=0.15 * base.L, R_f=0.05 * base.Z, L_g=0.74 * base.L)\nac_source = model.ThreePhaseSource(w_g=base.w, e_g=base.u)\nconverter = model.VoltageSourceConverter(u_dc=650)\nmdl = model.GridConverterSystem(converter, ac_filter, ac_source)"
      ]
    },
    {
      "cell_type": "markdown",
      "metadata": {},
      "source": [
        "Configure the control system.\n\n"
      ]
    },
    {
      "cell_type": "code",
      "execution_count": null,
      "metadata": {
        "collapsed": false
      },
      "outputs": [],
      "source": [
        "inner_ctrl = control.ObserverBasedGridFormingController(\n    i_max=1.3 * base.i,\n    L=0.35 * base.L,\n    R=0.05 * base.Z,\n    R_a=0.2 * base.Z,\n    u_nom=base.u,\n    w_nom=base.w,\n)\nctrl = control.GridConverterControlSystem(inner_ctrl)"
      ]
    },
    {
      "cell_type": "markdown",
      "metadata": {},
      "source": [
        "Set the references for converter output voltage magnitude and active power.\n\n"
      ]
    },
    {
      "cell_type": "code",
      "execution_count": null,
      "metadata": {
        "collapsed": false
      },
      "outputs": [],
      "source": [
        "# Converter output voltage magnitude reference\nctrl.set_ac_voltage_ref(base.u)\nctrl.set_power_ref(\n    lambda t: ((t > 0.2) / 3 + (t > 0.5) / 3 + (t > 0.8) / 3 - (t > 1.2)) * nom.P\n)\n\n# Uncomment line below to simulate operation in rectifier mode\n# ctrl.ext_ref.p_g = lambda t: ((t > 0.2) - (t > 0.7) * 2 + (t > 1.2)) * nom.P\n\n# Uncomment lines below to simulate a grid voltage sag with constant ref.p_g\n# mdl.ac_filter.L_g = 0\n# mdl.ac_source.e_g = lambda t: (1 - (t > 0.2) * 0.8 + (t > 1) * 0.8) * base.u\n# ctrl.ext_ref.p_g = lambda t: nom.P"
      ]
    },
    {
      "cell_type": "markdown",
      "metadata": {},
      "source": [
        "Create the simulation object, simulate, and plot the results in per-unit values.\n\n"
      ]
    },
    {
      "cell_type": "code",
      "execution_count": null,
      "metadata": {
        "collapsed": false
      },
      "outputs": [],
      "source": [
        "sim = model.Simulation(mdl, ctrl)\nres = sim.simulate(t_stop=1.4)\nutils.plot(res, base)"
      ]
    }
  ],
  "metadata": {
    "kernelspec": {
      "display_name": "Python 3",
      "language": "python",
      "name": "python3"
    },
    "language_info": {
      "codemirror_mode": {
        "name": "ipython",
        "version": 3
      },
      "file_extension": ".py",
      "mimetype": "text/x-python",
      "name": "python",
      "nbconvert_exporter": "python",
      "pygments_lexer": "ipython3",
      "version": "3.12.10"
    }
  },
  "nbformat": 4,
  "nbformat_minor": 0
}