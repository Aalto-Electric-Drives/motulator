{
  "cells": [
    {
      "cell_type": "markdown",
      "metadata": {},
      "source": [
        "\n# 6.7-kW SyRM, saturated\n\nThis example simulates observer-based V/Hz control of a saturated 6.7-kW\nsynchronous reluctance motor drive. The saturation is not taken into account\nin the control method (only in the system model).\n"
      ]
    },
    {
      "cell_type": "code",
      "execution_count": null,
      "metadata": {
        "collapsed": false
      },
      "outputs": [],
      "source": [
        "import numpy as np\nfrom motulator.drive import model\nimport motulator.drive.control.sm as control\nfrom motulator.drive.utils import (\n    BaseValues, NominalValues, plot, Sequence, SynchronousMachinePars)"
      ]
    },
    {
      "cell_type": "markdown",
      "metadata": {},
      "source": [
        "Compute base values based on the nominal values (just for figures).\n\n"
      ]
    },
    {
      "cell_type": "code",
      "execution_count": null,
      "metadata": {
        "collapsed": false
      },
      "outputs": [],
      "source": [
        "nom = NominalValues(U=370, I=15.5, f=105.8, P=6.7e3, tau=20.1)\nbase = BaseValues.from_nominal(nom, n_p=2)"
      ]
    },
    {
      "cell_type": "markdown",
      "metadata": {},
      "source": [
        "A saturation model is created based on [#Hin2017]_, [#Awa2018]_. For\nsimplicity, the saturation model parameters are hard-coded in function below,\nbut the same model structure can also be used for other synchronous motors.\nFor PM motors, the magnetomotive force (MMF) of the PMs can be modeled using\nconstant current source `i_f` on the d-axis [#Awa2018]_, [#Jah1986]_.\nCorrespondingly, this approach assumes that the MMFs of the d-axis current\nand of the PMs are in series. This model cannot capture the desaturation\nphenomenon of thin iron ribs, see [#Arm2009]_ for details. For such motors,\nlook-up tables can be used.\n\n"
      ]
    },
    {
      "cell_type": "code",
      "execution_count": null,
      "metadata": {
        "collapsed": false
      },
      "outputs": [],
      "source": [
        "def i_s(psi_s):\n    \"\"\"\n    Magnetic model for a 6.7-kW synchronous reluctance motor.\n\n    Parameters\n    ----------\n    psi_s : complex\n        Stator flux linkage (Vs).\n\n    Returns\n    -------\n    complex\n        Stator current (A).\n\n    Notes\n    -----\n    For nonzero `i_f`, the initial value of the stator flux linkage `psi_s0` \n    needs to be solved, e.g., as follows::\n\n    from scipy.optimize import minimize_scalar\n    res = minimize_scalar(\n        lambda psi_d: np.abs(\n                    (a_d0 + a_dd*np.abs(psi_d)**S)*psi_d - i_f))\n    psi_s0 = complex(res.x)\n\n    \"\"\"\n    # Parameters\n    a_d0, a_dd, S = 17.4, 373., 5  # d-axis self-saturation\n    a_q0, a_qq, T = 52.1, 658., 1  # q-axis self-saturation\n    a_dq, U, V = 1120., 1, 0  # Cross-saturation\n    i_f = 0  # MMF of PMs\n    # Inverse inductance functions\n    G_d = a_d0 + a_dd*np.abs(psi_s.real)**S + (\n        a_dq/(V + 2)*np.abs(psi_s.real)**U*np.abs(psi_s.imag)**(V + 2))\n    G_q = a_q0 + a_qq*np.abs(psi_s.imag)**T + (\n        a_dq/(U + 2)*np.abs(psi_s.real)**(U + 2)*np.abs(psi_s.imag)**V)\n    # Stator current\n    return G_d*psi_s.real - i_f + 1j*G_q*psi_s.imag"
      ]
    },
    {
      "cell_type": "markdown",
      "metadata": {},
      "source": [
        "Configure the system model.\n\n"
      ]
    },
    {
      "cell_type": "code",
      "execution_count": null,
      "metadata": {
        "collapsed": false
      },
      "outputs": [],
      "source": [
        "mdl_par = SynchronousMachinePars(n_p=2, R_s=.54)\nmachine = model.SynchronousMachine(mdl_par, i_s=i_s, psi_s0=0)\n# Magnetically linear SyRM model for comparison\n# mdl_par = SynchronousMachinePars(\n#     n_p=2, R_s=.54, L_d=37e-3, L_q=6.2e-3, psi_f=0)\n# machine = model.SynchronousMachine(mdl_par)\nmechanics = model.Mechanics(J=.015)\nconverter = model.Inverter(u_dc=540)\nmdl = model.Drive(converter, machine, mechanics)"
      ]
    },
    {
      "cell_type": "markdown",
      "metadata": {},
      "source": [
        "Configure the control system.\n\n"
      ]
    },
    {
      "cell_type": "code",
      "execution_count": null,
      "metadata": {
        "collapsed": false
      },
      "outputs": [],
      "source": [
        "par = SynchronousMachinePars(n_p=2, R_s=.54, L_d=37e-3, L_q=6.2e-3, psi_f=0)\ncfg = control.ObserverBasedVHzCtrlCfg(\n    par, max_i_s=2*base.i, min_psi_s=base.psi, max_psi_s=base.psi)\nctrl = control.ObserverBasedVHzCtrl(par, cfg)"
      ]
    },
    {
      "cell_type": "markdown",
      "metadata": {},
      "source": [
        "Set the speed reference and the external load torque.\n\n"
      ]
    },
    {
      "cell_type": "code",
      "execution_count": null,
      "metadata": {
        "collapsed": false
      },
      "outputs": [],
      "source": [
        "# Speed reference\ntimes = np.array([0, .125, .25, .375, .5, .625, .75, .875, 1])*8\nvalues = np.array([0, 0, 1, 1, 0, -1, -1, 0, 0])*base.w\nctrl.ref.w_m = Sequence(times, values)\n# External load torque\ntimes = np.array([0, .125, .125, .875, .875, 1])*8\nvalues = np.array([0, 0, 1, 1, 0, 0])*nom.tau\nmdl.mechanics.tau_L_t = Sequence(times, values)"
      ]
    },
    {
      "cell_type": "markdown",
      "metadata": {},
      "source": [
        "Create the simulation object and simulate it.\n\n"
      ]
    },
    {
      "cell_type": "code",
      "execution_count": null,
      "metadata": {
        "collapsed": false
      },
      "outputs": [],
      "source": [
        "sim = model.Simulation(mdl, ctrl)\nsim.simulate(t_stop=8)"
      ]
    },
    {
      "cell_type": "markdown",
      "metadata": {},
      "source": [
        "Plot results in per-unit values. By omitting the argument `base` you can plot\nthe results in SI units.\n\n"
      ]
    },
    {
      "cell_type": "code",
      "execution_count": null,
      "metadata": {
        "collapsed": false
      },
      "outputs": [],
      "source": [
        "plot(sim, base)"
      ]
    },
    {
      "cell_type": "markdown",
      "metadata": {},
      "source": [
        ".. rubric:: References\n\n.. [#Hin2017] Hinkkanen, Pescetto, M\u00f6ls\u00e4, Saarakkala, Pellegrino, Bojoi,\n   \u201cSensorless self-commissioning of synchronous reluctance motors at\n   standstill without rotor locking, \u201dIEEE Trans. Ind. Appl., 2017,\n   https://doi.org/10.1109/TIA.2016.2644624\n\n.. [#Awa2018] Awan, Song, Saarakkala, Hinkkanen, \"Optimal torque control of\n   saturated synchronous motors: plug-and-play method,\" IEEE Trans. Ind.\n   Appl., 2018, https://doi.org/10.1109/TIA.2018.2862410\n\n.. [#Jah1986] Jahns, Kliman, Neumann, \u201cInterior permanent-magnet synchronous\n   motors for adjustable-speed drives,\u201d IEEE Trans. Ind. Appl., 1986,\n   https://doi.org/10.1109/TIA.1986.4504786\n\n.. [#Arm2009] Armando, Guglielmi, Pellegrino, Pastorelli, Vagati, \"Accurate\n   modeling and performance analysis of IPM-PMASR motors,\" IEEE Trans. Ind.\n   Appl., 2009, https://doi.org/10.1109/TIA.2008.2009493\n\n"
      ]
    }
  ],
  "metadata": {
    "kernelspec": {
      "display_name": "Python 3",
      "language": "python",
      "name": "python3"
    },
    "language_info": {
      "codemirror_mode": {
        "name": "ipython",
        "version": 3
      },
      "file_extension": ".py",
      "mimetype": "text/x-python",
      "name": "python",
      "nbconvert_exporter": "python",
      "pygments_lexer": "ipython3",
      "version": "3.8.2"
    }
  },
  "nbformat": 4,
  "nbformat_minor": 0
}