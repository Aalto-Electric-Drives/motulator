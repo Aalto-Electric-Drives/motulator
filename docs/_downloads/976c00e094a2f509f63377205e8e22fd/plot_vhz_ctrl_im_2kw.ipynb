{
  "cells": [
    {
      "cell_type": "markdown",
      "metadata": {},
      "source": [
        "\n# 2.2-kW induction motor, diode bridge\n\nA diode bridge, stiff three-phase grid, and a DC link is modeled. The default\nparameters in this example yield open-loop V/Hz control. \n"
      ]
    },
    {
      "cell_type": "markdown",
      "metadata": {},
      "source": [
        "%%\nImports.\n\n"
      ]
    },
    {
      "cell_type": "code",
      "execution_count": null,
      "metadata": {
        "collapsed": false
      },
      "outputs": [],
      "source": [
        "import numpy as np\nfrom motulator import model, control\nfrom motulator import BaseValues, plot, plot_extra"
      ]
    },
    {
      "cell_type": "markdown",
      "metadata": {},
      "source": [
        "Compute base values based on the nominal values (just for figures).\n\n"
      ]
    },
    {
      "cell_type": "code",
      "execution_count": null,
      "metadata": {
        "collapsed": false
      },
      "outputs": [],
      "source": [
        "base = BaseValues(\n    U_nom=400, I_nom=5, f_nom=50, tau_nom=14.6, P_nom=2.2e3, n_p=2)"
      ]
    },
    {
      "cell_type": "markdown",
      "metadata": {},
      "source": [
        "Create the system model.\n\n"
      ]
    },
    {
      "cell_type": "code",
      "execution_count": null,
      "metadata": {
        "collapsed": false
      },
      "outputs": [],
      "source": [
        "# Machine model, using its inverse-\u0393 parameters\nmachine = model.im.InductionMachineInvGamma(\n    R_s=3.7, R_R=2.1, L_sgm=.021, L_M=.224, n_p=2)\n# Mechanics model\nmechanics = model.Mechanics(J=.015)\n# Frequency converter with a diode bridge\nconverter = model.FrequencyConverter(L=2e-3, C=235e-6, U_g=400, f_g=50)\nmdl = model.im.DriveWithDiodeBridge(machine, mechanics, converter)"
      ]
    },
    {
      "cell_type": "markdown",
      "metadata": {},
      "source": [
        "Control system (parametrized as open-loop V/Hz control).\n\n"
      ]
    },
    {
      "cell_type": "code",
      "execution_count": null,
      "metadata": {
        "collapsed": false
      },
      "outputs": [],
      "source": [
        "# Inverse-\u0393 model parameter estimates\npar = control.im.ModelPars(R_s=0*3.7, R_R=0*2.1, L_sgm=.021, L_M=.224)\nctrl = control.im.VHzCtrl(250e-6, par, psi_s_nom=base.psi, k_u=0, k_w=0)\nctrl.rate_limiter = control.RateLimiter(2*np.pi*120)"
      ]
    },
    {
      "cell_type": "markdown",
      "metadata": {},
      "source": [
        "Set the speed reference and the external load torque. More complicated\nsignals could be defined as functions.\n\n"
      ]
    },
    {
      "cell_type": "code",
      "execution_count": null,
      "metadata": {
        "collapsed": false
      },
      "outputs": [],
      "source": [
        "ctrl.w_m_ref = lambda t: (t > .2)*(1.*base.w)\n\n# Quadratic load torque profile (corresponding to pumps and fans)\nk = 1.1*base.tau_nom/(base.w/base.n_p)**2\nmdl.mechanics.tau_L_w = lambda w_M: k*w_M**2*np.sign(w_M)\n\n# Stepwise load torque at t = 1 s, 20% of the rated torque\nmdl.mechanics.tau_L_t = lambda t: (t > 1.)*base.tau_nom*.2"
      ]
    },
    {
      "cell_type": "markdown",
      "metadata": {},
      "source": [
        "Create the simulation object and simulate it. The option `pwm=True` enables\nthe model for the carrier comparison.\n\n"
      ]
    },
    {
      "cell_type": "code",
      "execution_count": null,
      "metadata": {
        "collapsed": false
      },
      "outputs": [],
      "source": [
        "sim = model.Simulation(mdl, ctrl, pwm=True)\nsim.simulate(t_stop=1.5)"
      ]
    },
    {
      "cell_type": "markdown",
      "metadata": {},
      "source": [
        "Plot results in per-unit values.\n\n<div class=\"alert alert-info\"><h4>Note</h4><p>The DC link of this particular example is actually unstable at 1-p.u.\n   speed at the rated load torque, since the inverter looks like a negative\n   resistance to the DC link. You could notice this instability if simulating\n   a longer period (e.g. set `t_stop=2`). For analysis, see e.g., [#Hin2007]_.</p></div>\n\n"
      ]
    },
    {
      "cell_type": "code",
      "execution_count": null,
      "metadata": {
        "collapsed": false
      },
      "outputs": [],
      "source": [
        "# sphinx_gallery_thumbnail_number = 2\nplot(sim, base)\nplot_extra(sim, t_span=(1.1, 1.125), base=base)"
      ]
    },
    {
      "cell_type": "markdown",
      "metadata": {},
      "source": [
        ".. rubric:: References\n\n.. [#Hin2007] Hinkkanen, Harnefors, Luomi, \"Control of induction motor drives\n   equipped with small DC-Link capacitance,\" Proc. EPE, 2007,\n   https://doi.org/10.1109/EPE.2007.4417763\n\n"
      ]
    }
  ],
  "metadata": {
    "kernelspec": {
      "display_name": "Python 3",
      "language": "python",
      "name": "python3"
    },
    "language_info": {
      "codemirror_mode": {
        "name": "ipython",
        "version": 3
      },
      "file_extension": ".py",
      "mimetype": "text/x-python",
      "name": "python",
      "nbconvert_exporter": "python",
      "pygments_lexer": "ipython3",
      "version": "3.8.2"
    }
  },
  "nbformat": 4,
  "nbformat_minor": 0
}