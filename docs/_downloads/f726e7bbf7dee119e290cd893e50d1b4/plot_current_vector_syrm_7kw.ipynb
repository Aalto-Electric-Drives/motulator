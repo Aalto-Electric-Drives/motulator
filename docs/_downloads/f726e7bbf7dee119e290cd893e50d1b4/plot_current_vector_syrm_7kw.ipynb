{
  "cells": [
    {
      "cell_type": "markdown",
      "metadata": {},
      "source": [
        "\n# 6.7-kW SyRM\n\nThis example simulates sensorless current-vector control of a 6.7-kW SyRM drive.\n"
      ]
    },
    {
      "cell_type": "code",
      "execution_count": null,
      "metadata": {
        "collapsed": false
      },
      "outputs": [],
      "source": [
        "from math import pi\n\nimport motulator.drive.control.sm as control\nfrom motulator.drive import model, utils"
      ]
    },
    {
      "cell_type": "markdown",
      "metadata": {},
      "source": [
        "Compute base values based on the nominal values (just for figures).\n\n"
      ]
    },
    {
      "cell_type": "code",
      "execution_count": null,
      "metadata": {
        "collapsed": false
      },
      "outputs": [],
      "source": [
        "nom = utils.NominalValues(U=370, I=15.5, f=105.8, P=6.7e3, tau=20.1)\nbase = utils.BaseValues.from_nominal(nom, n_p=2)"
      ]
    },
    {
      "cell_type": "markdown",
      "metadata": {},
      "source": [
        "Configure the system model.\n\n"
      ]
    },
    {
      "cell_type": "code",
      "execution_count": null,
      "metadata": {
        "collapsed": false
      },
      "outputs": [],
      "source": [
        "par = model.SynchronousMachinePars(\n    n_p=2, R_s=0.54, L_d=41.5e-3, L_q=6.2e-3, psi_f=0, kind=\"rel\"\n)\nmachine = model.SynchronousMachine(par)\nmechanics = model.MechanicalSystem(J=0.015)\nconverter = model.VoltageSourceConverter(u_dc=540)\nmdl = model.Drive(machine, mechanics, converter)"
      ]
    },
    {
      "cell_type": "markdown",
      "metadata": {},
      "source": [
        "Configure the control system.\n\n"
      ]
    },
    {
      "cell_type": "code",
      "execution_count": null,
      "metadata": {
        "collapsed": false
      },
      "outputs": [],
      "source": [
        "est_par = par  # Assume accurate model parameter estimates\ncfg = control.CurrentVectorControllerCfg(\n    i_s_max=1.5 * base.i, psi_s_min=0.5 * base.psi, psi_s_max=1.5 * base.psi\n)\nvector_ctrl = control.CurrentVectorController(est_par, cfg)\nspeed_ctrl = control.SpeedController(J=0.015, alpha_s=2 * pi * 4)\nctrl = control.VectorControlSystem(vector_ctrl, speed_ctrl)"
      ]
    },
    {
      "cell_type": "markdown",
      "metadata": {},
      "source": [
        "Set the speed reference and the external load torque.\n\n"
      ]
    },
    {
      "cell_type": "code",
      "execution_count": null,
      "metadata": {
        "collapsed": false
      },
      "outputs": [],
      "source": [
        "ctrl.set_speed_ref(lambda t: (t > 0.2) * base.w_M)\nmdl.mechanics.set_external_load_torque(lambda t: (t > 0.6) * nom.tau)"
      ]
    },
    {
      "cell_type": "markdown",
      "metadata": {},
      "source": [
        "Create the simulation object, simulate, and plot results in per-unit values.\n\n"
      ]
    },
    {
      "cell_type": "code",
      "execution_count": null,
      "metadata": {
        "collapsed": false
      },
      "outputs": [],
      "source": [
        "sim = model.Simulation(mdl, ctrl)\nres = sim.simulate(t_stop=1)\nutils.plot(res, base)"
      ]
    }
  ],
  "metadata": {
    "kernelspec": {
      "display_name": "Python 3",
      "language": "python",
      "name": "python3"
    },
    "language_info": {
      "codemirror_mode": {
        "name": "ipython",
        "version": 3
      },
      "file_extension": ".py",
      "mimetype": "text/x-python",
      "name": "python",
      "nbconvert_exporter": "python",
      "pygments_lexer": "ipython3",
      "version": "3.12.10"
    }
  },
  "nbformat": 4,
  "nbformat_minor": 0
}