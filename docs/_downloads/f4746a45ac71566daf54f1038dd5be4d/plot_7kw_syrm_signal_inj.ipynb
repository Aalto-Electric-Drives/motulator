{
  "cells": [
    {
      "cell_type": "markdown",
      "metadata": {},
      "source": [
        "\n# 6.7-kW saturated SyRM, signal injection\n\nThis example simulates sensorless vector control of a saturated 6.7-kW synchronous\nreluctance machine (SyRM). Square-wave signal injection with a simple phase-locked loop\nis used. Cross-saturation errors are compensated for using flux maps. Square-wave\nsignal injection with a simple phase-locked loop is used.\n"
      ]
    },
    {
      "cell_type": "code",
      "execution_count": null,
      "metadata": {
        "collapsed": false
      },
      "outputs": [],
      "source": [
        "import matplotlib.pyplot as plt\nimport numpy as np\n\nimport motulator.drive.control.sm as control\nfrom motulator.drive import model, utils"
      ]
    },
    {
      "cell_type": "markdown",
      "metadata": {},
      "source": [
        "Compute base values based on the nominal values.\n\n"
      ]
    },
    {
      "cell_type": "code",
      "execution_count": null,
      "metadata": {
        "collapsed": false
      },
      "outputs": [],
      "source": [
        "nom = utils.NominalValues(U=370, I=15.5, f=105.8, P=6.7e3, tau=20.1)\nbase = utils.BaseValues.from_nominal(nom, n_p=2)"
      ]
    },
    {
      "cell_type": "markdown",
      "metadata": {},
      "source": [
        "Configure the system model.\n\n"
      ]
    },
    {
      "cell_type": "code",
      "execution_count": null,
      "metadata": {
        "collapsed": false
      },
      "outputs": [],
      "source": [
        "# Use analytical saturation model\ncurr_map = utils.SaturationModelSyRM(\n    a_d0=17.4, a_dd=373, S=5, a_q0=52.1, a_qq=658, T=1, a_dq=1120, U=1, V=0\n)\npar = model.SaturatedSynchronousMachinePars(\n    n_p=2, R_s=0.54, i_s_dq_fcn=curr_map, kind=\"rel\"\n)\nmachine = model.SynchronousMachine(par)\nmechanics = model.MechanicalSystem(J=0.015)\nconverter = model.VoltageSourceConverter(u_dc=540)\nmdl = model.Drive(machine, mechanics, converter)"
      ]
    },
    {
      "cell_type": "markdown",
      "metadata": {},
      "source": [
        "Configure the control system.\n\n"
      ]
    },
    {
      "cell_type": "code",
      "execution_count": null,
      "metadata": {
        "collapsed": false
      },
      "outputs": [],
      "source": [
        "# Compute rectilinear current and flux maps\npsi_d_range = np.linspace(-1.5 * base.psi, 1.5 * base.psi, 32)\npsi_q_range = np.linspace(-0.5 * base.psi, 0.5 * base.psi, 32)\ncurr_map = curr_map.as_magnetic_model(psi_d_range, psi_q_range)\nflux_map = curr_map.invert()\n\n# Parameter estimates, stator resistance not needed\nest_par = model.SaturatedSynchronousMachinePars(\n    n_p=2, R_s=0, i_s_dq_fcn=curr_map, psi_s_dq_fcn=flux_map, kind=\"rel\"\n)\ncfg = control.CurrentVectorControllerCfg(\n    i_s_max=2 * base.i, psi_s_min=0.5 * base.psi, alpha_o=2 * np.pi * 40\n)\nvector_ctrl = control.SignalInjectionController(est_par, cfg)\nspeed_ctrl = control.SpeedController(J=0.015, alpha_s=2 * np.pi * 4)\nctrl = control.VectorControlSystem(vector_ctrl, speed_ctrl)"
      ]
    },
    {
      "cell_type": "markdown",
      "metadata": {},
      "source": [
        "Set the speed reference and the external load torque.\n\n"
      ]
    },
    {
      "cell_type": "code",
      "execution_count": null,
      "metadata": {
        "collapsed": false
      },
      "outputs": [],
      "source": [
        "t_stop = 4\ntimes = np.array([0, 0.25, 0.25, 0.375, 0.5, 0.625, 0.75, 0.75, 1]) * t_stop\nvalues = np.array([0, 0, 1, 1, 0, -1, -1, 0, 0]) * 0.1 * base.w_M\nctrl.set_speed_ref(utils.SequenceGenerator(times, values))\n\ntimes = np.array([0, 0.125, 0.125, 0.875, 0.875, 1]) * t_stop\nvalues = np.array([0, 0, 1, 1, 0, 0]) * nom.tau\nmdl.mechanics.set_external_load_torque(utils.SequenceGenerator(times, values))"
      ]
    },
    {
      "cell_type": "markdown",
      "metadata": {},
      "source": [
        "Create the simulation object, simulate, and plot the results in per-unit values.\n\n"
      ]
    },
    {
      "cell_type": "code",
      "execution_count": null,
      "metadata": {
        "collapsed": false
      },
      "outputs": [],
      "source": [
        "sim = model.Simulation(mdl, ctrl)\nres = sim.simulate(t_stop)\nutils.plot(res, base)"
      ]
    },
    {
      "cell_type": "markdown",
      "metadata": {},
      "source": [
        "Plot also the angles.\n\n"
      ]
    },
    {
      "cell_type": "code",
      "execution_count": null,
      "metadata": {
        "collapsed": false
      },
      "outputs": [],
      "source": [
        "plt.figure()\nplt.plot(res.mdl.t, res.mdl.machine.theta_m, label=r\"$\\vartheta_\\mathrm{m}$\")\nplt.plot(\n    res.ctrl.t,\n    res.ctrl.fbk.theta_m,\n    ds=\"steps-post\",\n    label=r\"$\\hat \\vartheta_\\mathrm{m}$\",\n)\nplt.legend()\nplt.xlim(0, 4)\nplt.xlabel(\"Time (s)\")\nplt.ylabel(\"Electrical angle (rad)\")\nplt.show()"
      ]
    }
  ],
  "metadata": {
    "kernelspec": {
      "display_name": "Python 3",
      "language": "python",
      "name": "python3"
    },
    "language_info": {
      "codemirror_mode": {
        "name": "ipython",
        "version": 3
      },
      "file_extension": ".py",
      "mimetype": "text/x-python",
      "name": "python",
      "nbconvert_exporter": "python",
      "pygments_lexer": "ipython3",
      "version": "3.12.11"
    }
  },
  "nbformat": 4,
  "nbformat_minor": 0
}