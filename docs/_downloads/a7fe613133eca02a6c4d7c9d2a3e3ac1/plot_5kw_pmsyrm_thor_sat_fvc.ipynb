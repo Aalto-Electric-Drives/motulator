{
  "cells": [
    {
      "cell_type": "markdown",
      "metadata": {},
      "source": [
        "\n# 5.1-kW saturated PM-SyRM, FVC\n\nThis example simulates sensorless flux-vector control (FVC) of a saturated 5.1-kW\npermanent-magnet synchronous reluctance machine (PM-SyRM). The flux maps of this example\nmachine, known as THOR, are from the SyR-e project:\n\n    https://github.com/SyR-e/syre_public\n\nThe SyR-e project has been licensed under the Apache License, Version 2.0. We\nacknowledge the developers of the SyR-e project. The flux maps from other sources can be\nused in a similar manner.\n\nThe control system takes the saturation into account. This example also applies the\nmechanical-model-based speed observer.\n"
      ]
    },
    {
      "cell_type": "code",
      "execution_count": null,
      "metadata": {
        "collapsed": false
      },
      "outputs": [],
      "source": [
        "from pathlib import Path\n\nimport numpy as np\nfrom scipy.interpolate import LinearNDInterpolator\n\nimport motulator.drive.control.sm as control\nfrom motulator.drive import model, utils"
      ]
    },
    {
      "cell_type": "markdown",
      "metadata": {},
      "source": [
        "Compute base values based on the nominal values (just for figures).\n\n"
      ]
    },
    {
      "cell_type": "code",
      "execution_count": null,
      "metadata": {
        "collapsed": false
      },
      "outputs": [],
      "source": [
        "nom = utils.NominalValues(U=220, I=15.6, f=85, P=5.07e3, tau=19)\nbase = utils.BaseValues.from_nominal(nom, n_p=2)"
      ]
    },
    {
      "cell_type": "markdown",
      "metadata": {},
      "source": [
        "Load the flux maps.\n\n"
      ]
    },
    {
      "cell_type": "code",
      "execution_count": null,
      "metadata": {
        "collapsed": false
      },
      "outputs": [],
      "source": [
        "# Get the path of the MATLAB file and load the FEM data\np = Path(__file__).resolve().parent if \"__file__\" in globals() else Path.cwd()\nfem_flux_map = utils.import_syre_data(str(p / \"THOR.mat\"))"
      ]
    },
    {
      "cell_type": "markdown",
      "metadata": {},
      "source": [
        "Plot the maps in per-unit values.\n\n"
      ]
    },
    {
      "cell_type": "code",
      "execution_count": null,
      "metadata": {
        "collapsed": false
      },
      "outputs": [],
      "source": [
        "# sphinx_gallery_thumbnail_number = 3\nutils.plot_map(fem_flux_map, \"d\", base, x_lims=(-2, 2), y_lims=(-2, 2))\nutils.plot_map(fem_flux_map, \"q\", base, x_lims=(-2, 2), y_lims=(-2, 2))"
      ]
    },
    {
      "cell_type": "markdown",
      "metadata": {},
      "source": [
        "Two-dimensional presentation of flux maps.\n\n"
      ]
    },
    {
      "cell_type": "code",
      "execution_count": null,
      "metadata": {
        "collapsed": false
      },
      "outputs": [],
      "source": [
        "utils.plot_flux_vs_current(fem_flux_map, base, lims=(-2, 2))"
      ]
    },
    {
      "cell_type": "markdown",
      "metadata": {},
      "source": [
        "Configure the system model.\n\n"
      ]
    },
    {
      "cell_type": "code",
      "execution_count": null,
      "metadata": {
        "collapsed": false
      },
      "outputs": [],
      "source": [
        "# Create the current map interpolator directly from the FEM data\npoints = np.column_stack(\n    (np.real(fem_flux_map.psi_s_dq.ravel()), np.imag(fem_flux_map.psi_s_dq.ravel()))\n)\nmdl_curr_map = LinearNDInterpolator(points, fem_flux_map.i_s_dq.ravel())\n\n# Machine model parameters\npar = model.SaturatedSynchronousMachinePars(\n    n_p=2,\n    R_s=0.2,\n    i_s_dq_fcn=lambda psi_s_dq: mdl_curr_map((np.real(psi_s_dq), np.imag(psi_s_dq))),\n)\nmachine = model.SynchronousMachine(par)\nk = 0.25 * nom.tau / base.w_M**2  # Quadratic load torque profile\nmechanics = model.MechanicalSystem(J=2 * 0.0042, B_L=lambda w_M: k * abs(w_M))\nconverter = model.VoltageSourceConverter(u_dc=310)\nmdl = model.Drive(machine, mechanics, converter)"
      ]
    },
    {
      "cell_type": "markdown",
      "metadata": {},
      "source": [
        "Configure the control system.\n\n"
      ]
    },
    {
      "cell_type": "code",
      "execution_count": null,
      "metadata": {
        "collapsed": false
      },
      "outputs": [],
      "source": [
        "# Create the flux and current maps for the control system\nfem_curr_map = fem_flux_map.invert()\nest_par = control.SaturatedSynchronousMachinePars(\n    n_p=2, R_s=0.2, i_s_dq_fcn=fem_curr_map, psi_s_dq_fcn=fem_flux_map\n)\n# Since the inertia `J` is provided, the mechanical-model-based speed observer is used\ncfg = control.FluxVectorControllerCfg(i_s_max=2 * base.i, J=2 * 0.0042, alpha_i=0)\nvector_ctrl = control.FluxVectorController(est_par, cfg, sensorless=True)\nspeed_ctrl = control.SpeedController(J=2 * 0.0042, alpha_s=2 * np.pi * 4)\nctrl = control.VectorControlSystem(vector_ctrl, speed_ctrl)"
      ]
    },
    {
      "cell_type": "markdown",
      "metadata": {},
      "source": [
        "Set the speed reference and the external load torque.\n\n"
      ]
    },
    {
      "cell_type": "code",
      "execution_count": null,
      "metadata": {
        "collapsed": false
      },
      "outputs": [],
      "source": [
        "ctrl.set_speed_ref(lambda t: (t > 0.2) * 2 * base.w_M)"
      ]
    },
    {
      "cell_type": "markdown",
      "metadata": {},
      "source": [
        "Create the simulation object, simulate, and plot the results in per-unit values.\n\n"
      ]
    },
    {
      "cell_type": "code",
      "execution_count": null,
      "metadata": {
        "collapsed": false
      },
      "outputs": [],
      "source": [
        "sim = model.Simulation(mdl, ctrl)\nres = sim.simulate(t_stop=1)\nutils.plot(res, base)"
      ]
    }
  ],
  "metadata": {
    "kernelspec": {
      "display_name": "Python 3",
      "language": "python",
      "name": "python3"
    },
    "language_info": {
      "codemirror_mode": {
        "name": "ipython",
        "version": 3
      },
      "file_extension": ".py",
      "mimetype": "text/x-python",
      "name": "python",
      "nbconvert_exporter": "python",
      "pygments_lexer": "ipython3",
      "version": "3.12.11"
    }
  },
  "nbformat": 4,
  "nbformat_minor": 0
}