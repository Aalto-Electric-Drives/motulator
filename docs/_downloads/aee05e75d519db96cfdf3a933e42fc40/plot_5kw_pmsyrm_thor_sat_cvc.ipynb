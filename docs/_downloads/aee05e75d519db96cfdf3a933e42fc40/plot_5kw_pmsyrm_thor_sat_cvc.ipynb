{
  "cells": [
    {
      "cell_type": "markdown",
      "metadata": {},
      "source": [
        "\n# 5.1-kW saturated PM-SyRM, CVC\n\nThis example simulates sensorless current-vector control (CVC) of a saturated 5.1-kW\npermanent-magnet synchronous reluctance machine (PM-SyRM). The flux maps of this example\nmachine, known as THOR, are from the SyR-e project:\n\n    https://github.com/SyR-e/syre_public\n\nThe SyR-e project has been licensed under the Apache License, Version 2.0. We\nacknowledge the developers of the SyR-e project. The flux maps from other sources can be\nused in a similar manner.\n\nThe control system takes the saturation into account. This example also demonstrates the\nmechanical-model-based speed observer [#Lor1991]_. The lag of the speed estimate in\naccelerations is avoided, allowing to increase the speed-control bandwidth.\n"
      ]
    },
    {
      "cell_type": "code",
      "execution_count": null,
      "metadata": {
        "collapsed": false
      },
      "outputs": [],
      "source": [
        "from math import pi\nfrom pathlib import Path\n\nimport motulator.drive.control.sm as control\nfrom motulator.drive import model, utils"
      ]
    },
    {
      "cell_type": "markdown",
      "metadata": {},
      "source": [
        "Compute base values based on the nominal values (just for figures).\n\n"
      ]
    },
    {
      "cell_type": "code",
      "execution_count": null,
      "metadata": {
        "collapsed": false
      },
      "outputs": [],
      "source": [
        "nom = utils.NominalValues(U=220, I=15.6, f=85, P=5.07e3, tau=19)\nbase = utils.BaseValues.from_nominal(nom, n_p=2)"
      ]
    },
    {
      "cell_type": "markdown",
      "metadata": {},
      "source": [
        "Load and plot the flux maps.\n\n"
      ]
    },
    {
      "cell_type": "code",
      "execution_count": null,
      "metadata": {
        "collapsed": false
      },
      "outputs": [],
      "source": [
        "# Get the path of the MATLAB file and load the FEM data\np = Path(__file__).resolve().parent if \"__file__\" in globals() else Path.cwd()\nfem_flux_map = utils.import_syre_data(str(p / \"THOR.mat\"))\nutils.plot_map(fem_flux_map, \"d\", base, lims={\"x\": (-2, 2), \"y\": (-2, 2)})\nutils.plot_map(fem_flux_map, \"q\", base, lims={\"x\": (-2, 2), \"y\": (-2, 2)})"
      ]
    },
    {
      "cell_type": "markdown",
      "metadata": {},
      "source": [
        "Configure the system model.\n\n"
      ]
    },
    {
      "cell_type": "code",
      "execution_count": null,
      "metadata": {
        "collapsed": false
      },
      "outputs": [],
      "source": [
        "# Create the machine model\nfem_curr_map = fem_flux_map.invert()\npar = model.SaturatedSynchronousMachinePars(n_p=2, R_s=0.2, i_s_dq_fcn=fem_curr_map)\nmachine = model.SynchronousMachine(par)\nk = 0.1 * nom.tau / base.w_M**2  # Quadratic load torque profile\nmechanics = model.MechanicalSystem(J=2 * 0.0042, B_L=lambda w_M: k * abs(w_M))\nconverter = model.VoltageSourceConverter(u_dc=310)\nmdl = model.Drive(machine, mechanics, converter)"
      ]
    },
    {
      "cell_type": "markdown",
      "metadata": {},
      "source": [
        "Configure the control system. Since the inertia estimate `J` is provided in\n`CurrentVectorControllerCfg`, the mechanical-model-based speed observer is used.\n\n"
      ]
    },
    {
      "cell_type": "code",
      "execution_count": null,
      "metadata": {
        "collapsed": false
      },
      "outputs": [],
      "source": [
        "est_par = control.SaturatedSynchronousMachinePars(\n    n_p=2, R_s=0.2, i_s_dq_fcn=fem_curr_map, psi_s_dq_fcn=fem_flux_map\n)\ncfg = control.CurrentVectorControllerCfg(i_s_max=2 * base.i, J=2 * 0.0042)\nvector_ctrl = control.CurrentVectorController(est_par, cfg, sensorless=True)\nspeed_ctrl = control.SpeedController(J=2 * 0.0042, alpha_s=2 * pi * 4)\nctrl = control.VectorControlSystem(vector_ctrl, speed_ctrl)"
      ]
    },
    {
      "cell_type": "markdown",
      "metadata": {},
      "source": [
        "Plot control characteristics.\n\n"
      ]
    },
    {
      "cell_type": "code",
      "execution_count": null,
      "metadata": {
        "collapsed": false
      },
      "outputs": [],
      "source": [
        "# sphinx_gallery_thumbnail_number = 4\ni_s_vals = [1, 1.5, 2]  # Current values for the plots\nmc = utils.MachineCharacteristics(est_par)\nmc.plot_flux_vs_torque(i_s_vals, base)\nmc.plot_current_vs_torque(i_s_vals, base)\nmc.plot_current_loci(i_s_vals, base)\nmc.plot_flux_loci(i_s_vals, base)"
      ]
    },
    {
      "cell_type": "markdown",
      "metadata": {},
      "source": [
        "Set the speed reference and the external load torque.\n\n"
      ]
    },
    {
      "cell_type": "code",
      "execution_count": null,
      "metadata": {
        "collapsed": false
      },
      "outputs": [],
      "source": [
        "ctrl.set_speed_ref(lambda t: (t > 0.2) * 2 * base.w_M)\nmdl.mechanics.set_external_load_torque(lambda t: (t > 0.8) * 0.4 * nom.tau)"
      ]
    },
    {
      "cell_type": "markdown",
      "metadata": {},
      "source": [
        "Create the simulation object, simulate, and plot the results in per-unit values.\n\n"
      ]
    },
    {
      "cell_type": "code",
      "execution_count": null,
      "metadata": {
        "collapsed": false
      },
      "outputs": [],
      "source": [
        "sim = model.Simulation(mdl, ctrl)\nres = sim.simulate(t_stop=1.4)\nutils.plot(res, base)"
      ]
    },
    {
      "cell_type": "markdown",
      "metadata": {},
      "source": [
        ".. rubric:: References\n\n.. [#Lor1991] Lorenz, Van Patten, \"High-resolution velocity estimation for\n   all-digital, AC servo drives,\" IEEE Trans. Ind. Appl., 1991,\n   https://doi.org/10.1109/28.85485\n\n"
      ]
    }
  ],
  "metadata": {
    "kernelspec": {
      "display_name": "Python 3",
      "language": "python",
      "name": "python3"
    },
    "language_info": {
      "codemirror_mode": {
        "name": "ipython",
        "version": 3
      },
      "file_extension": ".py",
      "mimetype": "text/x-python",
      "name": "python",
      "nbconvert_exporter": "python",
      "pygments_lexer": "ipython3",
      "version": "3.12.11"
    }
  },
  "nbformat": 4,
  "nbformat_minor": 0
}