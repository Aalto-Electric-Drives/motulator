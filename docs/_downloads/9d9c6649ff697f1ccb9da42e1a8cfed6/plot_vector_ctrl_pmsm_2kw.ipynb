{
  "cells": [
    {
      "cell_type": "markdown",
      "metadata": {},
      "source": [
        "\n# 2.2-kW PMSM, with PM flux adaptation\n\nThis example simulates sensorless current-vector control of a 2.2-kW PMSM drive. The\nPM-flux adaptation is enabled [#Tuo2018]_. To demonstrate adaptation, the initial\nvalue of the PM-flux estimate has an error of 25%.\n"
      ]
    },
    {
      "cell_type": "code",
      "execution_count": null,
      "metadata": {
        "collapsed": false
      },
      "outputs": [],
      "source": [
        "from math import pi\n\nimport matplotlib.pyplot as plt\n\nimport motulator.drive.control.sm as control\nfrom motulator.drive import model, utils"
      ]
    },
    {
      "cell_type": "markdown",
      "metadata": {},
      "source": [
        "Compute base values based on the nominal values (just for figures).\n\n"
      ]
    },
    {
      "cell_type": "code",
      "execution_count": null,
      "metadata": {
        "collapsed": false
      },
      "outputs": [],
      "source": [
        "nom = utils.NominalValues(U=370, I=4.3, f=75, P=2.2e3, tau=14)\nbase = utils.BaseValues.from_nominal(nom, n_p=3)"
      ]
    },
    {
      "cell_type": "markdown",
      "metadata": {},
      "source": [
        "Configure the system model.\n\n"
      ]
    },
    {
      "cell_type": "code",
      "execution_count": null,
      "metadata": {
        "collapsed": false
      },
      "outputs": [],
      "source": [
        "par = model.SynchronousMachinePars(n_p=3, R_s=3.6, L_d=0.036, L_q=0.051, psi_f=0.545)\nmachine = model.SynchronousMachine(par)\nmechanics = model.MechanicalSystem(J=0.015)\nconverter = model.VoltageSourceConverter(u_dc=540)\nmdl = model.Drive(machine, mechanics, converter)"
      ]
    },
    {
      "cell_type": "markdown",
      "metadata": {},
      "source": [
        "Configure the control system.\n\n"
      ]
    },
    {
      "cell_type": "code",
      "execution_count": null,
      "metadata": {
        "collapsed": false
      },
      "outputs": [],
      "source": [
        "# PM-flux estimate is about 75% of the actual value\nest_par = model.SynchronousMachinePars(n_p=3, R_s=3.6, L_d=0.036, L_q=0.051, psi_f=0.4)\n# Gain `k_f` enables the PM-flux disturbance estimation at speeds above 0.2 p.u.\ncfg = control.CurrentVectorControllerCfg(\n    i_s_max=1.5 * base.i, k_f=lambda w_m: max(0.05 * (abs(w_m) - 0.2 * base.w), 0)\n)\nvector_ctrl = control.CurrentVectorController(est_par, cfg)\nspeed_ctrl = control.SpeedController(J=0.015, alpha_s=2 * pi * 4)\nctrl = control.VectorControlSystem(vector_ctrl, speed_ctrl)"
      ]
    },
    {
      "cell_type": "markdown",
      "metadata": {},
      "source": [
        "Set the speed reference and the external load torque.\n\n"
      ]
    },
    {
      "cell_type": "code",
      "execution_count": null,
      "metadata": {
        "collapsed": false
      },
      "outputs": [],
      "source": [
        "ctrl.set_speed_ref(lambda t: (t > 0.2) * 1 * base.w_M)\nmdl.mechanics.set_external_load_torque(lambda t: (t > 0.6) * nom.tau)"
      ]
    },
    {
      "cell_type": "markdown",
      "metadata": {},
      "source": [
        "Create the simulation object, simulate, and plot the results in per-unit values.\n\n"
      ]
    },
    {
      "cell_type": "code",
      "execution_count": null,
      "metadata": {
        "collapsed": false
      },
      "outputs": [],
      "source": [
        "sim = model.Simulation(mdl, ctrl)\nres = sim.simulate(t_stop=1.2)\nutils.plot(res, base)"
      ]
    },
    {
      "cell_type": "markdown",
      "metadata": {},
      "source": [
        "Plot the actual and estimated values for flux linkages.\n\n"
      ]
    },
    {
      "cell_type": "code",
      "execution_count": null,
      "metadata": {
        "collapsed": false
      },
      "outputs": [],
      "source": [
        "plt.figure()\nplt.plot(\n    res.ctrl.t, res.ctrl.ref.psi_s / base.psi, \"--\", label=r\"$\\psi_\\mathrm{s,ref}$\"\n)\nplt.plot(\n    res.mdl.t, abs(res.mdl.machine.psi_s_dq) / base.psi, label=r\"$\\psi_\\mathrm{s}$\"\n)\nplt.plot(\n    res.ctrl.t, abs(res.ctrl.fbk.psi_s) / base.psi, label=r\"$\\hat{\\psi}_\\mathrm{s}$\"\n)\nplt.axhline(0.545 / base.psi, color=\"k\", linestyle=\":\", label=r\"$\\psi_\\mathrm{f}$\")\nplt.plot(res.ctrl.t, res.ctrl.fbk.psi_f / base.psi, label=r\"$\\hat{\\psi}_\\mathrm{f}$\")\nplt.xlabel(\"Time (s)\")\nplt.ylabel(\"Flux linkage (p.u.)\")\nplt.legend()\nplt.xlim(0, 1.2)\nplt.ylim(0, 1.1)\n\nplt.show()"
      ]
    },
    {
      "cell_type": "markdown",
      "metadata": {},
      "source": [
        ".. rubric:: References\n\n.. [#Tuo2018] Tuovinen, Awan, Kukkola, Saarakkala, Hinkkanen, \"Permanent-magnet flux\n   adaptation for sensorless synchronous motor drives,\" Proc. IEEE SLED, 2018,\n   https://doi.org/10.1109/SLED.2018.8485899\n\n"
      ]
    }
  ],
  "metadata": {
    "kernelspec": {
      "display_name": "Python 3",
      "language": "python",
      "name": "python3"
    },
    "language_info": {
      "codemirror_mode": {
        "name": "ipython",
        "version": 3
      },
      "file_extension": ".py",
      "mimetype": "text/x-python",
      "name": "python",
      "nbconvert_exporter": "python",
      "pygments_lexer": "ipython3",
      "version": "3.12.10"
    }
  },
  "nbformat": 4,
  "nbformat_minor": 0
}