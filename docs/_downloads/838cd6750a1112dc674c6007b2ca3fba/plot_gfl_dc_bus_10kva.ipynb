{
  "cells": [
    {
      "cell_type": "markdown",
      "metadata": {},
      "source": [
        "\n# 10-kVA converter, DC-bus voltage\n    \nThis example simulates a grid-following-controlled converter connected to a\nstrong grid and regulating the DC-bus voltage. The control system includes a \nDC-bus voltage controller, a phase-locked loop (PLL) to synchronize with the \ngrid, a current reference generator, and a PI-type current controller.\n"
      ]
    },
    {
      "cell_type": "code",
      "execution_count": null,
      "metadata": {
        "collapsed": false
      },
      "outputs": [],
      "source": [
        "import numpy as np\n\nfrom motulator.grid import model, control\nfrom motulator.grid.utils import (\n    BaseValues, ACFilterPars, NominalValues, plot)"
      ]
    },
    {
      "cell_type": "markdown",
      "metadata": {},
      "source": [
        "Compute base values based on the nominal values.\n\n"
      ]
    },
    {
      "cell_type": "code",
      "execution_count": null,
      "metadata": {
        "collapsed": false
      },
      "outputs": [],
      "source": [
        "nom = NominalValues(U=400, I=14.5, f=50, P=10e3)\nbase = BaseValues.from_nominal(nom)"
      ]
    },
    {
      "cell_type": "markdown",
      "metadata": {},
      "source": [
        "Configure the system model.\n\n"
      ]
    },
    {
      "cell_type": "code",
      "execution_count": null,
      "metadata": {
        "collapsed": false
      },
      "outputs": [],
      "source": [
        "# Filter and grid\npar = ACFilterPars(L_fc=.2*base.L)\nac_filter = model.ACFilter(par)\nac_source = model.ThreePhaseVoltageSource(w_g=base.w, abs_e_g=base.u)\n# Converter model with the DC-bus dynamics\nconverter = model.VoltageSourceConverter(u_dc=600, C_dc=1e-3)\n\n# Create system model\nmdl = model.GridConverterSystem(converter, ac_filter, ac_source)"
      ]
    },
    {
      "cell_type": "markdown",
      "metadata": {},
      "source": [
        "Configure the control system.\n\n"
      ]
    },
    {
      "cell_type": "code",
      "execution_count": null,
      "metadata": {
        "collapsed": false
      },
      "outputs": [],
      "source": [
        "# Create the control system\ncfg = control.GFLControlCfg(\n    L=.2*base.L, nom_u=base.u, nom_w=base.w, max_i=1.5*base.i)\nctrl = control.GFLControl(cfg)\n\n# Add the DC-bus voltage controller to the control system\nctrl.dc_bus_voltage_ctrl = control.DCBusVoltageController(\n    C_dc=1e-3, alpha_dc=2*np.pi*30, max_p=base.p)"
      ]
    },
    {
      "cell_type": "markdown",
      "metadata": {},
      "source": [
        "Set the time-dependent reference and disturbance signals.\n\n"
      ]
    },
    {
      "cell_type": "code",
      "execution_count": null,
      "metadata": {
        "collapsed": false
      },
      "outputs": [],
      "source": [
        "# Set the references for DC-bus voltage and reactive power\nctrl.ref.u_dc = lambda t: 600 + (t > .02)*50\nctrl.ref.q_g = lambda t: (t > .04)*4e3\n\n# Set the external current fed to the DC bus\nmdl.converter.i_dc = lambda t: (t > .06)*10"
      ]
    },
    {
      "cell_type": "markdown",
      "metadata": {},
      "source": [
        "Create the simulation object and simulate it.\n\n"
      ]
    },
    {
      "cell_type": "code",
      "execution_count": null,
      "metadata": {
        "collapsed": false
      },
      "outputs": [],
      "source": [
        "sim = model.Simulation(mdl, ctrl)\nsim.simulate(t_stop=.1)"
      ]
    },
    {
      "cell_type": "markdown",
      "metadata": {},
      "source": [
        "Plot the results.\n\n"
      ]
    },
    {
      "cell_type": "code",
      "execution_count": null,
      "metadata": {
        "collapsed": false
      },
      "outputs": [],
      "source": [
        "# By default results are plotted in per-unit values. By omitting the argument\n# `base` you can plot the results in SI units.\n\nplot(sim, base)"
      ]
    }
  ],
  "metadata": {
    "kernelspec": {
      "display_name": "Python 3",
      "language": "python",
      "name": "python3"
    },
    "language_info": {
      "codemirror_mode": {
        "name": "ipython",
        "version": 3
      },
      "file_extension": ".py",
      "mimetype": "text/x-python",
      "name": "python",
      "nbconvert_exporter": "python",
      "pygments_lexer": "ipython3",
      "version": "3.8.2"
    }
  },
  "nbformat": 4,
  "nbformat_minor": 0
}