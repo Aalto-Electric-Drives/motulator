{
  "cells": [
    {
      "cell_type": "markdown",
      "metadata": {},
      "source": [
        "\n# 6.7-kW SyRM, saturated\n\nThis example simulates observer-based V/Hz control of a saturated 6.7-kW synchronous\nreluctance motor drive. The control method uses constant inductances.\n"
      ]
    },
    {
      "cell_type": "code",
      "execution_count": null,
      "metadata": {
        "collapsed": false
      },
      "outputs": [],
      "source": [
        "import numpy as np\n\nimport motulator.drive.control.sm as control\nfrom motulator.drive import model, utils"
      ]
    },
    {
      "cell_type": "markdown",
      "metadata": {},
      "source": [
        "Compute base values based on the nominal values (just for figures).\n\n"
      ]
    },
    {
      "cell_type": "code",
      "execution_count": null,
      "metadata": {
        "collapsed": false
      },
      "outputs": [],
      "source": [
        "nom = utils.NominalValues(U=370, I=15.5, f=105.8, P=6.7e3, tau=20.1)\nbase = utils.BaseValues.from_nominal(nom, n_p=2)"
      ]
    },
    {
      "cell_type": "markdown",
      "metadata": {},
      "source": [
        "Configure the system model. The saturation model is based on [#Hin2017]_.\n\n"
      ]
    },
    {
      "cell_type": "code",
      "execution_count": null,
      "metadata": {
        "collapsed": false
      },
      "outputs": [],
      "source": [
        "i_s_dq_fcn = utils.SaturationModelSyRM(\n    a_d0=17.4, a_dd=373, S=5, a_q0=52.1, a_qq=658, T=1, a_dq=1120, U=1, V=0\n)\npar = model.SaturatedSynchronousMachinePars(\n    n_p=2, R_s=0.54, i_s_dq_fcn=i_s_dq_fcn, kind=\"rel\"\n)\nmachine = model.SynchronousMachine(par)\nmechanics = model.MechanicalSystem(J=0.015)\nconverter = model.VoltageSourceConverter(u_dc=540)\nmdl = model.Drive(machine, mechanics, converter)"
      ]
    },
    {
      "cell_type": "markdown",
      "metadata": {},
      "source": [
        "Configure the control system.\n\n"
      ]
    },
    {
      "cell_type": "code",
      "execution_count": null,
      "metadata": {
        "collapsed": false
      },
      "outputs": [],
      "source": [
        "est_par = control.SynchronousMachinePars(\n    n_p=2, R_s=0.54, L_d=37e-3, L_q=6.2e-3, psi_f=0, kind=\"rel\"\n)\ncfg = control.ObserverBasedVHzControllerCfg(\n    i_s_max=2 * base.i, psi_s_min=base.psi, psi_s_max=base.psi\n)\nvhz_ctrl = control.ObserverBasedVHzController(est_par, cfg)\nctrl = control.VHzControlSystem(vhz_ctrl)"
      ]
    },
    {
      "cell_type": "markdown",
      "metadata": {},
      "source": [
        "Set the speed reference and the external load torque.\n\n"
      ]
    },
    {
      "cell_type": "code",
      "execution_count": null,
      "metadata": {
        "collapsed": false
      },
      "outputs": [],
      "source": [
        "t_stop = 8\ntimes = np.array([0, 0.125, 0.25, 0.375, 0.5, 0.625, 0.75, 0.875, 1]) * t_stop\nvalues = np.array([0, 0, 1, 1, 0, -1, -1, 0, 0]) * base.w_M\nctrl.set_speed_ref(utils.SequenceGenerator(times, values))\n\ntimes = np.array([0, 0.125, 0.125, 0.875, 0.875, 1]) * t_stop\nvalues = np.array([0, 0, 1, 1, 0, 0]) * nom.tau\nmdl.mechanics.set_external_load_torque(utils.SequenceGenerator(times, values))"
      ]
    },
    {
      "cell_type": "markdown",
      "metadata": {},
      "source": [
        "Create the simulation object, simulate, and plot the results in per-unit values.\n\n"
      ]
    },
    {
      "cell_type": "code",
      "execution_count": null,
      "metadata": {
        "collapsed": false
      },
      "outputs": [],
      "source": [
        "sim = model.Simulation(mdl, ctrl)\nres = sim.simulate(t_stop)\nutils.plot(res, base)"
      ]
    },
    {
      "cell_type": "markdown",
      "metadata": {},
      "source": [
        ".. rubric:: References\n\n.. [#Hin2017] Hinkkanen, Pescetto, M\u00f6ls\u00e4, Saarakkala, Pellegrino, Bojoi, \u201cSensorless\n   self-commissioning of synchronous reluctance motors at standstill without rotor\n   locking, \u201dIEEE Trans. Ind. Appl., 2017, https://doi.org/10.1109/TIA.2016.2644624\n\n"
      ]
    }
  ],
  "metadata": {
    "kernelspec": {
      "display_name": "Python 3",
      "language": "python",
      "name": "python3"
    },
    "language_info": {
      "codemirror_mode": {
        "name": "ipython",
        "version": 3
      },
      "file_extension": ".py",
      "mimetype": "text/x-python",
      "name": "python",
      "nbconvert_exporter": "python",
      "pygments_lexer": "ipython3",
      "version": "3.12.10"
    }
  },
  "nbformat": 4,
  "nbformat_minor": 0
}