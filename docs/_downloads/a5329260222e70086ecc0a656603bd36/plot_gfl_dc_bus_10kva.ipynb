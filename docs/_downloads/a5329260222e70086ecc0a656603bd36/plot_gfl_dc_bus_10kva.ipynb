{
  "cells": [
    {
      "cell_type": "markdown",
      "metadata": {},
      "source": [
        "\n# 10-kVA converter, DC-bus voltage\n    \nThis example simulates a grid-following-controlled converter connected to a\nstrong grid and regulating the DC-bus voltage. The control system includes a \nDC-bus voltage controller, a phase-locked loop (PLL) to synchronize with the \ngrid, a current reference generator, and a PI-type current controller.\n"
      ]
    },
    {
      "cell_type": "code",
      "execution_count": null,
      "metadata": {
        "collapsed": false
      },
      "outputs": [],
      "source": [
        "from motulator.common.model import VoltageSourceConverter, Simulation\nfrom motulator.common.utils import BaseValues, NominalValues\nfrom motulator.grid import model\nimport motulator.grid.control.grid_following as control\nfrom motulator.grid.control import DCBusVoltageController\nfrom motulator.grid.utils import FilterPars, GridPars, plot_grid"
      ]
    },
    {
      "cell_type": "markdown",
      "metadata": {},
      "source": [
        "Compute base values based on the nominal values.\n\n"
      ]
    },
    {
      "cell_type": "code",
      "execution_count": null,
      "metadata": {
        "collapsed": false
      },
      "outputs": [],
      "source": [
        "nom = NominalValues(U=400, I=14.5, f=50, P=10e3)\nbase = BaseValues.from_nominal(nom)"
      ]
    },
    {
      "cell_type": "markdown",
      "metadata": {},
      "source": [
        "Configure the system model.\n\n"
      ]
    },
    {
      "cell_type": "code",
      "execution_count": null,
      "metadata": {
        "collapsed": false
      },
      "outputs": [],
      "source": [
        "# Grid parameters\ngrid_par = GridPars(u_gN=base.u, w_gN=base.w)\n\n# Filter parameters\nfilter_par = FilterPars(L_fc=.2*base.L)\n\n# Create AC filter with given parameters\nac_filter = model.ACFilter(filter_par, grid_par)\n\n# AC-voltage magnitude (to simulate voltage dips or short-circuits)\nabs_e_g_var = lambda t: base.u\n\n# AC grid model with constant voltage magnitude and frequency\ngrid_model = model.ThreePhaseVoltageSource(\n    w_g=grid_par.w_gN, abs_e_g=abs_e_g_var)\n\n# Inverter model with DC-bus dynamics included\nconverter = VoltageSourceConverter(u_dc=600, C_dc=1e-3)\n\n# Create system model\nmdl = model.GridConverterSystem(converter, ac_filter, grid_model)"
      ]
    },
    {
      "cell_type": "markdown",
      "metadata": {},
      "source": [
        "Configure the control system.\n\n"
      ]
    },
    {
      "cell_type": "code",
      "execution_count": null,
      "metadata": {
        "collapsed": false
      },
      "outputs": [],
      "source": [
        "# Control parameters\ncfg = control.GFLControlCfg(\n    grid_par=grid_par,\n    C_dc=1e-3,\n    filter_par=filter_par,\n    max_i=1.5*base.i,\n)\n# Create the control system\nctrl = control.GFLControl(cfg)\n\n# Add the DC-bus voltage controller to the control system\nctrl.dc_bus_volt_ctrl = DCBusVoltageController(p_max=base.p)"
      ]
    },
    {
      "cell_type": "markdown",
      "metadata": {},
      "source": [
        "Set the time-dependent reference and disturbance signals.\n\n"
      ]
    },
    {
      "cell_type": "code",
      "execution_count": null,
      "metadata": {
        "collapsed": false
      },
      "outputs": [],
      "source": [
        "# Set the references for DC-bus voltage and reactive power\nctrl.ref.u_dc = lambda t: 600 + (t > .02)*50\nctrl.ref.q_g = lambda t: (t > .04)*4e3\n\n# Set the external DC-bus current\nmdl.converter.i_ext = lambda t: (t > .06)*10"
      ]
    },
    {
      "cell_type": "markdown",
      "metadata": {},
      "source": [
        "Create the simulation object and simulate it.\n\n"
      ]
    },
    {
      "cell_type": "code",
      "execution_count": null,
      "metadata": {
        "collapsed": false
      },
      "outputs": [],
      "source": [
        "sim = Simulation(mdl, ctrl)\nsim.simulate(t_stop=.1)"
      ]
    },
    {
      "cell_type": "markdown",
      "metadata": {},
      "source": [
        "Plot the results.\n\n"
      ]
    },
    {
      "cell_type": "code",
      "execution_count": null,
      "metadata": {
        "collapsed": false
      },
      "outputs": [],
      "source": [
        "# By default results are plotted in per-unit values. By omitting the argument\n# `base` you can plot the results in SI units.\n\nplot_grid(sim=sim, base=base, plot_pcc_voltage=True)"
      ]
    }
  ],
  "metadata": {
    "kernelspec": {
      "display_name": "Python 3",
      "language": "python",
      "name": "python3"
    },
    "language_info": {
      "codemirror_mode": {
        "name": "ipython",
        "version": 3
      },
      "file_extension": ".py",
      "mimetype": "text/x-python",
      "name": "python",
      "nbconvert_exporter": "python",
      "pygments_lexer": "ipython3",
      "version": "3.8.2"
    }
  },
  "nbformat": 4,
  "nbformat_minor": 0
}