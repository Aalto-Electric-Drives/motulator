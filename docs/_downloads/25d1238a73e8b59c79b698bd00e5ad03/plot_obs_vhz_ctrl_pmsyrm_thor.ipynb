{
  "cells": [
    {
      "cell_type": "markdown",
      "metadata": {},
      "source": [
        "\n# 5-kW PM-SyRM, flux maps from SyR-e\n\nThis example simulates observer-based V/Hz control of a saturated 5-kW\npermanent-magnet synchronous reluctance motor. The flux maps of this example\nmotor, known as THOR, are from the SyR-e project:\n\n    https://github.com/SyR-e/syre_public\n\nThe SyR-e project has been licensed under the Apache License, Version 2.0. We\nacknowledge the developers of the SyR-e project. The flux maps from other\nsources can be used in a similar manner. It is worth noticing that the \nsaturation is not taken into account in the control method, only in the system \nmodel. Naturally, the control performance could be improved by taking the\nsaturation into account in the control algorithm.\n"
      ]
    },
    {
      "cell_type": "code",
      "execution_count": null,
      "metadata": {
        "collapsed": false
      },
      "outputs": [],
      "source": [
        "from os import path\nimport inspect\nimport numpy as np\nfrom scipy.optimize import minimize_scalar\nfrom scipy.interpolate import LinearNDInterpolator\nfrom motulator import model, control\nfrom motulator import BaseValues, NominalValues, Sequence, plot"
      ]
    },
    {
      "cell_type": "markdown",
      "metadata": {},
      "source": [
        "Compute base values based on the nominal values (just for figures).\n\n"
      ]
    },
    {
      "cell_type": "code",
      "execution_count": null,
      "metadata": {
        "collapsed": false
      },
      "outputs": [],
      "source": [
        "nom = NominalValues(U=220, I=15.6, f=85, P=5.07e3, tau=19)\nbase = BaseValues.from_nominal(nom, n_p=2)"
      ]
    },
    {
      "cell_type": "markdown",
      "metadata": {},
      "source": [
        "Load and plot the flux maps.\n\n"
      ]
    },
    {
      "cell_type": "code",
      "execution_count": null,
      "metadata": {
        "collapsed": false
      },
      "outputs": [],
      "source": [
        "# Get the path of this file\np = path.dirname(path.abspath(inspect.getfile(inspect.currentframe())))\n# Load the data from the MATLAB file\ndata = model.import_syre_data(p + \"/THOR.mat\")\n\n# You may also downsample or invert the flux map by uncommenting the following\n# lines. Not needed here, but these methods could be useful for other purposes.\n\n# from motulator.model.sm_flux_maps import downsample_flux_map, invert_flux_map\n# data = downsample_flux_map(data, N_d=32, N_q=32)\n# data = invert_flux_map(data, N_d=128, N_q=128)\nmodel.plot_flux_vs_current(data)\nmodel.plot_flux_map(data)"
      ]
    },
    {
      "cell_type": "markdown",
      "metadata": {},
      "source": [
        "Create the saturation model.\n\n"
      ]
    },
    {
      "cell_type": "code",
      "execution_count": null,
      "metadata": {
        "collapsed": false
      },
      "outputs": [],
      "source": [
        "# The coordinates assume the PMSM convention, i.e., that the PM flux is along\n# the d-axis. The piecewise linear interpolant `LinearNDInterpolator` is based\n# on triangularization and allows to use unstructured flux maps.\n\n# Data points for creating the interpolant\npsi_s_data = np.asarray(data.psi_s).ravel()\ni_s_data = np.asarray(data.i_s).ravel()\n\n# Create the interpolant, i_s = current_dq(psi_s.real, psi_s.imag)\ncurrent_dq = LinearNDInterpolator(\n    list(zip(psi_s_data.real, psi_s_data.imag)), i_s_data)\n\n# Solve the PM flux for the initial value of the stator flux\nres = minimize_scalar(\n    lambda psi_d: np.abs(current_dq(psi_d, 0)),\n    bounds=(0, np.max(psi_s_data.real)),\n    method=\"bounded\")\npsi_s0 = complex(res.x)\n\n\n# Package the input such that i_s = i_s(psi_s)\ndef i_s(psi_s):\n    \"\"\"Current as a function of the flux linkage.\"\"\"\n    return current_dq(psi_s.real, psi_s.imag)"
      ]
    },
    {
      "cell_type": "markdown",
      "metadata": {},
      "source": [
        "Configure the system model.\n\n"
      ]
    },
    {
      "cell_type": "code",
      "execution_count": null,
      "metadata": {
        "collapsed": false
      },
      "outputs": [],
      "source": [
        "# Create the motor model\nmachine = model.SynchronousMachine(n_p=2, R_s=.2, i_s=i_s, psi_s0=psi_s0)\n# Magnetically linear PM-SyRM model\n# machine = model.sm.SynchronousMachine(\n#     n_p=2, R_s=.2, L_d=4e-3, L_q=17e-3, psi_f=.134)\nmechanics = model.Mechanics(J=.0042)\nconverter = model.Inverter(u_dc=310)\nmdl = model.Drive(converter, machine, mechanics)"
      ]
    },
    {
      "cell_type": "markdown",
      "metadata": {},
      "source": [
        "Configure the control system.\n\n"
      ]
    },
    {
      "cell_type": "code",
      "execution_count": null,
      "metadata": {
        "collapsed": false
      },
      "outputs": [],
      "source": [
        "par = control.sm.ModelPars(n_p=2, R_s=.2, L_d=4e-3, L_q=17e-3, psi_f=.134)\ncfg = control.sm.ObserverBasedVHzCtrlCfg(par, max_i_s=2*base.i)\nctrl = control.sm.ObserverBasedVHzCtrl(par, cfg, T_s=250e-6)"
      ]
    },
    {
      "cell_type": "markdown",
      "metadata": {},
      "source": [
        "Set the speed reference and the external load torque.\n\n"
      ]
    },
    {
      "cell_type": "code",
      "execution_count": null,
      "metadata": {
        "collapsed": false
      },
      "outputs": [],
      "source": [
        "# Speed reference\ntimes = np.array([0, .125, .25, .375, .5, .625, .75, .875, 1])*8\nvalues = np.array([0, 0, 1, 1, 0, -1, -1, 0, 0])*base.w\nctrl.ref.w_m = Sequence(times, values)\n\n# Quadratic load torque profile (corresponding to pumps and fans)\nk = nom.tau/(base.w/base.n_p)**2\nmdl.mechanics.tau_L_w = lambda w_M: k*w_M**2*np.sign(w_M)\n\n# Uncomment to try the rated load torque step at t = 1 s (set k = 0 above)\n# times = np.array([0, .125, .125, .875, .875, 1])*8\n# values = np.array([0, 0, 1, 1, 0, 0])*nom.tau\n# mdl.mechanics.tau_L_t = Sequence(times, values)"
      ]
    },
    {
      "cell_type": "markdown",
      "metadata": {},
      "source": [
        "Create the simulation object and simulate it.\n\n"
      ]
    },
    {
      "cell_type": "code",
      "execution_count": null,
      "metadata": {
        "collapsed": false
      },
      "outputs": [],
      "source": [
        "sim = model.Simulation(mdl, ctrl)\nsim.simulate(t_stop=8)"
      ]
    },
    {
      "cell_type": "markdown",
      "metadata": {},
      "source": [
        "Plot results in per-unit values. By omitting the argument `base` you can plot\nthe results in SI units.\n\n"
      ]
    },
    {
      "cell_type": "code",
      "execution_count": null,
      "metadata": {
        "collapsed": false
      },
      "outputs": [],
      "source": [
        "plot(sim, base)"
      ]
    }
  ],
  "metadata": {
    "kernelspec": {
      "display_name": "Python 3",
      "language": "python",
      "name": "python3"
    },
    "language_info": {
      "codemirror_mode": {
        "name": "ipython",
        "version": 3
      },
      "file_extension": ".py",
      "mimetype": "text/x-python",
      "name": "python",
      "nbconvert_exporter": "python",
      "pygments_lexer": "ipython3",
      "version": "3.8.2"
    }
  },
  "nbformat": 4,
  "nbformat_minor": 0
}