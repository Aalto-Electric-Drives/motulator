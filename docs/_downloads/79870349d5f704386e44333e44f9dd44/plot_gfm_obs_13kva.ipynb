{
  "cells": [
    {
      "cell_type": "markdown",
      "metadata": {},
      "source": [
        "\n# 12.5-kVA converter, disturbance observer\n    \nThis example simulates a converter using disturbance-observer-based control in\ngrid-forming mode. The converter output voltage and the active power are \ndirectly controlled, and grid synchronization is provided by the disturbance \nobserver. A transparent current controller is included for current limitation.\n"
      ]
    },
    {
      "cell_type": "code",
      "execution_count": null,
      "metadata": {
        "collapsed": false
      },
      "outputs": [],
      "source": [
        "from motulator.common.model import VoltageSourceConverter, Simulation\nfrom motulator.common.utils import BaseValues, NominalValues\nfrom motulator.grid import model\nimport motulator.grid.control.grid_forming as control\nfrom motulator.grid.utils import FilterPars, GridPars, plot_grid\n# from motulator.common.model import CarrierComparison"
      ]
    },
    {
      "cell_type": "markdown",
      "metadata": {},
      "source": [
        "Compute base values based on the nominal values.\n\n"
      ]
    },
    {
      "cell_type": "code",
      "execution_count": null,
      "metadata": {
        "collapsed": false
      },
      "outputs": [],
      "source": [
        "nom = NominalValues(U=400, I=18, f=50, P=12.5e3)\nbase = BaseValues.from_nominal(nom)"
      ]
    },
    {
      "cell_type": "markdown",
      "metadata": {},
      "source": [
        "Configure the system model.\n\n"
      ]
    },
    {
      "cell_type": "code",
      "execution_count": null,
      "metadata": {
        "collapsed": false
      },
      "outputs": [],
      "source": [
        "# Grid parameters\ngrid_par = GridPars(u_gN=base.u, w_gN=base.w, L_g=.74*base.L)\n# Uncomment the line below to simulate a strong grid\n# grid_par.L_g = 0\n\n# Filter parameters\nfilter_par = FilterPars(L_fc=.15*base.L, R_fc=.05*base.Z)\n\n# Create AC filter with given parameters\nac_filter = model.ACFilter(filter_par, grid_par)\n\n# Grid voltage source with constant frequency and voltage magnitude\ngrid_model = model.ThreePhaseVoltageSource(\n    w_g=grid_par.w_gN, abs_e_g=grid_par.u_gN)\n\n# Inverter with constant DC voltage\nconverter = VoltageSourceConverter(u_dc=650)\n\n# Create system model\nmdl = model.GridConverterSystem(converter, ac_filter, grid_model)\n\n# Uncomment the lines below to enable the PWM model\n# mdl.pwm = CarrierComparison()"
      ]
    },
    {
      "cell_type": "markdown",
      "metadata": {},
      "source": [
        "Configure the control system.\n\n"
      ]
    },
    {
      "cell_type": "code",
      "execution_count": null,
      "metadata": {
        "collapsed": false
      },
      "outputs": [],
      "source": [
        "# Estimates for the grid parameters, grid inductance estimate is left at 0\ngrid_par_est = GridPars(u_gN=base.u, w_gN=base.w, L_g=.2*base.L)\n\n# Set the configuration parameters\ncfg = control.ObserverBasedGFMControlCfg(\n    grid_par=grid_par_est,\n    filter_par=filter_par,\n    T_s=100e-6,\n    max_i=1.3*base.i,\n    R_a=.2*base.Z)\n\n# Create the control system\nctrl = control.ObserverBasedGFMControl(cfg)"
      ]
    },
    {
      "cell_type": "markdown",
      "metadata": {},
      "source": [
        "Set the references for converter output voltage magnitude and active power.\n\n"
      ]
    },
    {
      "cell_type": "code",
      "execution_count": null,
      "metadata": {
        "collapsed": false
      },
      "outputs": [],
      "source": [
        "# Converter output voltage magnitude reference\nctrl.ref.v_c = lambda t: grid_par.u_gN\n\n# Active power reference\nctrl.ref.p_g = lambda t: ((t > .2)*(4.15e3) + (t > .5)*(4.15e3) + (t > .8)*\n                          (4.2e3) - (t > 1.2)*(12.5e3))\n\n# Uncomment line below to simulate operation in rectifier mode\n# ctrl.ref.p_g = lambda t: ((t > .2) - (t > .7)*2 + (t > 1.2))*12.5e3\n\n# Uncomment lines below to simulate a grid voltage sag with constant ref.p_g\n# mdl.grid_model.par.e_g_abs = lambda t: (\n#    1 - (t > .2)*(0.8) + (t > 1)*(0.8))*grid_par.u_gN\n# ctrl.ref.p_g = lambda t: 12.5e3"
      ]
    },
    {
      "cell_type": "markdown",
      "metadata": {},
      "source": [
        "Create the simulation object and simulate it.\n\n"
      ]
    },
    {
      "cell_type": "code",
      "execution_count": null,
      "metadata": {
        "collapsed": false
      },
      "outputs": [],
      "source": [
        "sim = Simulation(mdl, ctrl)\nsim.simulate(t_stop=1.5)"
      ]
    },
    {
      "cell_type": "markdown",
      "metadata": {},
      "source": [
        "Plot the results.\n\n"
      ]
    },
    {
      "cell_type": "code",
      "execution_count": null,
      "metadata": {
        "collapsed": false
      },
      "outputs": [],
      "source": [
        "# By default results are plotted in per-unit values. By omitting the argument\n# `base` you can plot the results in SI units.\n\nplot_grid(sim=sim, base=base, plot_pcc_voltage=False)"
      ]
    }
  ],
  "metadata": {
    "kernelspec": {
      "display_name": "Python 3",
      "language": "python",
      "name": "python3"
    },
    "language_info": {
      "codemirror_mode": {
        "name": "ipython",
        "version": 3
      },
      "file_extension": ".py",
      "mimetype": "text/x-python",
      "name": "python",
      "nbconvert_exporter": "python",
      "pygments_lexer": "ipython3",
      "version": "3.8.2"
    }
  },
  "nbformat": 4,
  "nbformat_minor": 0
}