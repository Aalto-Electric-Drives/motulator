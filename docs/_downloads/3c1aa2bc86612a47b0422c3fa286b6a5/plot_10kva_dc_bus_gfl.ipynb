{
  "cells": [
    {
      "cell_type": "markdown",
      "metadata": {},
      "source": [
        "\n# 10-kVA, DC bus, GFL\n\nThis example simulates a 10-kVA grid-following (GFL) converter connected to an L filter\nand a strong grid. The DC-bus dynamics are modeled. The control system includes a DC-bus\nvoltage controller, a phase-locked loop (PLL) to synchronize with the grid, a current\nreference generator, and a PI-type current controller.\n"
      ]
    },
    {
      "cell_type": "code",
      "execution_count": null,
      "metadata": {
        "collapsed": false
      },
      "outputs": [],
      "source": [
        "import numpy as np\n\nfrom motulator.grid import control, model, utils"
      ]
    },
    {
      "cell_type": "markdown",
      "metadata": {},
      "source": [
        "Compute base values based on the nominal values.\n\n"
      ]
    },
    {
      "cell_type": "code",
      "execution_count": null,
      "metadata": {
        "collapsed": false
      },
      "outputs": [],
      "source": [
        "nom = utils.NominalValues(U=400, I=14.5, f=50, P=10e3)\nbase = utils.BaseValues.from_nominal(nom)"
      ]
    },
    {
      "cell_type": "markdown",
      "metadata": {},
      "source": [
        "Configure the system model.\n\n"
      ]
    },
    {
      "cell_type": "code",
      "execution_count": null,
      "metadata": {
        "collapsed": false
      },
      "outputs": [],
      "source": [
        "ac_filter = model.LFilter(L_f=0.2 * base.L)\nac_source = model.ThreePhaseSource(w_g=base.w, e_g=base.u)\nconverter = model.CapacitiveDCBusConverter(u_dc=600, C_dc=1e-3)\nmdl = model.GridConverterSystem(converter, ac_filter, ac_source)"
      ]
    },
    {
      "cell_type": "markdown",
      "metadata": {},
      "source": [
        "Configure the control system.\n\n"
      ]
    },
    {
      "cell_type": "code",
      "execution_count": null,
      "metadata": {
        "collapsed": false
      },
      "outputs": [],
      "source": [
        "dc_bus_voltage_ctrl = control.DCBusVoltageController(\n    C_dc=1e-3, alpha_dc=2 * np.pi * 30, p_max=base.p\n)\ninner_ctrl = control.CurrentVectorController(i_max=1.5 * base.i, L=0.2 * base.L)\nctrl = control.GridConverterControlSystem(inner_ctrl, dc_bus_voltage_ctrl)"
      ]
    },
    {
      "cell_type": "markdown",
      "metadata": {},
      "source": [
        "Set the time-dependent reference and disturbance signals.\n\n"
      ]
    },
    {
      "cell_type": "code",
      "execution_count": null,
      "metadata": {
        "collapsed": false
      },
      "outputs": [],
      "source": [
        "# Set the references for DC-bus voltage and reactive power\nctrl.set_dc_bus_voltage_ref(lambda t: 600 + (t > 0.02) * 50)\nctrl.set_reactive_power_ref(lambda t: (t > 0.04) * 4e3)\n\n# Set the external current fed to the DC bus\nmdl.converter.set_external_dc_current(lambda t: (t > 0.06) * 10)"
      ]
    },
    {
      "cell_type": "markdown",
      "metadata": {},
      "source": [
        "Create the simulation object, simulate, and plot the results in per-unit values.\n\n"
      ]
    },
    {
      "cell_type": "code",
      "execution_count": null,
      "metadata": {
        "collapsed": false
      },
      "outputs": [],
      "source": [
        "sim = model.Simulation(mdl, ctrl)\nres = sim.simulate(t_stop=0.1)\nutils.plot_control_signals(res, base)\nutils.plot_grid_waveforms(res, base)"
      ]
    }
  ],
  "metadata": {
    "kernelspec": {
      "display_name": "Python 3",
      "language": "python",
      "name": "python3"
    },
    "language_info": {
      "codemirror_mode": {
        "name": "ipython",
        "version": 3
      },
      "file_extension": ".py",
      "mimetype": "text/x-python",
      "name": "python",
      "nbconvert_exporter": "python",
      "pygments_lexer": "ipython3",
      "version": "3.12.11"
    }
  },
  "nbformat": 4,
  "nbformat_minor": 0
}