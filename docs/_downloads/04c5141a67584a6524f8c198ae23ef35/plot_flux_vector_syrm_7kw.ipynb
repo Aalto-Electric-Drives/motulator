{
  "cells": [
    {
      "cell_type": "markdown",
      "metadata": {},
      "source": [
        "\n# 6.7-kW SyRM, saturated, disturbance estimation\n\nThis example simulates sensorless stator-flux-vector control of a saturated\n6.7-kW synchronous reluctance motor drive. The saturation is not taken into\naccount in the control method (only in the system model). Even if the machine \nhas no magnets, the PM-flux disturbance estimation is enabled [#Tuo2018]_. In \nthis case, this PM-flux estimate lumps the effects of inductance errors. \nNaturally, the PM-flux estimation can be used in PM machine drives as well. \n"
      ]
    },
    {
      "cell_type": "code",
      "execution_count": null,
      "metadata": {
        "collapsed": false
      },
      "outputs": [],
      "source": [
        "import numpy as np\nimport matplotlib.pyplot as plt\n\nfrom motulator.drive import model\nimport motulator.drive.control.sm as control\nfrom motulator.drive.utils import (\n    BaseValues, NominalValues, plot, Sequence, SynchronousMachinePars)"
      ]
    },
    {
      "cell_type": "markdown",
      "metadata": {},
      "source": [
        "Compute base values based on the nominal values (just for figures).\n\n"
      ]
    },
    {
      "cell_type": "code",
      "execution_count": null,
      "metadata": {
        "collapsed": false
      },
      "outputs": [],
      "source": [
        "nom = NominalValues(U=370, I=15.5, f=105.8, P=6.7e3, tau=20.1)\nbase = BaseValues.from_nominal(nom, n_p=2)"
      ]
    },
    {
      "cell_type": "markdown",
      "metadata": {},
      "source": [
        "Create a saturation model, see the example\n:doc:`/drive_examples/obs_vhz/plot_obs_vhz_ctrl_syrm_7kw` for further details.\n\n"
      ]
    },
    {
      "cell_type": "code",
      "execution_count": null,
      "metadata": {
        "collapsed": false
      },
      "outputs": [],
      "source": [
        "def i_s(psi_s):\n    \"\"\"Magnetic model for a 6.7-kW synchronous reluctance motor.\"\"\"\n    # Parameters\n    a_d0, a_dd, S = 17.4, 373., 5  # d-axis self-saturation\n    a_q0, a_qq, T = 52.1, 658., 1  # q-axis self-saturation\n    a_dq, U, V = 1120., 1, 0  # Cross-saturation\n    # Inverse inductance functions\n    G_d = a_d0 + a_dd*np.abs(psi_s.real)**S + (\n        a_dq/(V + 2)*np.abs(psi_s.real)**U*np.abs(psi_s.imag)**(V + 2))\n    G_q = a_q0 + a_qq*np.abs(psi_s.imag)**T + (\n        a_dq/(U + 2)*np.abs(psi_s.real)**(U + 2)*np.abs(psi_s.imag)**V)\n    # Stator current\n    return G_d*psi_s.real + 1j*G_q*psi_s.imag"
      ]
    },
    {
      "cell_type": "markdown",
      "metadata": {},
      "source": [
        "Configure the system model.\n\n"
      ]
    },
    {
      "cell_type": "code",
      "execution_count": null,
      "metadata": {
        "collapsed": false
      },
      "outputs": [],
      "source": [
        "mdl_par = SynchronousMachinePars(n_p=2, R_s=.54)\nmachine = model.SynchronousMachine(mdl_par, i_s=i_s, psi_s0=0)\n# Magnetically linear SyRM model for comparison\n# mdl_par = SynchronousMachinePars(\n#     n_p=2, R_s=.54, L_d=37e-3, L_q=6.2e-3, psi_f=0)\n# machine = model.SynchronousMachine(mdl_par)\nmechanics = model.StiffMechanicalSystem(J=.015)\nconverter = model.VoltageSourceConverter(u_dc=540)\nmdl = model.Drive(converter, machine, mechanics)"
      ]
    },
    {
      "cell_type": "markdown",
      "metadata": {},
      "source": [
        "Configure the control system. The saturation is not taken into account.\nFurthermore, the inductance estimates L_d and L_q are intentionally set to\nlower values in order to demonstrate the PM-flux disturbance estimation.\n\n"
      ]
    },
    {
      "cell_type": "code",
      "execution_count": null,
      "metadata": {
        "collapsed": false
      },
      "outputs": [],
      "source": [
        "par = SynchronousMachinePars(\n    n_p=2, R_s=.54, L_d=.7*37e-3, L_q=.8*6.2e-3, psi_f=0)\n# Disable MTPA since the control system does not consider the saturation\ncfg = control.FluxTorqueReferenceCfg(\n    par, max_i_s=2*base.i, k_u=.9, min_psi_s=base.psi, max_psi_s=base.psi)\nctrl = control.FluxVectorControl(par, cfg, J=.015, sensorless=True)\n# Since the saturation is not considered in the control system, the speed\n# estimation bandwidth is set to a lower value. Furthermore, the PM-flux\n# disturbance estimation is enabled at speeds above 2*pi*20 rad/s (electrical).\nctrl.observer = control.Observer(\n    control.ObserverCfg(\n        par,\n        alpha_o=2*np.pi*40,\n        k_f=lambda w_m: max(.05*(np.abs(w_m) - 2*np.pi*20), 0),\n        sensorless=True))"
      ]
    },
    {
      "cell_type": "markdown",
      "metadata": {},
      "source": [
        "Set the speed reference and the external load torque.\n\n"
      ]
    },
    {
      "cell_type": "code",
      "execution_count": null,
      "metadata": {
        "collapsed": false
      },
      "outputs": [],
      "source": [
        "# Speed reference (electrical rad/s)\ntimes = np.array([0, .125, .25, .375, .5, .625, .75, .875, 1])*4\nvalues = np.array([0, 0, 1, 1, 0, -1, -1, 0, 0])*base.w\nctrl.ref.w_m = Sequence(times, values)\n# External load torque\ntimes = np.array([0, .125, .125, .875, .875, 1])*4\nvalues = np.array([0, 0, 1, 1, 0, 0])*nom.tau\nmdl.mechanics.tau_L = Sequence(times, values)"
      ]
    },
    {
      "cell_type": "markdown",
      "metadata": {},
      "source": [
        "Create the simulation object and simulate it.\n\n"
      ]
    },
    {
      "cell_type": "code",
      "execution_count": null,
      "metadata": {
        "collapsed": false
      },
      "outputs": [],
      "source": [
        "sim = model.Simulation(mdl, ctrl)\nsim.simulate(t_stop=4)"
      ]
    },
    {
      "cell_type": "markdown",
      "metadata": {},
      "source": [
        "Plot results in per-unit values. The transient after t = 0.5 s is due to the\nerrors in the inductances. The PM-flux estimate compensates for these errors.\n\n"
      ]
    },
    {
      "cell_type": "code",
      "execution_count": null,
      "metadata": {
        "collapsed": false
      },
      "outputs": [],
      "source": [
        "plot(sim, base)"
      ]
    },
    {
      "cell_type": "markdown",
      "metadata": {},
      "source": [
        "Plot the flux linkages and the PM-flux disturbance estimate. Due to the\ninductance errors and the magnetic saturation, it is nonzero even if the\nmachine has no magnets.\n\n"
      ]
    },
    {
      "cell_type": "code",
      "execution_count": null,
      "metadata": {
        "collapsed": false
      },
      "outputs": [],
      "source": [
        "mdl = sim.mdl  # Continuous-time data\nctrl = sim.ctrl.data  # Discrete-time data\nctrl.t = ctrl.ref.t  # Discrete time\nplt.figure()\nplt.plot(\n    mdl.machine.data.t,\n    np.abs(mdl.machine.data.psi_s)/base.psi,\n    label=r\"$\\psi_\\mathrm{s}$\")\nplt.plot(\n    ctrl.t, np.abs(ctrl.fbk.psi_s)/base.psi, label=r\"$\\hat{\\psi}_\\mathrm{s}$\")\nplt.plot(ctrl.t, ctrl.fbk.psi_f/base.psi, label=r\"$\\hat{\\psi}_\\mathrm{f}$\")\nplt.plot(ctrl.t, ctrl.ref.psi_s/base.psi, \"--\", label=r\"$\\psi_\\mathrm{s,ref}$\")\nplt.xlim(0, 4)\nplt.xlabel(\"Time (s)\")\nplt.ylabel(\"Flux linkage (p.u.)\")\nplt.legend()\nplt.show()"
      ]
    },
    {
      "cell_type": "markdown",
      "metadata": {},
      "source": [
        ".. rubric:: References\n\n.. [#Tuo2018] Tuovinen, Awan, Kukkola, Saarakkala, Hinkkanen, \"Permanent-\n   magnet flux adaptation for sensorless synchronous motor drives,\" Proc.\n   IEEE SLED, 2018, https://doi.org/10.1109/SLED.2018.8485899\n\n"
      ]
    }
  ],
  "metadata": {
    "kernelspec": {
      "display_name": "Python 3",
      "language": "python",
      "name": "python3"
    },
    "language_info": {
      "codemirror_mode": {
        "name": "ipython",
        "version": 3
      },
      "file_extension": ".py",
      "mimetype": "text/x-python",
      "name": "python",
      "nbconvert_exporter": "python",
      "pygments_lexer": "ipython3",
      "version": "3.8.2"
    }
  },
  "nbformat": 4,
  "nbformat_minor": 0
}