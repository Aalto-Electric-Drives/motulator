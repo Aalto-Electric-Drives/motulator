{
  "cells": [
    {
      "cell_type": "markdown",
      "metadata": {},
      "source": [
        "\n# 2.2-kW induction motor, saturated\n\nThis example simulates sensorless current-vector control of a 2.2-kW induction motor\ndrive. The magnetic saturation of the machine is also included in the system model,\nwhile the control system assumes constant parameters.\n"
      ]
    },
    {
      "cell_type": "code",
      "execution_count": null,
      "metadata": {
        "collapsed": false
      },
      "outputs": [],
      "source": [
        "from math import pi\n\nimport motulator.drive.control.im as control\nfrom motulator.drive import model, utils"
      ]
    },
    {
      "cell_type": "markdown",
      "metadata": {},
      "source": [
        "Compute base values based on the nominal values (just for figures).\n\n"
      ]
    },
    {
      "cell_type": "code",
      "execution_count": null,
      "metadata": {
        "collapsed": false
      },
      "outputs": [],
      "source": [
        "nom = utils.NominalValues(U=400, I=5, f=50, P=2.2e3, tau=14.6)\nbase = utils.BaseValues.from_nominal(nom, n_p=2)"
      ]
    },
    {
      "cell_type": "markdown",
      "metadata": {},
      "source": [
        "The main-flux saturation in the system model is modeled based on [#Qu2012]_. The\ndefault parameters correspond to the measured data of a 2.2-kW machine.\n\n"
      ]
    },
    {
      "cell_type": "code",
      "execution_count": null,
      "metadata": {
        "collapsed": false
      },
      "outputs": [],
      "source": [
        "def L_s(psi, L_su=0.34, beta=0.84, S=7) -> float:\n    \"\"\"Stator inductance saturation model.\"\"\"\n    return L_su / (1 + (beta * psi) ** S)"
      ]
    },
    {
      "cell_type": "markdown",
      "metadata": {},
      "source": [
        "Configure the system model.\n\n"
      ]
    },
    {
      "cell_type": "code",
      "execution_count": null,
      "metadata": {
        "collapsed": false
      },
      "outputs": [],
      "source": [
        "# \u0393-equivalent machine model with main-flux saturation included\npar = model.InductionMachinePars(n_p=2, R_s=3.7, R_r=2.5, L_ell=0.023, L_s=L_s)\n# Unsaturated machine model, using its inverse-\u0393 parameters (uncomment to try)\n# par = model.InductionMachineInvGammaPars(\n#     n_p=2, R_s=3.7, R_R=2.1, L_sgm=0.021, L_M=0.224)\nmachine = model.InductionMachine(par)\nmechanics = model.MechanicalSystem(J=0.015)\nconverter = model.VoltageSourceConverter(u_dc=540)\nmdl = model.Drive(machine, mechanics, converter, pwm=False, delay=1)"
      ]
    },
    {
      "cell_type": "markdown",
      "metadata": {},
      "source": [
        "Configure the control system.\n\n"
      ]
    },
    {
      "cell_type": "code",
      "execution_count": null,
      "metadata": {
        "collapsed": false
      },
      "outputs": [],
      "source": [
        "# Machine model parameter estimates\nest_par = control.InductionMachineInvGammaPars(\n    n_p=2, R_s=3.7, R_R=2.1, L_sgm=0.021, L_M=0.224\n)\ncfg = control.CurrentVectorControllerCfg(psi_s_nom=base.psi, i_s_max=1.5 * base.i)\nvector_ctrl = control.CurrentVectorController(est_par, cfg, sensorless=True)\nspeed_ctrl = control.SpeedController(J=0.015, alpha_s=2 * pi * 4)\n# speed_ctrl = control.PIController(k_p=1, k_i=1)\nctrl = control.VectorControlSystem(vector_ctrl, speed_ctrl)"
      ]
    },
    {
      "cell_type": "markdown",
      "metadata": {},
      "source": [
        "Speed reference and the external load torque.\n\n"
      ]
    },
    {
      "cell_type": "code",
      "execution_count": null,
      "metadata": {
        "collapsed": false
      },
      "outputs": [],
      "source": [
        "# Acceleration and load torque step\nctrl.set_speed_ref(lambda t: (t > 0.2) * 0.5 * base.w_M)\nmdl.mechanics.set_external_load_torque(lambda t: (t > 0.75) * nom.tau)\n\n# No load, field-weakening (uncomment to try)\n# ctrl.set_speed_ref(lambda t: (t > 0.2) * 2 * base.w_M)\n# mdl.mechanics.set_external_load_torque(lambda t: 0)"
      ]
    },
    {
      "cell_type": "markdown",
      "metadata": {},
      "source": [
        "Create the simulation object, simulate, and plot the results in per-unit values.\n\n"
      ]
    },
    {
      "cell_type": "code",
      "execution_count": null,
      "metadata": {
        "collapsed": false
      },
      "outputs": [],
      "source": [
        "sim = model.Simulation(mdl, ctrl)\nres = sim.simulate(t_stop=1.5)\nutils.plot(res, base)  # Plot results in per-unit values"
      ]
    },
    {
      "cell_type": "markdown",
      "metadata": {},
      "source": [
        ".. rubric:: References\n\n.. [#Qu2012] Qu, Ranta, Hinkkanen, Luomi, \"Loss-minimizing flux level control of\n   induction motor drives,\" IEEE Trans. Ind. Appl., 2012,\n   https://doi.org/10.1109/TIA.2012.2190818\n\n"
      ]
    }
  ],
  "metadata": {
    "kernelspec": {
      "display_name": "Python 3",
      "language": "python",
      "name": "python3"
    },
    "language_info": {
      "codemirror_mode": {
        "name": "ipython",
        "version": 3
      },
      "file_extension": ".py",
      "mimetype": "text/x-python",
      "name": "python",
      "nbconvert_exporter": "python",
      "pygments_lexer": "ipython3",
      "version": "3.12.10"
    }
  },
  "nbformat": 4,
  "nbformat_minor": 0
}