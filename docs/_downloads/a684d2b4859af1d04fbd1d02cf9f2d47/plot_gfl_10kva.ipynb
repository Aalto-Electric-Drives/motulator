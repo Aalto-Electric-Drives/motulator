{
  "cells": [
    {
      "cell_type": "markdown",
      "metadata": {},
      "source": [
        "\n# 10-kVA converter\n\nThis example simulates a grid-following-controlled converter connected to an L filter\nand a strong grid. The control system includes a phase-locked loop (PLL) to synchronize\nwith the grid, a current reference generator, and a PI-based current controller.\n"
      ]
    },
    {
      "cell_type": "code",
      "execution_count": null,
      "metadata": {
        "collapsed": false
      },
      "outputs": [],
      "source": [
        "from motulator.grid import control, model, utils"
      ]
    },
    {
      "cell_type": "markdown",
      "metadata": {},
      "source": [
        "Compute base values based on the nominal values.\n\n"
      ]
    },
    {
      "cell_type": "code",
      "execution_count": null,
      "metadata": {
        "collapsed": false
      },
      "outputs": [],
      "source": [
        "nom = utils.NominalValues(U=400, I=14.5, f=50, P=10e3)\nbase = utils.BaseValues.from_nominal(nom)"
      ]
    },
    {
      "cell_type": "markdown",
      "metadata": {},
      "source": [
        "Configure the system model.\n\n"
      ]
    },
    {
      "cell_type": "code",
      "execution_count": null,
      "metadata": {
        "collapsed": false
      },
      "outputs": [],
      "source": [
        "# Filter and grid\nac_filter = model.LFilter(L_f=0.2 * base.L)\nac_source = model.ThreePhaseSource(w_g=base.w, e_g=base.u)\nconverter = model.VoltageSourceConverter(u_dc=650)\nmdl = model.GridConverterSystem(converter, ac_filter, ac_source)"
      ]
    },
    {
      "cell_type": "markdown",
      "metadata": {},
      "source": [
        "Configure the control system.\n\n"
      ]
    },
    {
      "cell_type": "code",
      "execution_count": null,
      "metadata": {
        "collapsed": false
      },
      "outputs": [],
      "source": [
        "inner_ctrl = control.CurrentVectorController(i_max=1.5 * base.i, L=0.2 * base.L)\nctrl = control.GridConverterControlSystem(inner_ctrl)"
      ]
    },
    {
      "cell_type": "markdown",
      "metadata": {},
      "source": [
        "Set the time-dependent reference and disturbance signals.\n\n"
      ]
    },
    {
      "cell_type": "code",
      "execution_count": null,
      "metadata": {
        "collapsed": false
      },
      "outputs": [],
      "source": [
        "# Set the active and reactive power references\nctrl.set_power_ref(lambda t: (t > 0.02) * 5e3)\nctrl.set_reactive_power_ref(lambda t: (t > 0.04) * 4e3)\n\n# Uncomment lines below to simulate an unbalanced fault (add negative sequence)\n# from math import pi\n# mdl.ac_source.e_g = 0.75 * base.u\n# mdl.ac_source.e_g_neg = 0.25 * base.u\n# mdl.ac_source.phi_neg = -pi / 3"
      ]
    },
    {
      "cell_type": "markdown",
      "metadata": {},
      "source": [
        "Create the simulation object, simulate, and plot the results in per-unit values.\n\n"
      ]
    },
    {
      "cell_type": "code",
      "execution_count": null,
      "metadata": {
        "collapsed": false
      },
      "outputs": [],
      "source": [
        "sim = model.Simulation(mdl, ctrl)\nres = sim.simulate(t_stop=0.08)\nutils.plot_control_signals(res, base)\nutils.plot_grid_waveforms(res, base, plot_pcc_voltage=False)\n\n\n# Uncomment line below to plot locus of the grid voltage space vector\n# utils.plot_voltage_vector(res, base)"
      ]
    }
  ],
  "metadata": {
    "kernelspec": {
      "display_name": "Python 3",
      "language": "python",
      "name": "python3"
    },
    "language_info": {
      "codemirror_mode": {
        "name": "ipython",
        "version": 3
      },
      "file_extension": ".py",
      "mimetype": "text/x-python",
      "name": "python",
      "nbconvert_exporter": "python",
      "pygments_lexer": "ipython3",
      "version": "3.12.10"
    }
  },
  "nbformat": 4,
  "nbformat_minor": 0
}