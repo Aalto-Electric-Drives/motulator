{
  "cells": [
    {
      "cell_type": "markdown",
      "metadata": {},
      "source": [
        "\n# 10-kVA converter\n\nThis example simulates a grid-following-controlled converter connected to an L\nfilter and a strong grid. The control system includes a phase-locked loop (PLL)\nto synchronize with the grid, a current reference generator, and a PI-based\ncurrent controller.\n"
      ]
    },
    {
      "cell_type": "code",
      "execution_count": null,
      "metadata": {
        "collapsed": false
      },
      "outputs": [],
      "source": [
        "from motulator.grid import model, control\nfrom motulator.grid.utils import (\n    BaseValues, ACFilterPars, NominalValues, plot)\n# from motulator.grid.utils import plot_voltage_vector\n# import numpy as np"
      ]
    },
    {
      "cell_type": "markdown",
      "metadata": {},
      "source": [
        "Compute base values based on the nominal values.\n\n"
      ]
    },
    {
      "cell_type": "code",
      "execution_count": null,
      "metadata": {
        "collapsed": false
      },
      "outputs": [],
      "source": [
        "nom = NominalValues(U=400, I=14.5, f=50, P=10e3)\nbase = BaseValues.from_nominal(nom)"
      ]
    },
    {
      "cell_type": "markdown",
      "metadata": {},
      "source": [
        "Configure the system model.\n\n"
      ]
    },
    {
      "cell_type": "code",
      "execution_count": null,
      "metadata": {
        "collapsed": false
      },
      "outputs": [],
      "source": [
        "# Filter and grid\npar = ACFilterPars(L_fc=.2*base.L)\nac_filter = model.ACFilter(par)\nac_source = model.ThreePhaseVoltageSource(w_g=base.w, abs_e_g=base.u)\n# Inverter with constant DC voltage\nconverter = model.VoltageSourceConverter(u_dc=650)\n\n# Create system model\nmdl = model.GridConverterSystem(converter, ac_filter, ac_source)\n# mdl.pwm = model.CarrierComparison()  # Uncomment to enable the PWM model"
      ]
    },
    {
      "cell_type": "markdown",
      "metadata": {},
      "source": [
        "Configure the control system.\n\n"
      ]
    },
    {
      "cell_type": "code",
      "execution_count": null,
      "metadata": {
        "collapsed": false
      },
      "outputs": [],
      "source": [
        "cfg = control.GridFollowingControlCfg(\n    L=.2*base.L, nom_u=base.u, nom_w=base.w, max_i=1.5*base.i)\nctrl = control.GridFollowingControl(cfg)"
      ]
    },
    {
      "cell_type": "markdown",
      "metadata": {},
      "source": [
        "Set the time-dependent reference and disturbance signals.\n\n"
      ]
    },
    {
      "cell_type": "code",
      "execution_count": null,
      "metadata": {
        "collapsed": false
      },
      "outputs": [],
      "source": [
        "# Set the active and reactive power references\nctrl.ref.p_g = lambda t: (t > .02)*5e3\nctrl.ref.q_g = lambda t: (t > .04)*4e3\n\n# Uncomment lines below to simulate an unbalanced fault (add negative sequence)\n# mdl.ac_source.par.abs_e_g = .75*base.u\n# mdl.ac_source.par.abs_e_g_neg = .25*base.u\n# mdl.ac_source.par.phi_neg = -np.pi/3"
      ]
    },
    {
      "cell_type": "markdown",
      "metadata": {},
      "source": [
        "Create the simulation object and simulate it.\n\n"
      ]
    },
    {
      "cell_type": "code",
      "execution_count": null,
      "metadata": {
        "collapsed": false
      },
      "outputs": [],
      "source": [
        "sim = model.Simulation(mdl, ctrl)\nsim.simulate(t_stop=.1)"
      ]
    },
    {
      "cell_type": "markdown",
      "metadata": {},
      "source": [
        "Plot the results.\n\n"
      ]
    },
    {
      "cell_type": "code",
      "execution_count": null,
      "metadata": {
        "collapsed": false
      },
      "outputs": [],
      "source": [
        "# By default results are plotted in per-unit values. By omitting the argument\n# `base` you can plot the results in SI units.\n\n# Uncomment line below to plot locus of the grid voltage space vector\n# plot_voltage_vector(sim, base)\nplot(sim, base, plot_pcc_voltage=False)"
      ]
    }
  ],
  "metadata": {
    "kernelspec": {
      "display_name": "Python 3",
      "language": "python",
      "name": "python3"
    },
    "language_info": {
      "codemirror_mode": {
        "name": "ipython",
        "version": 3
      },
      "file_extension": ".py",
      "mimetype": "text/x-python",
      "name": "python",
      "nbconvert_exporter": "python",
      "pygments_lexer": "ipython3",
      "version": "3.8.2"
    }
  },
  "nbformat": 4,
  "nbformat_minor": 0
}