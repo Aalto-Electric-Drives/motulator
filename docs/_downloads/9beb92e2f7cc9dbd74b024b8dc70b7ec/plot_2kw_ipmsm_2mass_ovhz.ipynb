{
  "cells": [
    {
      "cell_type": "markdown",
      "metadata": {},
      "source": [
        "\n# 2.2-kW IPMSM, 2-mass mechanics, O-V/Hz control\n\nThis example simulates observer-based V/Hz (O-V/Hz) control of a 2.2-kW interior\npermanent-magnet synchronous machine (IPMSM) drive. The mechanical subsystem is modeled\nas a two-mass system. The resonance frequency of the mechanics is around 85 Hz. The\nmechanical parameters correspond to [#Saa2015]_, except that the torsional damping is\nset to a smaller value in this example.\n"
      ]
    },
    {
      "cell_type": "code",
      "execution_count": null,
      "metadata": {
        "collapsed": false
      },
      "outputs": [],
      "source": [
        "import matplotlib.pyplot as plt\nimport numpy as np\n\nimport motulator.drive.control.sm as control\nfrom motulator.drive import model, utils"
      ]
    },
    {
      "cell_type": "markdown",
      "metadata": {},
      "source": [
        "Compute base values from the nominal values.\n\n"
      ]
    },
    {
      "cell_type": "code",
      "execution_count": null,
      "metadata": {
        "collapsed": false
      },
      "outputs": [],
      "source": [
        "nom = utils.NominalValues(U=370, I=4.3, f=75, P=2.2e3, tau=14)\nbase = utils.BaseValues.from_nominal(nom, n_p=3)"
      ]
    },
    {
      "cell_type": "markdown",
      "metadata": {},
      "source": [
        "Configure the system model.\n\n"
      ]
    },
    {
      "cell_type": "code",
      "execution_count": null,
      "metadata": {
        "collapsed": false
      },
      "outputs": [],
      "source": [
        "par = model.SynchronousMachinePars(n_p=3, R_s=3.6, L_d=0.036, L_q=0.051, psi_f=0.545)\nmachine = model.SynchronousMachine(par)\nmechanics = model.TwoMassMechanicalSystem(J_M=0.005, J_L=0.005, K_S=700, C_S=0.01)\nconverter = model.VoltageSourceConverter(u_dc=540)\nmdl = model.Drive(machine, mechanics, converter)"
      ]
    },
    {
      "cell_type": "markdown",
      "metadata": {},
      "source": [
        "Configure the control system.\n\n"
      ]
    },
    {
      "cell_type": "code",
      "execution_count": null,
      "metadata": {
        "collapsed": false
      },
      "outputs": [],
      "source": [
        "est_par = par  # Assume accurate model parameter estimates\ncfg = control.ObserverBasedVHzControllerCfg(i_s_max=1.5 * base.i)\nvhz_ctrl = control.ObserverBasedVHzController(est_par, cfg)\nctrl = control.VHzControlSystem(vhz_ctrl)"
      ]
    },
    {
      "cell_type": "markdown",
      "metadata": {},
      "source": [
        "Set the speed reference and the external load torque.\n\n"
      ]
    },
    {
      "cell_type": "code",
      "execution_count": null,
      "metadata": {
        "collapsed": false
      },
      "outputs": [],
      "source": [
        "# Speed reference\ntimes = np.array([0, 0.1, 0.2, 1])\nvalues = np.array([0, 0, 1, 1]) * 0.5 * base.w_M\nctrl.set_speed_ref(utils.SequenceGenerator(times, values))\n# External load torque\ntimes = np.array([0, 0.4, 0.4, 1])\nvalues = np.array([0, 0, 1, 1]) * nom.tau\nmdl.mechanics.set_external_load_torque(utils.SequenceGenerator(times, values))"
      ]
    },
    {
      "cell_type": "markdown",
      "metadata": {},
      "source": [
        "Create the simulation object, simulate, and plot the results in per-unit values.\n\n"
      ]
    },
    {
      "cell_type": "code",
      "execution_count": null,
      "metadata": {
        "collapsed": false
      },
      "outputs": [],
      "source": [
        "sim = model.Simulation(mdl, ctrl)\nres = sim.simulate(t_stop=1.2)\n# sphinx_gallery_thumbnail_number = 3\nutils.plot(res, base)"
      ]
    },
    {
      "cell_type": "markdown",
      "metadata": {},
      "source": [
        "Plot the load speed and the twist angle.\n\n"
      ]
    },
    {
      "cell_type": "code",
      "execution_count": null,
      "metadata": {
        "collapsed": false
      },
      "outputs": [],
      "source": [
        "t_lims = (0, 1.2)\n_, (ax1, ax2) = plt.subplots(2, 1, figsize=(8, 5))\nax1.plot(res.mdl.t, res.mdl.mechanics.w_M, label=r\"$\\omega_\\mathrm{M}$\")\nax1.plot(res.mdl.t, res.mdl.mechanics.w_L, label=r\"$\\omega_\\mathrm{L}$\")\nax2.plot(res.mdl.t, res.mdl.mechanics.theta_ML * 180 / np.pi)\nax1.set_xlim(t_lims)\nax2.set_xlim(t_lims)\nax1.set_xticklabels([])\nax1.legend()\nax1.set_ylabel(r\"$\\omega_\\mathrm{M}$, $\\omega_\\mathrm{L}$ (rad/s)\")\nax2.set_ylabel(r\"$\\vartheta_\\mathrm{ML}$ (deg)\")\nax2.set_xlabel(\"Time (s)\")\nplt.show()"
      ]
    },
    {
      "cell_type": "markdown",
      "metadata": {},
      "source": [
        "Plot the frequency response from the torque tau_M to the rotor speed w_M.\n\n"
      ]
    },
    {
      "cell_type": "code",
      "execution_count": null,
      "metadata": {
        "collapsed": false
      },
      "outputs": [],
      "source": [
        "# Frequency range and number of points\nf_span = (5, 500)\nnum = 200\n# Parameters\nJ_M, J_L = mechanics.J_M, mechanics.J_L\nK_S, C_S = mechanics.K_S, mechanics.C_S\n# Frequencies\nw = 2 * np.pi * np.logspace(np.log10(f_span[0]), np.log10(f_span[-1]), num=num)\ns = 1j * w\n# Frequency response\nB = J_L * s**2 + C_S * s + K_S\nA = s * (J_M * J_L * s**2 + (J_M + J_L) * C_S * s + (J_M + J_L) * K_S)\nG = B / A\n# Plot figure\nfig, (ax1, ax2) = plt.subplots(2, 1, figsize=(8, 5))\nax1.loglog(w / (2 * np.pi), np.abs(G))\nax1.set_xticklabels([])\nax2.semilogx(w / (2 * np.pi), np.angle(G) * 180 / np.pi)\nax1.set_xlim(f_span)\nax2.set_xlim(f_span)\nax2.set_ylim([-100, 100])\nax2.set_yticks([-90, -45, 0, 45, 90])\nax1.set_ylabel(r\"Amplitude (rad/(s$\\cdot$Nm))\")\nax2.set_ylabel(\"Phase (deg)\")\nax2.set_xlabel(\"Frequency (Hz)\")\nfig.align_ylabels()\nplt.show()"
      ]
    },
    {
      "cell_type": "markdown",
      "metadata": {},
      "source": [
        ".. rubric:: References\n\n.. [#Saa2015] Saarakkala, Hinkkanen, \"Identification of two-mass mechanical systems\n   using torque excitation: Design and experimental evaluation,\" IEEE Trans. Ind.\n   Appl., 2015, https://doi.org/10.1109/TIA.2015.2416128\n\n"
      ]
    }
  ],
  "metadata": {
    "kernelspec": {
      "display_name": "Python 3",
      "language": "python",
      "name": "python3"
    },
    "language_info": {
      "codemirror_mode": {
        "name": "ipython",
        "version": 3
      },
      "file_extension": ".py",
      "mimetype": "text/x-python",
      "name": "python",
      "nbconvert_exporter": "python",
      "pygments_lexer": "ipython3",
      "version": "3.12.11"
    }
  },
  "nbformat": 4,
  "nbformat_minor": 0
}