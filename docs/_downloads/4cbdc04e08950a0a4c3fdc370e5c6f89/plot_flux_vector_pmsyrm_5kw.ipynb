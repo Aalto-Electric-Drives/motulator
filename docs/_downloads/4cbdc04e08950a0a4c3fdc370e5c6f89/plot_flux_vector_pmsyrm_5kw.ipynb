{
  "cells": [
    {
      "cell_type": "markdown",
      "metadata": {},
      "source": [
        "\n# 5.5-kW PM-SyRM, saturated\n\nThis example simulates sensorless stator-flux-vector control of a 5.5-kW \nPM-SyRM (Baldor ECS101M0H7EF4) drive. The machine model is parametrized using \nthe algebraic saturation model from [#Lel2024]_, fitted to the flux linkage \nmaps measured using the constant-speed test. For comparison, the measured data \nis plotted together with the model predictions. Notice that the control system \nused in this example does not consider the saturation, only the system model \ndoes.\n"
      ]
    },
    {
      "cell_type": "code",
      "execution_count": null,
      "metadata": {
        "collapsed": false
      },
      "outputs": [],
      "source": [
        "from os import path\nimport inspect\nimport numpy as np\nfrom scipy.io import loadmat\nfrom scipy.optimize import minimize_scalar\nimport matplotlib.pyplot as plt\nfrom motulator import model, control\nfrom motulator import BaseValues, NominalValues, Sequence, plot"
      ]
    },
    {
      "cell_type": "markdown",
      "metadata": {},
      "source": [
        "Compute base values based on the nominal values (just for figures).\n\n"
      ]
    },
    {
      "cell_type": "code",
      "execution_count": null,
      "metadata": {
        "collapsed": false
      },
      "outputs": [],
      "source": [
        "nom = NominalValues(U=370, I=8.8, f=60, P=5.5e3, tau=29.2)\nbase = BaseValues.from_nominal(nom, n_p=2)"
      ]
    },
    {
      "cell_type": "markdown",
      "metadata": {},
      "source": [
        "Create a saturation model, which will be used in the machine model in the\nfollowing simulations.\n\n"
      ]
    },
    {
      "cell_type": "code",
      "execution_count": null,
      "metadata": {
        "collapsed": false
      },
      "outputs": [],
      "source": [
        "# pylint: disable=too-many-locals\ndef i_s(psi_s):\n    \"\"\"\n    Saturation model for a 5.5-kW PM-SyRM.\n    \n    This model takes into account the bridge saturation in addition to the \n    regular self- and cross-saturation effects of the d- and q-axis. The bridge \n    saturation model is based on a nonlinear reluctance element in parallel \n    with the Norton-equivalent PM model. \n\n    Parameters\n    ----------\n    psi_s : complex\n        Stator flux linkage (Vs).\n\n    Returns\n    -------\n    complex\n        Stator current (A).\n\n    Notes\n    -----\n    For simplicity, the saturation model parameters are hard-coded in the \n    function below. This model can also be used for other PM-SyRMs by changing \n    the model parameters.  \n\n    \"\"\"\n    # d-axis self-saturation\n    a_d0, a_dd, S = 3.96, 28.46, 4\n    # q-axis self-saturation\n    a_q0, a_qq, T = 5.89, 2.672, 6\n    # Cross-saturation\n    a_dq, U, V = 41.52, 1, 1\n    # PM model and bridge saturation\n    a_b, a_bp, k_q, psi_n, W = 81.75, 1, .1, .804, 2\n\n    # Inverse inductance functions for the d- and q-axis\n    G_d = a_d0 + a_dd*np.abs(psi_s.real)**S + (\n        a_dq/(V + 2)*np.abs(psi_s.real)**U*np.abs(psi_s.imag)**(V + 2))\n    G_q = a_q0 + a_qq*np.abs(psi_s.imag)**T + (\n        a_dq/(U + 2)*np.abs(psi_s.real)**(U + 2)*np.abs(psi_s.imag)**V)\n\n    # Bridge flux\n    psi_b = psi_s.real - psi_n\n    # State of the bridge saturation depends also on the q-axis flux\n    psi_b_sat = np.sqrt(psi_b**2 + k_q*psi_s.imag**2)\n    # Inverse inductance function for the bridge saturation\n    G_b = a_b*psi_b_sat**W/(1 + a_bp*psi_b_sat**W)\n\n    # Stator current\n    return G_d*psi_s.real + G_b*psi_b + 1j*(G_q + k_q*G_b)*psi_s.imag"
      ]
    },
    {
      "cell_type": "markdown",
      "metadata": {},
      "source": [
        "Plot the saturation model (surfaces) and the measured flux map data (points).\nNotice that the simulation uses the the algebraic model only. The\nmeasured data is shown only for comparison.\n\n"
      ]
    },
    {
      "cell_type": "code",
      "execution_count": null,
      "metadata": {
        "collapsed": false
      },
      "outputs": [],
      "source": [
        "# Load the measured data from the MATLAB file\np = path.dirname(path.abspath(inspect.getfile(inspect.currentframe())))\ndata = loadmat(p + \"/ABB_400rpm_map.mat\")\npsi_d_meas, psi_q_meas = data[\"psid_map\"], data[\"psiq_map\"]\ni_d_meas, i_q_meas = data[\"id_map\"], data[\"iq_map\"]\n\n# Generate the data to be plotted using the algebraic saturation model\npsi_d = np.arange(0, 1, .05)\npsi_q = np.arange(-1.35, 1.35, .05)\npsi_d, psi_q = np.meshgrid(psi_d, psi_q)\ni_d, i_q = i_s(psi_d + 1j*psi_q).real, i_s(psi_d + 1j*psi_q).imag\n\n# Create the figure and the subplots\nfig = plt.figure()\nax1 = fig.add_subplot(1, 2, 1, projection=\"3d\")\nax2 = fig.add_subplot(1, 2, 2, projection=\"3d\")\n\n# Plot the d-axis experimental data as points\nsurf1 = ax1.scatter(psi_d_meas, psi_q_meas, i_d_meas, marker=\".\", color=\"r\")\n\n# Plot the d-axis model predictions as surfaces\nsurf2 = ax1.plot_surface(\n    psi_d, psi_q, i_d, alpha=.75, cmap=\"viridis\", antialiased=False)\nax1.set_xlabel(r\"$\\psi_\\mathrm{d}$ (Vs)\")\nax1.set_ylabel(r\"$\\psi_\\mathrm{q}$ (Vs)\")\nax1.set_zlabel(r\"$i_\\mathrm{d}$ (A)\")\n\n# Plot the q-axis experimental data as points\nsurf3 = ax2.scatter(psi_d_meas, psi_q_meas, i_q_meas, marker=\".\", color=\"r\")\n\n# Plot the q-axis model predictions as surfaces\nsurf4 = ax2.plot_surface(\n    psi_d, psi_q, i_q, alpha=.75, cmap=\"viridis\", antialiased=False)\nax2.set_xlabel(r\"$\\psi_\\mathrm{d}$ (Vs)\")\nax2.set_ylabel(r\"$\\psi_\\mathrm{q}$ (Vs)\")\nax2.set_zlabel(r\"$i_\\mathrm{q}$ (A)\")\n\nplt.show()"
      ]
    },
    {
      "cell_type": "markdown",
      "metadata": {},
      "source": [
        "Solve the PM flux linkage for the initial value of the stator flux linkage,\nwhich is needed in the machine model below.\n\n"
      ]
    },
    {
      "cell_type": "code",
      "execution_count": null,
      "metadata": {
        "collapsed": false
      },
      "outputs": [],
      "source": [
        "res = minimize_scalar(\n    lambda psi_d: np.abs(i_s(psi_d)), bounds=(0, base.psi), method=\"bounded\")\npsi_s0 = complex(res.x)  # psi_s0 = 0.477"
      ]
    },
    {
      "cell_type": "markdown",
      "metadata": {},
      "source": [
        "Configure the system model.\n\n"
      ]
    },
    {
      "cell_type": "code",
      "execution_count": null,
      "metadata": {
        "collapsed": false
      },
      "outputs": [],
      "source": [
        "machine = model.SynchronousMachine(n_p=2, R_s=.63, i_s=i_s, psi_s0=psi_s0)\n# Magnetically linear PM-SyRM model for comparison\n# machine = model.sm.SynchronousMachine(\n#    n_p=2, R_s=.63, L_d=18e-3, L_q=110e-3, psi_f=.47)\nmechanics = model.Mechanics(J=.015)\nconverter = model.Inverter(u_dc=540)\nmdl = model.Drive(converter, machine, mechanics)\n# mdl.pwm = model.CarrierComparison()  # Enable the PWM model"
      ]
    },
    {
      "cell_type": "markdown",
      "metadata": {},
      "source": [
        "Configure the control system.\n\n"
      ]
    },
    {
      "cell_type": "code",
      "execution_count": null,
      "metadata": {
        "collapsed": false
      },
      "outputs": [],
      "source": [
        "# Control system is based on the constant inductances\npar = control.sm.ModelPars(\n    n_p=2, R_s=.63, L_d=18e-3, L_q=110e-3, psi_f=.47, J=.015)\n# Limit the maximum reference flux to the base value\ncfg = control.sm.FluxTorqueReferenceCfg(\n    par, max_i_s=2*base.i, k_u=1, max_psi_s=base.psi)\nctrl = control.sm.FluxVectorCtrl(par, cfg, sensorless=True)\n# Select a lower speed-estimation bandwidth to mitigate the saturation effects\nctrl.observer = control.sm.Observer(\n    control.sm.ObserverCfg(par, alpha_o=2*np.pi*40, sensorless=True))"
      ]
    },
    {
      "cell_type": "markdown",
      "metadata": {},
      "source": [
        "Set the speed reference and the external load torque.\n\n"
      ]
    },
    {
      "cell_type": "code",
      "execution_count": null,
      "metadata": {
        "collapsed": false
      },
      "outputs": [],
      "source": [
        "# Speed reference (electrical rad/s)\ntimes = np.array([0, .125, .25, .375, .5, .625, .75, .875, 1])*4\nvalues = np.array([0, 0, 1, 1, 0, -1, -1, 0, 0])*base.w\nctrl.ref.w_m = Sequence(times, values)\n# External load torque\ntimes = np.array([0, .125, .125, .875, .875, 1])*4\nvalues = np.array([0, 0, 1, 1, 0, 0])*nom.tau\nmdl.mechanics.tau_L_t = Sequence(times, values)"
      ]
    },
    {
      "cell_type": "markdown",
      "metadata": {},
      "source": [
        "Create the simulation object and simulate it.\n\n"
      ]
    },
    {
      "cell_type": "code",
      "execution_count": null,
      "metadata": {
        "collapsed": false
      },
      "outputs": [],
      "source": [
        "sim = model.Simulation(mdl, ctrl)\nsim.simulate(t_stop=4)"
      ]
    },
    {
      "cell_type": "markdown",
      "metadata": {},
      "source": [
        "Plot results in per-unit values.\n\n"
      ]
    },
    {
      "cell_type": "code",
      "execution_count": null,
      "metadata": {
        "collapsed": false
      },
      "outputs": [],
      "source": [
        "plot(sim, base)"
      ]
    },
    {
      "cell_type": "markdown",
      "metadata": {},
      "source": [
        ".. rubric:: References\n\n.. [#Lel2024] Lelli, Hinkkanen, Giulii Capponi, \"A saturation model based on\n   a simplified equivalent magnetic circuit for permanent magnet machines,\"\n   TechRxiv., 2024, https://doi.org/10.36227/techrxiv.171332345.53790692/v1\n\n"
      ]
    }
  ],
  "metadata": {
    "kernelspec": {
      "display_name": "Python 3",
      "language": "python",
      "name": "python3"
    },
    "language_info": {
      "codemirror_mode": {
        "name": "ipython",
        "version": 3
      },
      "file_extension": ".py",
      "mimetype": "text/x-python",
      "name": "python",
      "nbconvert_exporter": "python",
      "pygments_lexer": "ipython3",
      "version": "3.8.2"
    }
  },
  "nbformat": 4,
  "nbformat_minor": 0
}