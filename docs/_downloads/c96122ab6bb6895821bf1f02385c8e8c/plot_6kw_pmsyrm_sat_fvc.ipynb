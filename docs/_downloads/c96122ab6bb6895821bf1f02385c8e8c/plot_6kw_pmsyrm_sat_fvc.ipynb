{
  "cells": [
    {
      "cell_type": "markdown",
      "metadata": {},
      "source": [
        "\n# 5.6-kW saturated PM-SyRM, FVC\n\nThis example simulates sensorless flux-vector control (FVC) of a 5.6-kW permanent-magnet\nsynchronous reluctance machine (PM-SyRM, Baldor ECS101M0H7EF4) drive. The machine model\nis parametrized using the flux map data, measured using the constant-speed test.\n\nThe control system is parametrized using an algebraic saturation model from [#Lel2024]_,\nfitted to the measured data. For comparison, the measured data is plotted together with\nthe model predictions.\n\nThis example also demonstrates the mechanical-model-based speed observer [#Lor1991]_.\nThe lag of the speed estimate in accelerations is avoided, allowing to increase the\nspeed-control bandwidth. Using the mechanical-model-based speed observer is particularly\nuseful in the case of PM-SyRMs, where the speed-estimation bandwidth otherwise would be\nlimited due to the comparatively large q-axis inductance.\n"
      ]
    },
    {
      "cell_type": "code",
      "execution_count": null,
      "metadata": {
        "collapsed": false
      },
      "outputs": [],
      "source": [
        "from pathlib import Path\n\nimport numpy as np\nfrom scipy.io import loadmat\n\nimport motulator.drive.control.sm as control\nfrom motulator.drive import model, utils"
      ]
    },
    {
      "cell_type": "markdown",
      "metadata": {},
      "source": [
        "Compute base values based on the nominal values (just for figures).\n\n"
      ]
    },
    {
      "cell_type": "code",
      "execution_count": null,
      "metadata": {
        "collapsed": false
      },
      "outputs": [],
      "source": [
        "nom = utils.NominalValues(U=460, I=8.8, f=60, P=5.6e3, tau=29.7)\nbase = utils.BaseValues.from_nominal(nom, n_p=2)"
      ]
    },
    {
      "cell_type": "markdown",
      "metadata": {},
      "source": [
        "Plot the saturation model (surfaces) and the measured flux map data (points). This\ndata is used to parametrize the machine model.\n\n"
      ]
    },
    {
      "cell_type": "code",
      "execution_count": null,
      "metadata": {
        "collapsed": false
      },
      "outputs": [],
      "source": [
        "# Load the measured data from the MATLAB file\np = Path(__file__).resolve().parent if \"__file__\" in globals() else Path.cwd()\nmeas_data = loadmat(p / \"ABB_400rpm_map.mat\")\n\n# Create the flux map from the measured data\nmeas_flux_map = utils.MagneticModel(\n    i_s_dq=meas_data[\"id_map\"] + 1j * meas_data[\"iq_map\"],\n    psi_s_dq=meas_data[\"psid_map\"] + 1j * meas_data[\"psiq_map\"],\n    type=\"flux_map\",\n)\n\n# Plot the measured data\n# sphinx_gallery_thumbnail_number = 4\nutils.plot_flux_vs_current(meas_flux_map, base, x_lims=(-1.5, 1.5))"
      ]
    },
    {
      "cell_type": "markdown",
      "metadata": {},
      "source": [
        "Create a saturation model, which will be used in the control system.\n\n"
      ]
    },
    {
      "cell_type": "code",
      "execution_count": null,
      "metadata": {
        "collapsed": false
      },
      "outputs": [],
      "source": [
        "i_s_dq_fcn = utils.SaturationModelPMSyRM(\n    a_d0=3.96,\n    a_dd=28.5,\n    S=4,\n    a_q0=1.1 * 5.89,  # Unsaturated q-axis inductance is underestimated for robustness\n    a_qq=2.67,\n    T=6,\n    a_dq=41.5,\n    U=1,\n    V=1,\n    a_b=81.75,\n    a_bp=1,\n    k_q=0.1,\n    psi_n=0.804,\n    W=2,\n)"
      ]
    },
    {
      "cell_type": "markdown",
      "metadata": {},
      "source": [
        "Compare the saturation model with the measured data.\n\n"
      ]
    },
    {
      "cell_type": "code",
      "execution_count": null,
      "metadata": {
        "collapsed": false
      },
      "outputs": [],
      "source": [
        "# Generate the flux map using the saturation model\nest_curr_map = i_s_dq_fcn.as_magnetic_model(\n    d_range=np.linspace(-0.1 * base.psi, base.psi, 256),\n    q_range=np.linspace(-1.4 * base.psi, 1.4 * base.psi, 256),\n)\nest_flux_map = est_curr_map.invert()\n\n# Plot the saturation model (surface) and the measured data (points)\nutils.plot_map(\n    est_flux_map,\n    \"d\",\n    base,\n    lims={\"x\": (-2, 2), \"y\": (-2, 2), \"z\": (0, 1)},\n    ticks={\"x\": [-2, -1, 0, 1, 2], \"y\": [-2, -1, 0, 1, 2]},\n    raw_data=meas_flux_map,\n)\nutils.plot_map(\n    est_flux_map,\n    \"q\",\n    base,\n    lims={\"x\": (-2, 2), \"y\": (-2, 2), \"z\": (-1.5, 1.5)},\n    ticks={\"x\": [-2, -1, 0, 1, 2], \"y\": [-2, -1, 0, 1, 2]},\n    raw_data=meas_flux_map,\n)"
      ]
    },
    {
      "cell_type": "markdown",
      "metadata": {},
      "source": [
        "Configure the system model.\n\n"
      ]
    },
    {
      "cell_type": "code",
      "execution_count": null,
      "metadata": {
        "collapsed": false
      },
      "outputs": [],
      "source": [
        "meas_curr_map = meas_flux_map.invert()\npar = model.SaturatedSynchronousMachinePars(n_p=2, R_s=0.63, i_s_dq_fcn=meas_curr_map)\nmachine = model.SynchronousMachine(par)\nmechanics = model.MechanicalSystem(J=0.05)\nconverter = model.VoltageSourceConverter(u_dc=540)\nmdl = model.Drive(machine, mechanics, converter)"
      ]
    },
    {
      "cell_type": "markdown",
      "metadata": {},
      "source": [
        "Configure the control system. Since the inertia estimate `J` is provided in\n`FluxVectorControllerCfg`, the mechanical-model-based speed observer is used. Integral\naction in flux-vector control is not needed (`alpha_i = 0`) since the speed observer's\nload-torque disturbance estimation provides integral action.\n\n"
      ]
    },
    {
      "cell_type": "code",
      "execution_count": null,
      "metadata": {
        "collapsed": false
      },
      "outputs": [],
      "source": [
        "est_par = control.SaturatedSynchronousMachinePars(\n    n_p=2, R_s=0.63, i_s_dq_fcn=est_curr_map, psi_s_dq_fcn=est_flux_map\n)\ncfg = control.FluxVectorControllerCfg(i_s_max=2 * base.i, J=0.05, alpha_i=0)\n# cfg = control.FluxVectorControllerCfg(i_s_max=2 * base.i)\nvector_ctrl = control.FluxVectorController(est_par, cfg, sensorless=True)\nspeed_ctrl = control.SpeedController(J=0.05, alpha_s=2 * np.pi * 4)\nctrl = control.VectorControlSystem(vector_ctrl, speed_ctrl)"
      ]
    },
    {
      "cell_type": "markdown",
      "metadata": {},
      "source": [
        "Visualize the control loci.\n\n"
      ]
    },
    {
      "cell_type": "code",
      "execution_count": null,
      "metadata": {
        "collapsed": false
      },
      "outputs": [],
      "source": [
        "i_s_vals = [1, 2, 3]  # Current values for the plots\nmc = utils.MachineCharacteristics(est_par)\nmc.plot_flux_vs_torque(i_s_vals, base)\nmc.plot_current_vs_torque(i_s_vals, base)\nmc.plot_current_loci(i_s_vals, base)\nmc.plot_flux_loci(i_s_vals, base)"
      ]
    },
    {
      "cell_type": "markdown",
      "metadata": {},
      "source": [
        "Set the speed reference and the external load torque.\n\n"
      ]
    },
    {
      "cell_type": "code",
      "execution_count": null,
      "metadata": {
        "collapsed": false
      },
      "outputs": [],
      "source": [
        "ctrl.set_speed_ref(lambda t: (t > 0.2) * 2 * base.w_M)\nmdl.mechanics.set_external_load_torque(lambda t: (t > 0.8) * 0.7 * nom.tau)"
      ]
    },
    {
      "cell_type": "markdown",
      "metadata": {},
      "source": [
        "Create the simulation object, simulate, and plot the results in per-unit values.\n\n"
      ]
    },
    {
      "cell_type": "code",
      "execution_count": null,
      "metadata": {
        "collapsed": false
      },
      "outputs": [],
      "source": [
        "sim = model.Simulation(mdl, ctrl)\nres = sim.simulate(t_stop=1.4)\nutils.plot(res, base)"
      ]
    },
    {
      "cell_type": "markdown",
      "metadata": {},
      "source": [
        ".. rubric:: References\n\n.. [#Lel2024] Lelli, Hinkkanen, Giulii Capponi, \"A saturation model based on a\n   simplified equivalent magnetic circuit for permanent magnet machines,\" Proc. ICEM,\n   2024, https://doi.org/10.1109/ICEM60801.2024.10700403\n\n.. [#Lor1991] Lorenz, Van Patten, \"High-resolution velocity estimation for\n   all-digital, AC servo drives,\" IEEE Trans. Ind. Appl., 1991,\n   https://doi.org/10.1109/28.85485\n\n"
      ]
    }
  ],
  "metadata": {
    "kernelspec": {
      "display_name": "Python 3",
      "language": "python",
      "name": "python3"
    },
    "language_info": {
      "codemirror_mode": {
        "name": "ipython",
        "version": 3
      },
      "file_extension": ".py",
      "mimetype": "text/x-python",
      "name": "python",
      "nbconvert_exporter": "python",
      "pygments_lexer": "ipython3",
      "version": "3.12.11"
    }
  },
  "nbformat": 4,
  "nbformat_minor": 0
}