{
  "cells": [
    {
      "cell_type": "markdown",
      "metadata": {},
      "source": [
        "\n# 2.2-kW induction motor, saturated\n\nThis example simulates sensorless current-vector control of a 2.2-kW induction \nmotor drive. The magnetic saturation of the machine is also included in the \nsystem model, while the control system assumes constant parameters. \n"
      ]
    },
    {
      "cell_type": "code",
      "execution_count": null,
      "metadata": {
        "collapsed": false
      },
      "outputs": [],
      "source": [
        "from motulator.drive import model\nimport motulator.drive.control.im as control\nfrom motulator.drive.utils import (\n    BaseValues, NominalValues, plot, InductionMachinePars,\n    InductionMachineInvGammaPars)"
      ]
    },
    {
      "cell_type": "markdown",
      "metadata": {},
      "source": [
        "Compute base values based on the nominal values (just for figures).\n\n"
      ]
    },
    {
      "cell_type": "code",
      "execution_count": null,
      "metadata": {
        "collapsed": false
      },
      "outputs": [],
      "source": [
        "nom = NominalValues(U=400, I=5, f=50, P=2.2e3, tau=14.6)\nbase = BaseValues.from_nominal(nom, n_p=2)"
      ]
    },
    {
      "cell_type": "markdown",
      "metadata": {},
      "source": [
        "Configure the system model.\n\n"
      ]
    },
    {
      "cell_type": "markdown",
      "metadata": {},
      "source": [
        "The main-flux saturation is modeled based on [#Qu2012]_. For simplicity, the\nparameters are hardcoded in the function below, but this model structure can\nbe used also for other induction machines.\n\n"
      ]
    },
    {
      "cell_type": "code",
      "execution_count": null,
      "metadata": {
        "collapsed": false
      },
      "outputs": [],
      "source": [
        "def L_s(psi):\n    \"\"\"\n    Stator inductance saturation model for a 2.2-kW induction machine.\n\n    Parameters\n    ----------\n    psi : float\n        Magnitude of the stator flux linkage (Vs).\n    \n    Returns\n    -------\n    float\n        Stator inductance (H).\n\n    \"\"\"\n    # Saturation model parameters for a 2.2-kW induction machine, based on the\n    # measured data\n    L_su, beta, S = .34, .84, 7\n    # Stator inductance\n    return L_su/(1 + (beta*psi)**S)"
      ]
    },
    {
      "cell_type": "markdown",
      "metadata": {},
      "source": [
        "Create the system model.\n\n"
      ]
    },
    {
      "cell_type": "code",
      "execution_count": null,
      "metadata": {
        "collapsed": false
      },
      "outputs": [],
      "source": [
        "# \u0393-equivalent machine model with main-flux saturation included\nmdl_par = InductionMachinePars(n_p=2, R_s=3.7, R_r=2.5, L_ell=.023, L_s=L_s)\n# Unsaturated machine model, using its inverse-\u0393 parameters (uncomment to try)\n# par = InductionMachineInvGammaPars(\n#     n_p=2, R_s=3.7, R_R=2.1, L_sgm=.021, L_M=.224)\n# mdl_par = InductionMachinePars.from_inv_gamma_model_pars(par)\nmachine = model.InductionMachine(mdl_par)\nmechanics = model.Mechanics(J=.015)\n#mechanics = model.TwoMassMechanics(\n#    J_M=.005, J_L=.005, K_S=700, C_S=.01)  # C_S=.13\nconverter = model.Inverter(u_dc=540)\nmdl = model.Drive(converter, machine, mechanics)\n# mdl.pwm = model.CarrierComparison()  # Try to enable the PWM model\n# mdl.delay = model.Delay(2)  # Try longer computational delay"
      ]
    },
    {
      "cell_type": "markdown",
      "metadata": {},
      "source": [
        "Configure the control system.\n\n"
      ]
    },
    {
      "cell_type": "code",
      "execution_count": null,
      "metadata": {
        "collapsed": false
      },
      "outputs": [],
      "source": [
        "# Machine model parameter estimates\npar = InductionMachineInvGammaPars(\n    n_p=2, R_s=3.7, R_R=2.1, L_sgm=.021, L_M=.224)\n# Set nominal values and limits for reference generation\ncfg = control.CurrentReferenceCfg(\n    par, max_i_s=1.5*base.i, nom_u_s=base.u, nom_w_s=base.w)\n# Create the control system\nctrl = control.CurrentVectorCtrl(par, cfg, J=.015, T_s=250e-6, sensorless=True)\n# As an example, you may replace the default 2DOF PI speed controller with the\n# regular PI speed controller by uncommenting the following line\n# from motulator.common import PICtrl\n# ctrl.speed_ctrl = PICtrl(k_p=1, k_i=1)"
      ]
    },
    {
      "cell_type": "markdown",
      "metadata": {},
      "source": [
        "Set the speed reference and the external load torque. You may also try to\nuncomment the field-weakening sequence.\n\n"
      ]
    },
    {
      "cell_type": "code",
      "execution_count": null,
      "metadata": {
        "collapsed": false
      },
      "outputs": [],
      "source": [
        "# Simple acceleration and load torque step\nctrl.ref.w_m = lambda t: (t > .2)*(.5*base.w)\nmdl.mechanics.tau_L_t = lambda t: (t > .75)*nom.tau\n\n# No load, field-weakening (uncomment to try)\n# ctrl.ref.w_m = lambda t: (t > .2)*(2*base.w)\n# mdl.mechanics.tau_L_t = lambda t: 0"
      ]
    },
    {
      "cell_type": "markdown",
      "metadata": {},
      "source": [
        "Create the simulation object and simulate it.\n\n"
      ]
    },
    {
      "cell_type": "code",
      "execution_count": null,
      "metadata": {
        "collapsed": false
      },
      "outputs": [],
      "source": [
        "sim = model.Simulation(mdl, ctrl)\nsim.simulate(t_stop=1.5)"
      ]
    },
    {
      "cell_type": "markdown",
      "metadata": {},
      "source": [
        "Plot results in per-unit values. By omitting the argument `base` you can plot\nthe results in SI units.\n\n"
      ]
    },
    {
      "cell_type": "code",
      "execution_count": null,
      "metadata": {
        "collapsed": false
      },
      "outputs": [],
      "source": [
        "plot(sim, base)"
      ]
    },
    {
      "cell_type": "markdown",
      "metadata": {},
      "source": [
        ".. rubric:: References\n\n.. [#Qu2012] Qu, Ranta, Hinkkanen, Luomi, \"Loss-minimizing flux level control\n   of induction motor drives,\" IEEE Trans. Ind. Appl., 2012,\n   https://doi.org/10.1109/TIA.2012.2190818\n\n"
      ]
    }
  ],
  "metadata": {
    "kernelspec": {
      "display_name": "Python 3",
      "language": "python",
      "name": "python3"
    },
    "language_info": {
      "codemirror_mode": {
        "name": "ipython",
        "version": 3
      },
      "file_extension": ".py",
      "mimetype": "text/x-python",
      "name": "python",
      "nbconvert_exporter": "python",
      "pygments_lexer": "ipython3",
      "version": "3.8.2"
    }
  },
  "nbformat": 4,
  "nbformat_minor": 0
}