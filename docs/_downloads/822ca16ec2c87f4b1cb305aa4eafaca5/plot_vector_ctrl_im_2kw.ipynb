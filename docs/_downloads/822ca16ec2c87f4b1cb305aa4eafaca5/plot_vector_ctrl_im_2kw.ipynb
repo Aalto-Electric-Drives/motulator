{
  "cells": [
    {
      "cell_type": "markdown",
      "metadata": {},
      "source": [
        "\n# 2.2-kW induction motor, saturated\n\nThis example simulates sensorless vector control of a 2.2-kW induction motor\ndrive. The magnetic saturation of the machine is also included in the system \nmodel, while the control system assumes constant parameters. \n"
      ]
    },
    {
      "cell_type": "markdown",
      "metadata": {},
      "source": [
        "Imports.\n\n"
      ]
    },
    {
      "cell_type": "code",
      "execution_count": null,
      "metadata": {
        "collapsed": false
      },
      "outputs": [],
      "source": [
        "from motulator import model, control\nfrom motulator import BaseValues, plot"
      ]
    },
    {
      "cell_type": "markdown",
      "metadata": {},
      "source": [
        "Compute base values based on the nominal values (just for figures).\n\n"
      ]
    },
    {
      "cell_type": "code",
      "execution_count": null,
      "metadata": {
        "collapsed": false
      },
      "outputs": [],
      "source": [
        "base = BaseValues(\n    U_nom=400, I_nom=5, f_nom=50, tau_nom=14.6, P_nom=2.2e3, n_p=2)"
      ]
    },
    {
      "cell_type": "markdown",
      "metadata": {},
      "source": [
        "Configure the system model.\n\n"
      ]
    },
    {
      "cell_type": "markdown",
      "metadata": {},
      "source": [
        "The main-flux saturation is modeled based on [#Qu2012]_. For simplicity, the\nparameters are hardcoded in the function below, but this model structure can\nbe used also for other induction machines.\n\n"
      ]
    },
    {
      "cell_type": "code",
      "execution_count": null,
      "metadata": {
        "collapsed": false
      },
      "outputs": [],
      "source": [
        "def L_s(psi):\n    \"\"\"\n    Stator inductance saturation model for a 2.2-kW machine.\n\n    Parameters\n    ----------\n    psi : float\n        Magnitude of the stator flux linkage (Vs).\n    \n    Returns\n    -------\n    float\n        Stator inductance (H).\n\n    \"\"\"\n    # Saturation model parameters for a 2.2-kW induction machine, based on the\n    # measured data\n    L_su, beta, S = .34, .84, 7\n    # Stator inductance\n    return L_su/(1 + (beta*psi)**S)"
      ]
    },
    {
      "cell_type": "markdown",
      "metadata": {},
      "source": [
        "Create the system model.\n\n"
      ]
    },
    {
      "cell_type": "code",
      "execution_count": null,
      "metadata": {
        "collapsed": false
      },
      "outputs": [],
      "source": [
        "# \u0393-equivalent machine model with main-flux saturation included\nmachine = model.im.InductionMachineSaturated(\n    n_p=2, R_s=3.7, R_r=2.5, L_ell=.023, L_s=L_s)\n# Unsaturated machine model, using its inverse-\u0393 parameters (uncomment to try)\n# machine = model.im.InductionMachineInvGamma(\n#    R_s=3.7, R_R=2.1, L_sgm=.021, L_M=.224, n_p=2)\n# Alternatively, configure the machine model using its \u0393 parameters\n# machine = model.im.InductionMachine(\n#     R_s=3.7, R_r=2.5, L_ell=.023, L_s=.245, n_p=2)\nmechanics = model.Mechanics(J=.015)\nconverter = model.Inverter(u_dc=540)\nmdl = model.im.Drive(machine, mechanics, converter)"
      ]
    },
    {
      "cell_type": "markdown",
      "metadata": {},
      "source": [
        "Configure the control system.\n\n"
      ]
    },
    {
      "cell_type": "code",
      "execution_count": null,
      "metadata": {
        "collapsed": false
      },
      "outputs": [],
      "source": [
        "# Machine model parameters\npar = control.im.ModelPars(\n    R_s=3.7, R_R=2.1, L_sgm=.021, L_M=.224, n_p=2, J=.015)\n# Set nominal values and limits for reference generation\nref = control.im.CurrentReferencePars(\n    par, i_s_max=1.5*base.i, u_s_nom=base.u, w_s_nom=base.w)\n# Create the control system\nctrl = control.im.VectorCtrl(par, ref, T_s=250e-6, sensorless=True)\n# As an example, you may replace the default 2DOF PI speed controller with the\n# regular PI speed controller by uncommenting the following line\n# ctrl.speed_ctrl = control.PICtrl(k_p=1, k_i=1)"
      ]
    },
    {
      "cell_type": "markdown",
      "metadata": {},
      "source": [
        "Set the speed reference and the external load torque. You may also try to\nuncomment the field-weakening sequence.\n\n"
      ]
    },
    {
      "cell_type": "code",
      "execution_count": null,
      "metadata": {
        "collapsed": false
      },
      "outputs": [],
      "source": [
        "# Simple acceleration and load torque step\nctrl.w_m_ref = lambda t: (t > .2)*(.5*base.w)\nmdl.mechanics.tau_L_t = lambda t: (t > .75)*base.tau_nom\n\n# No load, field-weakening (uncomment to try)\n# ctrl.w_m_ref = lambda t: (t > .2)*(2*base.w)\n# mdl.mechanics.tau_L_t = lambda t: 0\n\n# Speed reversals under the rated load (uncomment to try, change t_stop=8 below)\n# import numpy as np\n# from motulator.helpers import Sequence\n# times = np.array([0, .125, .25, .375, .5, .625, .75, .875, 1])*8\n# values = np.array([0, 0, 1, 1, 0, -1, -1, 0, 0])*base.w\n# ctrl.w_m_ref = Sequence(times, values)\n# # External load torque\n# times = np.array([0, .125, .125, .875, .875, 1])*8\n# values = np.array([0, 0, 1, 1, 0, 0])*base.tau_nom\n# mdl.mechanics.tau_L_t = Sequence(times, values)"
      ]
    },
    {
      "cell_type": "markdown",
      "metadata": {},
      "source": [
        "Create the simulation object and simulate it. You can also enable the PWM\nmodel (which makes simulation slower).\n\n"
      ]
    },
    {
      "cell_type": "code",
      "execution_count": null,
      "metadata": {
        "collapsed": false
      },
      "outputs": [],
      "source": [
        "sim = model.Simulation(mdl, ctrl, pwm=False)\nsim.simulate(t_stop=1.5)"
      ]
    },
    {
      "cell_type": "markdown",
      "metadata": {},
      "source": [
        "Plot results in per-unit values. By omitting the argument `base` you can plot\nthe results in SI units.\n\n"
      ]
    },
    {
      "cell_type": "code",
      "execution_count": null,
      "metadata": {
        "collapsed": false
      },
      "outputs": [],
      "source": [
        "plot(sim, base)"
      ]
    },
    {
      "cell_type": "markdown",
      "metadata": {},
      "source": [
        ".. rubric:: References\n\n.. [#Qu2012] Qu, Ranta, Hinkkanen, Luomi, \"Loss-minimizing flux level control\n   of induction motor drives,\" IEEE Trans. Ind. Appl., 2012,\n   https://doi.org/10.1109/TIA.2012.2190818\n\n"
      ]
    }
  ],
  "metadata": {
    "kernelspec": {
      "display_name": "Python 3",
      "language": "python",
      "name": "python3"
    },
    "language_info": {
      "codemirror_mode": {
        "name": "ipython",
        "version": 3
      },
      "file_extension": ".py",
      "mimetype": "text/x-python",
      "name": "python",
      "nbconvert_exporter": "python",
      "pygments_lexer": "ipython3",
      "version": "3.8.2"
    }
  },
  "nbformat": 4,
  "nbformat_minor": 0
}