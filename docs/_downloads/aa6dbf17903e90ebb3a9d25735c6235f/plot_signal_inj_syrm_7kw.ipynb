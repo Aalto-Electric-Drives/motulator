{
  "cells": [
    {
      "cell_type": "markdown",
      "metadata": {},
      "source": [
        "\n# 6.7-kW SyRM\n\nThis example simulates sensorless vector control of a 6.7-kW SyRM drive.\nSquare-wave signal injection is used with a simple phase-locked loop.\n"
      ]
    },
    {
      "cell_type": "markdown",
      "metadata": {},
      "source": [
        "Imports.\n\n"
      ]
    },
    {
      "cell_type": "code",
      "execution_count": null,
      "metadata": {
        "collapsed": false
      },
      "outputs": [],
      "source": [
        "import numpy as np\nimport matplotlib.pyplot as plt\nfrom motulator import model, control\nfrom motulator import BaseValues, Sequence, plot"
      ]
    },
    {
      "cell_type": "markdown",
      "metadata": {},
      "source": [
        "Compute base values based on the nominal values (just for figures).\n\n"
      ]
    },
    {
      "cell_type": "code",
      "execution_count": null,
      "metadata": {
        "collapsed": false
      },
      "outputs": [],
      "source": [
        "base = BaseValues(\n    U_nom=370, I_nom=15.5, f_nom=105.8, tau_nom=20.1, P_nom=6.7e3, n_p=2)"
      ]
    },
    {
      "cell_type": "markdown",
      "metadata": {},
      "source": [
        "Configure the system model.\n\n"
      ]
    },
    {
      "cell_type": "code",
      "execution_count": null,
      "metadata": {
        "collapsed": false
      },
      "outputs": [],
      "source": [
        "machine = model.sm.SynchronousMachine(\n    n_p=2, R_s=.54, L_d=41.5e-3, L_q=6.2e-3, psi_f=0)\nmechanics = model.Mechanics(J=.015)\nconverter = model.Inverter(u_dc=540)\nmdl = model.sm.Drive(machine, mechanics, converter)"
      ]
    },
    {
      "cell_type": "markdown",
      "metadata": {},
      "source": [
        "Configure the control system.\n\n"
      ]
    },
    {
      "cell_type": "code",
      "execution_count": null,
      "metadata": {
        "collapsed": false
      },
      "outputs": [],
      "source": [
        "par = control.sm.ModelPars(\n    n_p=2, R_s=.54, L_d=41.5e-3, L_q=6.2e-3, psi_f=0, J=.015)\nref = control.sm.CurrentReferencePars(\n    par, w_m_nom=base.w, i_s_max=2*base.i, psi_s_min=.5*base.psi)\nctrl = control.sm.SignalInjectionCtrl(par, ref, T_s=250e-6)\n# ctrl.current_ctrl = control.CurrentCtrl(par, 2*np.pi*100)\n# ctrl.signal_inj = control.SignalInjection(par, U_inj=200)"
      ]
    },
    {
      "cell_type": "markdown",
      "metadata": {},
      "source": [
        "Set the speed reference and the external load torque.\n\n"
      ]
    },
    {
      "cell_type": "code",
      "execution_count": null,
      "metadata": {
        "collapsed": false
      },
      "outputs": [],
      "source": [
        "# Speed reference\ntimes = np.array([0, .25, .25, .375, .5, .625, .75, .75, 1])*4\nvalues = np.array([0, 0, 1, 1, 0, -1, -1, 0, 0])*base.w*.1\nctrl.w_m_ref = Sequence(times, values)\n# External load torque\ntimes = np.array([0, .125, .125, .875, .875, 1])*4\nvalues = np.array([0, 0, 1, 1, 0, 0])*base.tau_nom\nmdl.mechanics.tau_L_t = Sequence(times, values)"
      ]
    },
    {
      "cell_type": "markdown",
      "metadata": {},
      "source": [
        "Create the simulation object and simulate it.\n\n"
      ]
    },
    {
      "cell_type": "code",
      "execution_count": null,
      "metadata": {
        "collapsed": false
      },
      "outputs": [],
      "source": [
        "sim = model.Simulation(mdl, ctrl, pwm=False)\nsim.simulate(t_stop=4)"
      ]
    },
    {
      "cell_type": "markdown",
      "metadata": {},
      "source": [
        "Plot results in per-unit values.\n\n"
      ]
    },
    {
      "cell_type": "code",
      "execution_count": null,
      "metadata": {
        "collapsed": false
      },
      "outputs": [],
      "source": [
        "# Plot the \"basic\" figure\nplot(sim, base)\n\n# Plot also the angles\nmdl = sim.mdl.data  # Continuous-time data\nctrl = sim.ctrl.data  # Discrete-time data\nplt.figure()\nplt.plot(mdl.t, mdl.theta_m, label=r\"$\\vartheta_\\mathrm{m}$\")\nplt.step(\n    ctrl.t, ctrl.theta_m, where='post', label=r\"$\\hat \\vartheta_\\mathrm{m}$\")\nplt.legend()\nplt.xlim(0, 4)\nplt.xlabel(\"Time (s)\")\nplt.ylabel(\"Electrical angle (rad)\")\nplt.show()"
      ]
    }
  ],
  "metadata": {
    "kernelspec": {
      "display_name": "Python 3",
      "language": "python",
      "name": "python3"
    },
    "language_info": {
      "codemirror_mode": {
        "name": "ipython",
        "version": 3
      },
      "file_extension": ".py",
      "mimetype": "text/x-python",
      "name": "python",
      "nbconvert_exporter": "python",
      "pygments_lexer": "ipython3",
      "version": "3.8.2"
    }
  },
  "nbformat": 4,
  "nbformat_minor": 0
}