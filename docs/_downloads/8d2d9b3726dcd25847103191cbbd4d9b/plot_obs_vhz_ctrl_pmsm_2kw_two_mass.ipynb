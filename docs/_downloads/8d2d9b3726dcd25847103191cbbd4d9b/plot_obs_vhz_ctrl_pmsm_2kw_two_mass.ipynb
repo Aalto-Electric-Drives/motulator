{
  "cells": [
    {
      "cell_type": "markdown",
      "metadata": {},
      "source": [
        "\n# 2.2-kW PMSM, 2-mass mechanics\n\nThis example simulates observer-based V/Hz control of a 2.2-kW PMSM drive. The\nmechanical subsystem is modeled as a two-mass system. The resonance frequency\nof the mechanics is around 85 Hz. The mechanical parameters correspond to \n[#Saa2015]_, except that the torsional damping is set to a smaller value in \nthis example.\n"
      ]
    },
    {
      "cell_type": "markdown",
      "metadata": {},
      "source": [
        "Imports.\n\n"
      ]
    },
    {
      "cell_type": "code",
      "execution_count": null,
      "metadata": {
        "collapsed": false
      },
      "outputs": [],
      "source": [
        "import numpy as np\nimport matplotlib.pyplot as plt\nfrom motulator import model, control\nfrom motulator import BaseValues, Sequence, plot"
      ]
    },
    {
      "cell_type": "markdown",
      "metadata": {},
      "source": [
        "Compute base values based on the nominal values (just for figures).\n\n"
      ]
    },
    {
      "cell_type": "code",
      "execution_count": null,
      "metadata": {
        "collapsed": false
      },
      "outputs": [],
      "source": [
        "base = BaseValues(\n    U_nom=370, I_nom=4.3, f_nom=75, tau_nom=14, P_nom=2.2e3, n_p=3)"
      ]
    },
    {
      "cell_type": "markdown",
      "metadata": {},
      "source": [
        "Configure the system model.\n\n"
      ]
    },
    {
      "cell_type": "code",
      "execution_count": null,
      "metadata": {
        "collapsed": false
      },
      "outputs": [],
      "source": [
        "machine = model.sm.SynchronousMachine(\n    n_p=3, R_s=3.6, L_d=.036, L_q=.051, psi_f=.545)\nmechanics = model.MechanicsTwoMass(\n    J_M=.005, J_L=.005, K_S=700, C_S=.01)  # C_S=.13\nconverter = model.Inverter(u_dc=540)\nmdl = model.sm.DriveTwoMassMechanics(machine, mechanics, converter)"
      ]
    },
    {
      "cell_type": "markdown",
      "metadata": {},
      "source": [
        "Configure the control system.\n\n"
      ]
    },
    {
      "cell_type": "code",
      "execution_count": null,
      "metadata": {
        "collapsed": false
      },
      "outputs": [],
      "source": [
        "par = control.sm.ModelPars(n_p=3, R_s=3.6, L_d=.036, L_q=.051, psi_f=.545)\nctrl_par = control.sm.ObserverBasedVHzCtrlPars(par, i_s_max=1.5*base.i)\nctrl = control.sm.ObserverBasedVHzCtrl(par, ctrl_par, T_s=250e-6)\n#ctrl.rate_limiter = control.RateLimiter(2*np.pi*120)"
      ]
    },
    {
      "cell_type": "markdown",
      "metadata": {},
      "source": [
        "Set the speed reference and the external load torque.\n\n"
      ]
    },
    {
      "cell_type": "code",
      "execution_count": null,
      "metadata": {
        "collapsed": false
      },
      "outputs": [],
      "source": [
        "# Speed reference\ntimes = np.array([0, .1, .2, 1])\nvalues = np.array([0, 0, 1, 1])*base.w*.5\nctrl.w_m_ref = Sequence(times, values)\n# External load torque\ntimes = np.array([0, .4, .4, 1])\nvalues = np.array([0, 0, 1, 1])*base.tau_nom\nmdl.mechanics.tau_L_t = Sequence(times, values)"
      ]
    },
    {
      "cell_type": "markdown",
      "metadata": {},
      "source": [
        "Create the simulation object and simulate it.\n\n"
      ]
    },
    {
      "cell_type": "code",
      "execution_count": null,
      "metadata": {
        "collapsed": false
      },
      "outputs": [],
      "source": [
        "sim = model.Simulation(mdl, ctrl)\nsim.simulate(t_stop=1.2)\n# sphinx_gallery_thumbnail_number = 3\nplot(sim, base)  # Plot results in per-unit values"
      ]
    },
    {
      "cell_type": "markdown",
      "metadata": {},
      "source": [
        "Plot the load speed and the twist angle.\n\n"
      ]
    },
    {
      "cell_type": "code",
      "execution_count": null,
      "metadata": {
        "collapsed": false
      },
      "outputs": [],
      "source": [
        "t_span = (0, 1.2)\n_, (ax1, ax2) = plt.subplots(2, 1, figsize=(8, 5))\nax1.plot(sim.mdl.data.t, sim.mdl.data.w_M, label=r\"$\\omega_\\mathrm{M}$\")\nax1.plot(sim.mdl.data.t, sim.mdl.data.w_L, label=r\"$\\omega_\\mathrm{L}$\")\nax2.plot(sim.mdl.data.t, sim.mdl.data.theta_ML*180/np.pi)\nax1.set_xlim(t_span)\nax2.set_xlim(t_span)\nax1.set_xticklabels([])\nax1.legend()\nax1.set_ylabel(r\"$\\omega_\\mathrm{M}$, $\\omega_\\mathrm{L}$ (rad/s)\")\nax2.set_ylabel(r\"$\\vartheta_\\mathrm{ML}$ (deg)\")\nax2.set_xlabel(\"Time (s)\")\nplt.show()"
      ]
    },
    {
      "cell_type": "markdown",
      "metadata": {},
      "source": [
        "Plot also the frequency response from the electromagnetic torque tau_M to the\nrotor speed w_M.\n\n"
      ]
    },
    {
      "cell_type": "code",
      "execution_count": null,
      "metadata": {
        "collapsed": false
      },
      "outputs": [],
      "source": [
        "# Frequency range and number of points\nf_span = (5, 500)\nnum = 200\n# Parameters\nJ_M, J_L = mdl.mechanics.J_M, mdl.mechanics.J_L\nK_S, C_S = mdl.mechanics.K_S, mdl.mechanics.C_S\n# Frequencies\nw = 2*np.pi*np.logspace(np.log10(f_span[0]), np.log10(f_span[-1]), num=num)\ns = 1j*w\n# Frequency response\nB = J_L*s**2 + C_S*s + K_S\nA = s*(J_M*J_L*s**2 + (J_M + J_L)*C_S*s + (J_M + J_L)*K_S)\nG = B/A\n# Plot figure\nfig, (ax1, ax2) = plt.subplots(2, 1, figsize=(8, 5))\nax1.loglog(w/(2*np.pi), np.abs(G))\nax1.set_xticklabels([])\nax2.semilogx(w/(2*np.pi), np.angle(G)*180/np.pi)\nax1.set_xlim(f_span)\nax2.set_xlim(f_span)\nax2.set_ylim([-100, 100])\nax2.set_yticks([-90, -45, 0, 45, 90])\nax1.set_ylabel(r\"Amplitude (rad/(s$\\cdot$Nm))\")\nax2.set_ylabel(\"Phase (deg)\")\nax2.set_xlabel(\"Frequency (Hz)\")\nfig.align_ylabels()\nplt.show()"
      ]
    },
    {
      "cell_type": "markdown",
      "metadata": {},
      "source": [
        ".. rubric:: References\n\n.. [#Saa2015] Saarakkala, Hinkkanen, \"Identification of two-mass mechanical\n   systems using torque excitation: Design and experimental evaluation,\" IEEE\n   Trans. Ind. Appl., 2015, https://doi.org/10.1109/TIA.2015.2416128\n\n"
      ]
    }
  ],
  "metadata": {
    "kernelspec": {
      "display_name": "Python 3",
      "language": "python",
      "name": "python3"
    },
    "language_info": {
      "codemirror_mode": {
        "name": "ipython",
        "version": 3
      },
      "file_extension": ".py",
      "mimetype": "text/x-python",
      "name": "python",
      "nbconvert_exporter": "python",
      "pygments_lexer": "ipython3",
      "version": "3.8.2"
    }
  },
  "nbformat": 4,
  "nbformat_minor": 0
}