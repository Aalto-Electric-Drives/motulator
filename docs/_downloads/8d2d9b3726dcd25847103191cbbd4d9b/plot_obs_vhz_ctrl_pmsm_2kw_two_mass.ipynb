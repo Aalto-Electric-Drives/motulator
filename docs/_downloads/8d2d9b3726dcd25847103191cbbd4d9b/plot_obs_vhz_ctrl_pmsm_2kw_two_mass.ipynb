{
  "cells": [
    {
      "cell_type": "markdown",
      "metadata": {},
      "source": [
        "\n# 2.2-kW PMSM, 2-mass mechanics\n\nThis example simulates observer-based V/Hz control of a 2.2-kW PMSM drive. The\nmechanical subsystem is modeled as a two-mass system. The resonance frequency\nof the mechanics is around 85 Hz. The mechanical parameters correspond to \n[#Saa2015]_, except that the torsional damping is set to a smaller value in \nthis example.\n"
      ]
    },
    {
      "cell_type": "code",
      "execution_count": null,
      "metadata": {
        "collapsed": false
      },
      "outputs": [],
      "source": [
        "import numpy as np\nimport matplotlib.pyplot as plt\n\nfrom motulator.drive import model\nimport motulator.drive.control.sm as control\nfrom motulator.drive.utils import (\n    BaseValues, NominalValues, plot, Sequence, SynchronousMachinePars,\n    TwoMassMechanicalSystemPars)"
      ]
    },
    {
      "cell_type": "markdown",
      "metadata": {},
      "source": [
        "Compute base values based on the nominal values (just for figures).\n\n"
      ]
    },
    {
      "cell_type": "code",
      "execution_count": null,
      "metadata": {
        "collapsed": false
      },
      "outputs": [],
      "source": [
        "nom = NominalValues(U=370, I=4.3, f=75, P=2.2e3, tau=14)\nbase = BaseValues.from_nominal(nom, n_p=3)"
      ]
    },
    {
      "cell_type": "markdown",
      "metadata": {},
      "source": [
        "Configure the system model.\n\n"
      ]
    },
    {
      "cell_type": "code",
      "execution_count": null,
      "metadata": {
        "collapsed": false
      },
      "outputs": [],
      "source": [
        "mdl_par = SynchronousMachinePars(\n    n_p=3, R_s=3.6, L_d=.036, L_q=.051, psi_f=.545)\nmachine = model.SynchronousMachine(mdl_par)\nmdl_mec_par = TwoMassMechanicalSystemPars(J_M=.005, J_L=.005, K_S=700, C_S=.01)\nmechanics = model.TwoMassMechanicalSystem(mdl_mec_par)\nconverter = model.Inverter(u_dc=540)\nmdl = model.Drive(converter, machine, mechanics)"
      ]
    },
    {
      "cell_type": "markdown",
      "metadata": {},
      "source": [
        "Configure the control system.\n\n"
      ]
    },
    {
      "cell_type": "code",
      "execution_count": null,
      "metadata": {
        "collapsed": false
      },
      "outputs": [],
      "source": [
        "par = mdl_par  # Assume accurate machine model parameter estimates\ncfg = control.ObserverBasedVHzCtrlCfg(par, max_i_s=1.5*base.i)\nctrl = control.ObserverBasedVHzCtrl(par, cfg, T_s=250e-6)\n#ctrl.rate_limiter = control.RateLimiter(2*np.pi*120)"
      ]
    },
    {
      "cell_type": "markdown",
      "metadata": {},
      "source": [
        "Set the speed reference and the external load torque.\n\n"
      ]
    },
    {
      "cell_type": "code",
      "execution_count": null,
      "metadata": {
        "collapsed": false
      },
      "outputs": [],
      "source": [
        "# Speed reference\ntimes = np.array([0, .1, .2, 1])\nvalues = np.array([0, 0, 1, 1])*base.w*.5\nctrl.ref.w_m = Sequence(times, values)\n# External load torque\ntimes = np.array([0, .4, .4, 1])\nvalues = np.array([0, 0, 1, 1])*nom.tau\nmdl.mechanics.tau_L = Sequence(times, values)"
      ]
    },
    {
      "cell_type": "markdown",
      "metadata": {},
      "source": [
        "Create the simulation object and simulate it.\n\n"
      ]
    },
    {
      "cell_type": "code",
      "execution_count": null,
      "metadata": {
        "collapsed": false
      },
      "outputs": [],
      "source": [
        "sim = model.Simulation(mdl, ctrl)\nsim.simulate(t_stop=1.2)\n# sphinx_gallery_thumbnail_number = 3\nplot(sim, base)  # Plot results in per-unit values"
      ]
    },
    {
      "cell_type": "markdown",
      "metadata": {},
      "source": [
        "Plot the load speed and the twist angle.\n\n"
      ]
    },
    {
      "cell_type": "code",
      "execution_count": null,
      "metadata": {
        "collapsed": false
      },
      "outputs": [],
      "source": [
        "t_span = (0, 1.2)\n_, (ax1, ax2) = plt.subplots(2, 1, figsize=(8, 5))\nax1.plot(\n    sim.mdl.mechanics.data.t,\n    sim.mdl.mechanics.data.w_M,\n    label=r\"$\\omega_\\mathrm{M}$\")\nax1.plot(\n    sim.mdl.mechanics.data.t,\n    sim.mdl.mechanics.data.w_L,\n    label=r\"$\\omega_\\mathrm{L}$\")\nax2.plot(sim.mdl.mechanics.data.t, sim.mdl.mechanics.data.theta_ML*180/np.pi)\nax1.set_xlim(t_span)\nax2.set_xlim(t_span)\nax1.set_xticklabels([])\nax1.legend()\nax1.set_ylabel(r\"$\\omega_\\mathrm{M}$, $\\omega_\\mathrm{L}$ (rad/s)\")\nax2.set_ylabel(r\"$\\vartheta_\\mathrm{ML}$ (deg)\")\nax2.set_xlabel(\"Time (s)\")\nplt.show()"
      ]
    },
    {
      "cell_type": "markdown",
      "metadata": {},
      "source": [
        "Plot also the frequency response from the electromagnetic torque tau_M to the\nrotor speed w_M.\n\n"
      ]
    },
    {
      "cell_type": "code",
      "execution_count": null,
      "metadata": {
        "collapsed": false
      },
      "outputs": [],
      "source": [
        "# Frequency range and number of points\nf_span = (5, 500)\nnum = 200\n# Parameters\nJ_M, J_L = mdl_mec_par.J_M, mdl_mec_par.J_L\nK_S, C_S = mdl_mec_par.K_S, mdl_mec_par.C_S\n# Frequencies\nw = 2*np.pi*np.logspace(np.log10(f_span[0]), np.log10(f_span[-1]), num=num)\ns = 1j*w\n# Frequency response\nB = J_L*s**2 + C_S*s + K_S\nA = s*(J_M*J_L*s**2 + (J_M + J_L)*C_S*s + (J_M + J_L)*K_S)\nG = B/A\n# Plot figure\nfig, (ax1, ax2) = plt.subplots(2, 1, figsize=(8, 5))\nax1.loglog(w/(2*np.pi), np.abs(G))\nax1.set_xticklabels([])\nax2.semilogx(w/(2*np.pi), np.angle(G)*180/np.pi)\nax1.set_xlim(f_span)\nax2.set_xlim(f_span)\nax2.set_ylim([-100, 100])\nax2.set_yticks([-90, -45, 0, 45, 90])\nax1.set_ylabel(r\"Amplitude (rad/(s$\\cdot$Nm))\")\nax2.set_ylabel(\"Phase (deg)\")\nax2.set_xlabel(\"Frequency (Hz)\")\nfig.align_ylabels()\nplt.show()"
      ]
    },
    {
      "cell_type": "markdown",
      "metadata": {},
      "source": [
        ".. rubric:: References\n\n.. [#Saa2015] Saarakkala, Hinkkanen, \"Identification of two-mass mechanical\n   systems using torque excitation: Design and experimental evaluation,\" IEEE\n   Trans. Ind. Appl., 2015, https://doi.org/10.1109/TIA.2015.2416128\n\n"
      ]
    }
  ],
  "metadata": {
    "kernelspec": {
      "display_name": "Python 3",
      "language": "python",
      "name": "python3"
    },
    "language_info": {
      "codemirror_mode": {
        "name": "ipython",
        "version": 3
      },
      "file_extension": ".py",
      "mimetype": "text/x-python",
      "name": "python",
      "nbconvert_exporter": "python",
      "pygments_lexer": "ipython3",
      "version": "3.8.2"
    }
  },
  "nbformat": 4,
  "nbformat_minor": 0
}