{
  "cells": [
    {
      "cell_type": "markdown",
      "metadata": {},
      "source": [
        "\n# 2.2-kW induction motor, diode bridge\n\nA diode bridge, stiff three-phase grid, and a DC link is modeled. The default\nparameters in this example yield open-loop V/Hz control. \n"
      ]
    },
    {
      "cell_type": "code",
      "execution_count": null,
      "metadata": {
        "collapsed": false
      },
      "outputs": [],
      "source": [
        "import numpy as np\n\nfrom motulator.drive import model\nimport motulator.drive.control.im as control\nfrom motulator.drive.utils import (\n    BaseValues, InductionMachineInvGammaPars, InductionMachinePars,\n    NominalValues, plot, plot_extra)"
      ]
    },
    {
      "cell_type": "markdown",
      "metadata": {},
      "source": [
        "Compute base values based on the nominal values (just for figures).\n\n"
      ]
    },
    {
      "cell_type": "code",
      "execution_count": null,
      "metadata": {
        "collapsed": false
      },
      "outputs": [],
      "source": [
        "nom = NominalValues(U=400, I=5, f=50, P=2.2e3, tau=14.6)\nbase = BaseValues.from_nominal(nom, n_p=2)"
      ]
    },
    {
      "cell_type": "markdown",
      "metadata": {},
      "source": [
        "Create the system model.\n\n"
      ]
    },
    {
      "cell_type": "code",
      "execution_count": null,
      "metadata": {
        "collapsed": false
      },
      "outputs": [],
      "source": [
        "# Machine model, using its inverse-\u0393 parameters\nmdl_ig_par = InductionMachineInvGammaPars(\n    n_p=2, R_s=3.7, R_R=2.1, L_sgm=.021, L_M=.224)\nmdl_par = InductionMachinePars.from_inv_gamma_model_pars(mdl_ig_par)\nmachine = model.InductionMachine(mdl_par)\n# Mechanical subsystem with the quadratic load torque profile\nk = 1.1*nom.tau/(base.w/base.n_p)**2\nmechanics = model.StiffMechanicalSystem(J=.015, B_L=lambda w_M: k*np.abs(w_M))\n\n# Frequency converter with a diode bridge\nfrequency_converter = model.FrequencyConverter(\n    C_dc=235e-6, L_dc=2e-3, U_g=nom.U, f_g=nom.f)\nmdl = model.Drive(\n    converter=frequency_converter, machine=machine, mechanics=mechanics)\n\nmdl.pwm = model.CarrierComparison()  # Enable the PWM model"
      ]
    },
    {
      "cell_type": "markdown",
      "metadata": {},
      "source": [
        "Control system (parametrized as open-loop V/Hz control).\n\n"
      ]
    },
    {
      "cell_type": "code",
      "execution_count": null,
      "metadata": {
        "collapsed": false
      },
      "outputs": [],
      "source": [
        "# Inverse-\u0393 model parameter estimates\npar = InductionMachineInvGammaPars(R_s=0*3.7, R_R=0*2.1, L_sgm=.021, L_M=.224)\nctrl = control.VHzControl(\n    control.VHzControlCfg(par, nom_psi_s=base.psi, k_u=0, k_w=0))"
      ]
    },
    {
      "cell_type": "markdown",
      "metadata": {},
      "source": [
        "Set the speed reference and the external load torque.\n\n"
      ]
    },
    {
      "cell_type": "code",
      "execution_count": null,
      "metadata": {
        "collapsed": false
      },
      "outputs": [],
      "source": [
        "ctrl.ref.w_m = lambda t: (t > .2)*base.w\n\n# Stepwise load torque at t = 1 s, 20% of the rated torque\nmdl.mechanics.tau_L = lambda t: (t > 1.)*.2*nom.tau"
      ]
    },
    {
      "cell_type": "markdown",
      "metadata": {},
      "source": [
        "Create the simulation object and simulate it.\n\n"
      ]
    },
    {
      "cell_type": "code",
      "execution_count": null,
      "metadata": {
        "collapsed": false
      },
      "outputs": [],
      "source": [
        "sim = model.Simulation(mdl, ctrl)\nsim.simulate(t_stop=1.5)"
      ]
    },
    {
      "cell_type": "markdown",
      "metadata": {},
      "source": [
        "Plot results in per-unit values.\n\n<div class=\"alert alert-info\"><h4>Note</h4><p>The DC link of this particular example is actually unstable at 1-p.u.\n   speed at the rated load torque, since the inverter looks like a negative\n   resistance to the DC link. You can notice this instability if simulating a\n   longer period (e.g. set `t_stop=2`). For analysis, see e.g., [#Hin2007]_.</p></div>\n\n"
      ]
    },
    {
      "cell_type": "code",
      "execution_count": null,
      "metadata": {
        "collapsed": false
      },
      "outputs": [],
      "source": [
        "# sphinx_gallery_thumbnail_number = 2\nplot(sim, base)\nplot_extra(sim, base, t_span=(1.1, 1.125))"
      ]
    },
    {
      "cell_type": "markdown",
      "metadata": {},
      "source": [
        ".. rubric:: References\n\n.. [#Hin2007] Hinkkanen, Harnefors, Luomi, \"Control of induction motor drives\n   equipped with small DC-Link capacitance,\" Proc. EPE, 2007,\n   https://doi.org/10.1109/EPE.2007.4417763\n\n"
      ]
    }
  ],
  "metadata": {
    "kernelspec": {
      "display_name": "Python 3",
      "language": "python",
      "name": "python3"
    },
    "language_info": {
      "codemirror_mode": {
        "name": "ipython",
        "version": 3
      },
      "file_extension": ".py",
      "mimetype": "text/x-python",
      "name": "python",
      "nbconvert_exporter": "python",
      "pygments_lexer": "ipython3",
      "version": "3.8.2"
    }
  },
  "nbformat": 4,
  "nbformat_minor": 0
}