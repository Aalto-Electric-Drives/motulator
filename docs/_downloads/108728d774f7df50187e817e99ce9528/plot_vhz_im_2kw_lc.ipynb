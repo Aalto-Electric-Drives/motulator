{
  "cells": [
    {
      "cell_type": "markdown",
      "metadata": {},
      "source": [
        "\n# 2.2-kW induction motor, LC filter\n\nThis example simulates open-loop V/Hz control of a 2.2-kW induction machine drive\nequipped with an output LC filter.\n"
      ]
    },
    {
      "cell_type": "code",
      "execution_count": null,
      "metadata": {
        "collapsed": false
      },
      "outputs": [],
      "source": [
        "from math import inf, pi\n\nimport matplotlib.pyplot as plt\n\nimport motulator.drive.control.im as control\nfrom motulator.drive import model, utils"
      ]
    },
    {
      "cell_type": "markdown",
      "metadata": {},
      "source": [
        "Compute base values based on the nominal values (just for figures).\n\n"
      ]
    },
    {
      "cell_type": "code",
      "execution_count": null,
      "metadata": {
        "collapsed": false
      },
      "outputs": [],
      "source": [
        "nom = utils.NominalValues(U=400, I=5, f=50, P=2.2e3, tau=14.6)\nbase = utils.BaseValues.from_nominal(nom, n_p=2)"
      ]
    },
    {
      "cell_type": "markdown",
      "metadata": {},
      "source": [
        "Create the system model, filter parameters correspond to [#Sal2006]_.\n\n"
      ]
    },
    {
      "cell_type": "code",
      "execution_count": null,
      "metadata": {
        "collapsed": false
      },
      "outputs": [],
      "source": [
        "par = model.InductionMachineInvGammaPars(\n    n_p=2, R_s=3.7, R_R=2.1, L_sgm=0.021, L_M=0.224\n)\nmachine = model.InductionMachine(par)\nk = 1.1 * nom.tau / base.w_M**2  # Quadratic load torque profile\nmechanics = model.MechanicalSystem(J=0.015, B_L=lambda w_M: k * abs(w_M))\nconverter = model.VoltageSourceConverter(u_dc=540)\nlc_filter = model.LCFilter(L_f=8e-3, C_f=9.9e-6, R_f=0.1)\nmdl = model.Drive(machine, mechanics, converter, lc_filter, pwm=True)"
      ]
    },
    {
      "cell_type": "markdown",
      "metadata": {},
      "source": [
        "Control system (parametrized as open-loop V/Hz control).\n\n"
      ]
    },
    {
      "cell_type": "code",
      "execution_count": null,
      "metadata": {
        "collapsed": false
      },
      "outputs": [],
      "source": [
        "est_par = control.InductionMachineInvGammaPars(n_p=2, R_s=0, R_R=0, L_sgm=0, L_M=inf)\ncfg = control.ObserverBasedVHzControllerCfg(\n    psi_s_nom=base.psi, i_s_max=inf, alpha_f=0, alpha_tau=0, alpha_psi=0\n)\nvhz_ctrl = control.ObserverBasedVHzController(est_par, cfg)\nctrl = control.VHzControlSystem(vhz_ctrl, slew_rate=2 * pi * 60)"
      ]
    },
    {
      "cell_type": "markdown",
      "metadata": {},
      "source": [
        "Set the speed reference. The external load torque is zero by default.\n\n"
      ]
    },
    {
      "cell_type": "code",
      "execution_count": null,
      "metadata": {
        "collapsed": false
      },
      "outputs": [],
      "source": [
        "ctrl.set_speed_ref(lambda t: (t > 0.2) * base.w_M)"
      ]
    },
    {
      "cell_type": "markdown",
      "metadata": {},
      "source": [
        "Create the simulation object, simulate, and plot the results in per-unit values.\n\n"
      ]
    },
    {
      "cell_type": "code",
      "execution_count": null,
      "metadata": {
        "collapsed": false
      },
      "outputs": [],
      "source": [
        "sim = model.Simulation(mdl, ctrl)\nres = sim.simulate(t_stop=1.4)\n# sphinx_gallery_thumbnail_number = 2\nutils.plot(res, base)"
      ]
    },
    {
      "cell_type": "markdown",
      "metadata": {},
      "source": [
        "Plot additional waveforms.\n\n"
      ]
    },
    {
      "cell_type": "code",
      "execution_count": null,
      "metadata": {
        "collapsed": false
      },
      "outputs": [],
      "source": [
        "t_lims = (1.1, 1.125)  # Time span for the zoomed-in plot\n\n# Plot the converter and stator voltages (phase a)\nfig1, (ax1, ax2) = plt.subplots(2, 1)\nax1.plot(res.mdl.t, res.mdl.converter.u_c_ab.real / base.u, label=r\"$u_\\mathrm{ca}$\")\nax1.plot(res.mdl.t, res.mdl.machine.u_s_ab.real / base.u, label=r\"$u_\\mathrm{sa}$\")\nax1.set_xlim(t_lims)\nax1.legend()\nax1.set_xticklabels([])\nax1.set_ylabel(\"Voltage (p.u.)\")\n# Plot the converter and stator currents (phase a)\nax2.plot(res.mdl.t, res.mdl.converter.i_c_ab.real / base.i, label=r\"$i_\\mathrm{ca}$\")\nax2.plot(res.mdl.t, res.mdl.machine.i_s_ab.real / base.i, label=r\"$i_\\mathrm{sa}$\")\nax2.set_xlim(t_lims)\nax2.legend()\nax2.set_ylabel(\"Current (p.u.)\")\nax2.set_xlabel(\"Time (s)\")\n\nplt.show()"
      ]
    },
    {
      "cell_type": "markdown",
      "metadata": {},
      "source": [
        ".. rubric:: References\n\n.. [#Sal2006] Salom\u00e4ki, Hinkkanen, Luomi, \"Sensorless control of induction motor\n   drives equipped with inverter output filter,\" IEEE Trans. Ind. Electron., 2006,\n   https://doi.org/10.1109/TIE.2006.878314\n\n"
      ]
    }
  ],
  "metadata": {
    "kernelspec": {
      "display_name": "Python 3",
      "language": "python",
      "name": "python3"
    },
    "language_info": {
      "codemirror_mode": {
        "name": "ipython",
        "version": 3
      },
      "file_extension": ".py",
      "mimetype": "text/x-python",
      "name": "python",
      "nbconvert_exporter": "python",
      "pygments_lexer": "ipython3",
      "version": "3.12.10"
    }
  },
  "nbformat": 4,
  "nbformat_minor": 0
}