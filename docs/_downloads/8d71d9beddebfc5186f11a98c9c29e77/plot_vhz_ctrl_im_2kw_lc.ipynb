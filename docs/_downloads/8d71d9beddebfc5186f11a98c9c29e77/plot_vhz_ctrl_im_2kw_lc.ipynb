{
  "cells": [
    {
      "cell_type": "markdown",
      "metadata": {},
      "source": [
        "\n# 2.2-kW induction motor, LC filter\n\nThis example simulates open-loop V/Hz control of a 2.2-kW induction machine\ndrive equipped with an LC filter. \n"
      ]
    },
    {
      "cell_type": "code",
      "execution_count": null,
      "metadata": {
        "collapsed": false
      },
      "outputs": [],
      "source": [
        "import numpy as np\nimport matplotlib.pyplot as plt\n\nfrom motulator.drive import model\nimport motulator.drive.control.im as control\nfrom motulator.drive.utils import (\n    BaseValues, InductionMachinePars, InductionMachineInvGammaPars,\n    NominalValues, plot)"
      ]
    },
    {
      "cell_type": "markdown",
      "metadata": {},
      "source": [
        "Compute base values based on the nominal values (just for figures).\n\n"
      ]
    },
    {
      "cell_type": "code",
      "execution_count": null,
      "metadata": {
        "collapsed": false
      },
      "outputs": [],
      "source": [
        "nom = NominalValues(U=400, I=5, f=50, P=2.2e3, tau=14.6)\nbase = BaseValues.from_nominal(nom, n_p=2)"
      ]
    },
    {
      "cell_type": "markdown",
      "metadata": {},
      "source": [
        "Create the system model. The filter parameters correspond to [#Sal2006]_.\n\n"
      ]
    },
    {
      "cell_type": "code",
      "execution_count": null,
      "metadata": {
        "collapsed": false
      },
      "outputs": [],
      "source": [
        "mdl_ig_par = InductionMachineInvGammaPars(\n    n_p=2, R_s=3.7, R_R=2.1, L_sgm=.021, L_M=.224)\nmdl_par = InductionMachinePars.from_inv_gamma_model_pars(mdl_ig_par)\nmachine = model.InductionMachine(mdl_par)\nmechanics = model.Mechanics(J=.015)\nconverter = model.Inverter(u_dc=540)\nlc_filter = model.LCFilter(L=8e-3, C=9.9e-6, R=.1)\nmdl = model.DriveWithLCFilter(converter, machine, mechanics, lc_filter)\nmdl.pwm = model.CarrierComparison()  # Enable the PWM model"
      ]
    },
    {
      "cell_type": "markdown",
      "metadata": {},
      "source": [
        "Control system (parametrized as open-loop V/Hz control).\n\n"
      ]
    },
    {
      "cell_type": "code",
      "execution_count": null,
      "metadata": {
        "collapsed": false
      },
      "outputs": [],
      "source": [
        "# Inverse-\u0393 model parameter estimates\npar = InductionMachineInvGammaPars(R_s=0*3.7, R_R=0*2.1, L_sgm=.021, L_M=.224)\nctrl = control.VHzCtrl(\n    control.VHzCtrlCfg(par, nom_psi_s=base.psi, k_u=0, k_w=0))"
      ]
    },
    {
      "cell_type": "markdown",
      "metadata": {},
      "source": [
        "Set the speed reference and the external load torque.\n\n"
      ]
    },
    {
      "cell_type": "code",
      "execution_count": null,
      "metadata": {
        "collapsed": false
      },
      "outputs": [],
      "source": [
        "ctrl.ref.w_m = lambda t: (t > .2)*base.w\n\n# Quadratic load torque profile (corresponding to pumps and fans)\nk = 1.1*nom.tau/(base.w/base.n_p)**2\nmdl.mechanics.tau_L_w = lambda w_M: k*w_M**2*np.sign(w_M)"
      ]
    },
    {
      "cell_type": "markdown",
      "metadata": {},
      "source": [
        "Create the simulation object and simulate it.\n\n"
      ]
    },
    {
      "cell_type": "code",
      "execution_count": null,
      "metadata": {
        "collapsed": false
      },
      "outputs": [],
      "source": [
        "sim = model.Simulation(mdl, ctrl)\nsim.simulate(t_stop=1.5)"
      ]
    },
    {
      "cell_type": "markdown",
      "metadata": {},
      "source": [
        "Plot results in per-unit values.\n\n"
      ]
    },
    {
      "cell_type": "code",
      "execution_count": null,
      "metadata": {
        "collapsed": false
      },
      "outputs": [],
      "source": [
        "# sphinx_gallery_thumbnail_number = 2\nplot(sim, base)"
      ]
    },
    {
      "cell_type": "markdown",
      "metadata": {},
      "source": [
        "Plot additional waveforms.\n\n"
      ]
    },
    {
      "cell_type": "code",
      "execution_count": null,
      "metadata": {
        "collapsed": false
      },
      "outputs": [],
      "source": [
        "t_span = (1.1, 1.125)  # Time span for the zoomed-in plot\nmdl = sim.mdl  # Continuous-time data\n# Plot the converter and stator voltages (phase a)\nfig1, (ax1, ax2) = plt.subplots(2, 1)\nax1.plot(\n    mdl.data.t, mdl.converter.data.u_cs.real/base.u, label=r\"$u_\\mathrm{ca}$\")\nax1.plot(\n    mdl.data.t, mdl.machine.data.u_ss.real/base.u, label=r\"$u_\\mathrm{sa}$\")\nax1.set_xlim(t_span)\nax1.legend()\nax1.set_xticklabels([])\nax1.set_ylabel(\"Voltage (p.u.)\")\n# Plot the converter and stator currents (phase a)\nax2.plot(\n    mdl.data.t, mdl.converter.data.i_cs.real/base.i, label=r\"$i_\\mathrm{ca}$\")\nax2.plot(\n    mdl.data.t, mdl.machine.data.i_ss.real/base.i, label=r\"$i_\\mathrm{sa}$\")\nax2.set_xlim(t_span)\nax2.legend()\nax2.set_ylabel(\"Current (p.u.)\")\nax2.set_xlabel(\"Time (s)\")\n\nplt.tight_layout()\nplt.show()"
      ]
    },
    {
      "cell_type": "markdown",
      "metadata": {},
      "source": [
        ".. rubric:: References\n\n.. [#Sal2006] Salom\u00e4ki, Hinkkanen, Luomi, \"Sensorless control of induction\n   motor drives equipped with inverter output filter,\" IEEE Trans. Ind.\n   Electron., 2006, https://doi.org/10.1109/TIE.2006.878314\n\n"
      ]
    }
  ],
  "metadata": {
    "kernelspec": {
      "display_name": "Python 3",
      "language": "python",
      "name": "python3"
    },
    "language_info": {
      "codemirror_mode": {
        "name": "ipython",
        "version": 3
      },
      "file_extension": ".py",
      "mimetype": "text/x-python",
      "name": "python",
      "nbconvert_exporter": "python",
      "pygments_lexer": "ipython3",
      "version": "3.8.2"
    }
  },
  "nbformat": 4,
  "nbformat_minor": 0
}