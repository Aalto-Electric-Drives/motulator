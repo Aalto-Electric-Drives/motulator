{
  "cells": [
    {
      "cell_type": "markdown",
      "metadata": {},
      "source": [
        "\n# 2.2-kW PMSM, diode bridge\n\nThis example simulates sensorless current-vector control of a 2.2-kW PMSM \ndrive, equipped with a diode bridge rectifier. \n"
      ]
    },
    {
      "cell_type": "code",
      "execution_count": null,
      "metadata": {
        "collapsed": false
      },
      "outputs": [],
      "source": [
        "from motulator.drive import model\nimport motulator.drive.control.sm as control\nfrom motulator.drive.utils import BaseValues, NominalValues, plot, plot_extra"
      ]
    },
    {
      "cell_type": "markdown",
      "metadata": {},
      "source": [
        "Compute base values based on the nominal values (just for figures).\n\n"
      ]
    },
    {
      "cell_type": "code",
      "execution_count": null,
      "metadata": {
        "collapsed": false
      },
      "outputs": [],
      "source": [
        "nom = NominalValues(U=370, I=4.3, f=75, P=2.2e3, tau=14)\nbase = BaseValues.from_nominal(nom, n_p=3)"
      ]
    },
    {
      "cell_type": "markdown",
      "metadata": {},
      "source": [
        "Configure the system model.\n\n"
      ]
    },
    {
      "cell_type": "code",
      "execution_count": null,
      "metadata": {
        "collapsed": false
      },
      "outputs": [],
      "source": [
        "machine = model.SynchronousMachine(\n    n_p=3, R_s=3.6, L_d=.036, L_q=.051, psi_f=.545)\nmechanics = model.Mechanics(J=.015)\nconverter = model.FrequencyConverter(L=2e-3, C=235e-6, U_g=400, f_g=50)\nmdl = model.Drive(converter, machine, mechanics)\nmdl.pwm = model.CarrierComparison()  # Enable the PWM model"
      ]
    },
    {
      "cell_type": "markdown",
      "metadata": {},
      "source": [
        "Configure the control system.\n\n"
      ]
    },
    {
      "cell_type": "code",
      "execution_count": null,
      "metadata": {
        "collapsed": false
      },
      "outputs": [],
      "source": [
        "par = control.ModelPars(n_p=3, R_s=3.6, L_d=.036, L_q=.051, psi_f=.545, J=.015)\nref = control.CurrentReferenceCfg(par, nom_w_m=base.w, max_i_s=1.5*base.i)\nctrl = control.CurrentVectorCtrl(par, ref, T_s=250e-6, sensorless=True)"
      ]
    },
    {
      "cell_type": "markdown",
      "metadata": {},
      "source": [
        "Set the speed reference and the external load torque.\n\n"
      ]
    },
    {
      "cell_type": "code",
      "execution_count": null,
      "metadata": {
        "collapsed": false
      },
      "outputs": [],
      "source": [
        "# Speed reference (electrical rad/s)\nctrl.ref.w_m = lambda t: (t > .2)*base.w\n\n# External load torque\nmdl.mechanics.tau_L_t = lambda t: (t > .6)*nom.tau"
      ]
    },
    {
      "cell_type": "markdown",
      "metadata": {},
      "source": [
        "Create the simulation object and simulate it.\n\n"
      ]
    },
    {
      "cell_type": "code",
      "execution_count": null,
      "metadata": {
        "collapsed": false
      },
      "outputs": [],
      "source": [
        "# Simulate the system\nsim = model.Simulation(mdl, ctrl)\nsim.simulate(t_stop=1)\n\n# Plot results in per-unit values\nplot(sim, base)\nplot_extra(sim, base, t_span=(.8, .825))"
      ]
    }
  ],
  "metadata": {
    "kernelspec": {
      "display_name": "Python 3",
      "language": "python",
      "name": "python3"
    },
    "language_info": {
      "codemirror_mode": {
        "name": "ipython",
        "version": 3
      },
      "file_extension": ".py",
      "mimetype": "text/x-python",
      "name": "python",
      "nbconvert_exporter": "python",
      "pygments_lexer": "ipython3",
      "version": "3.8.2"
    }
  },
  "nbformat": 4,
  "nbformat_minor": 0
}