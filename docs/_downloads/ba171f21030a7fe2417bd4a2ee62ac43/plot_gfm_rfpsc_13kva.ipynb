{
  "cells": [
    {
      "cell_type": "markdown",
      "metadata": {},
      "source": [
        "\n# 12.5-kVA converter, RFPSC\n    \nThis example simulates reference-feedforward power-synchronization control \n(RFPSC) of a converter connected to a weak grid. \n"
      ]
    },
    {
      "cell_type": "code",
      "execution_count": null,
      "metadata": {
        "collapsed": false
      },
      "outputs": [],
      "source": [
        "from motulator.common.model import VoltageSourceConverter, Simulation\nfrom motulator.common.utils import BaseValues, NominalValues\nfrom motulator.grid import model\nimport motulator.grid.control.grid_forming as control\nfrom motulator.grid.utils import FilterPars, GridPars, plot"
      ]
    },
    {
      "cell_type": "markdown",
      "metadata": {},
      "source": [
        "Compute base values based on the nominal values.\n\n"
      ]
    },
    {
      "cell_type": "code",
      "execution_count": null,
      "metadata": {
        "collapsed": false
      },
      "outputs": [],
      "source": [
        "nom = NominalValues(U=400, I=18, f=50, P=12.5e3)\nbase = BaseValues.from_nominal(nom)"
      ]
    },
    {
      "cell_type": "markdown",
      "metadata": {},
      "source": [
        "Configure the system model.\n\n"
      ]
    },
    {
      "cell_type": "code",
      "execution_count": null,
      "metadata": {
        "collapsed": false
      },
      "outputs": [],
      "source": [
        "# Grid parameters\ngrid_par = GridPars(u_gN=base.u, w_gN=base.w, L_g=.74*base.L)\n# Uncomment line below to simulate a strong grid\n# grid_par.L_g = 0\n\n# Filter parameters\nfilter_par = FilterPars(L_fc=.15*base.L)\n\n# Create AC filter with given parameters\nac_filter = model.ACFilter(filter_par, grid_par)\n\n# Grid voltage source with constant frequency and voltage magnitude\ngrid_model = model.ThreePhaseVoltageSource(w_g=base.w, abs_e_g=base.u)\n\n# Inverter with constant DC voltage\nconverter = VoltageSourceConverter(u_dc=650)\n\n# Create system model\nmdl = model.GridConverterSystem(converter, ac_filter, grid_model)"
      ]
    },
    {
      "cell_type": "markdown",
      "metadata": {},
      "source": [
        "Configure the control system.\n\n"
      ]
    },
    {
      "cell_type": "code",
      "execution_count": null,
      "metadata": {
        "collapsed": false
      },
      "outputs": [],
      "source": [
        "# Control configuration parameters\ncfg = control.RFPSCControlCfg(\n    grid_par, filter_par, max_i=1.3*base.i, T_s=100e-6, R_a=.2*base.Z)\n\n# Create the control system\nctrl = control.RFPSCControl(cfg)"
      ]
    },
    {
      "cell_type": "markdown",
      "metadata": {},
      "source": [
        "Set the references for converter output voltage magnitude and active power.\n\n"
      ]
    },
    {
      "cell_type": "code",
      "execution_count": null,
      "metadata": {
        "collapsed": false
      },
      "outputs": [],
      "source": [
        "# Converter output voltage magnitude reference\nctrl.ref.v_c = lambda t: base.u\n\n# Active power reference\nctrl.ref.p_g = lambda t: ((t > .2)/3 + (t > .5)/3 + (t > .8)/3 -\n                          (t > 1.2))*nom.P"
      ]
    },
    {
      "cell_type": "markdown",
      "metadata": {},
      "source": [
        "Create the simulation object and simulate it.\n\n"
      ]
    },
    {
      "cell_type": "code",
      "execution_count": null,
      "metadata": {
        "collapsed": false
      },
      "outputs": [],
      "source": [
        "sim = Simulation(mdl, ctrl)\nsim.simulate(t_stop=1.5)"
      ]
    },
    {
      "cell_type": "markdown",
      "metadata": {},
      "source": [
        "Plot the results.\n\n"
      ]
    },
    {
      "cell_type": "code",
      "execution_count": null,
      "metadata": {
        "collapsed": false
      },
      "outputs": [],
      "source": [
        "plot(sim, base)"
      ]
    }
  ],
  "metadata": {
    "kernelspec": {
      "display_name": "Python 3",
      "language": "python",
      "name": "python3"
    },
    "language_info": {
      "codemirror_mode": {
        "name": "ipython",
        "version": 3
      },
      "file_extension": ".py",
      "mimetype": "text/x-python",
      "name": "python",
      "nbconvert_exporter": "python",
      "pygments_lexer": "ipython3",
      "version": "3.8.2"
    }
  },
  "nbformat": 4,
  "nbformat_minor": 0
}