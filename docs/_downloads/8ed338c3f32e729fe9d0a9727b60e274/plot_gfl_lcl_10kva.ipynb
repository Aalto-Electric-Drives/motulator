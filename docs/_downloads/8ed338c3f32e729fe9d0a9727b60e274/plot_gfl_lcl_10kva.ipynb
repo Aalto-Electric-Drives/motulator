{
  "cells": [
    {
      "cell_type": "markdown",
      "metadata": {},
      "source": [
        "\n# 10-kVA converter, LCL filter\n    \nThis example simulates a grid-following-controlled converter connected to a\nstrong grid through an LCL filter. The control system includes a phase-locked\nloop (PLL) to synchronize with the grid, a current reference generator, and a\nPI-type current controller.\n"
      ]
    },
    {
      "cell_type": "code",
      "execution_count": null,
      "metadata": {
        "collapsed": false
      },
      "outputs": [],
      "source": [
        "from motulator.common.model import VoltageSourceConverter, Simulation\nfrom motulator.common.utils import BaseValues, NominalValues\nfrom motulator.grid import model\nimport motulator.grid.control.grid_following as control\nfrom motulator.grid.utils import FilterPars, GridPars, plot_grid"
      ]
    },
    {
      "cell_type": "markdown",
      "metadata": {},
      "source": [
        "Compute base values based on the nominal values.\n\n"
      ]
    },
    {
      "cell_type": "code",
      "execution_count": null,
      "metadata": {
        "collapsed": false
      },
      "outputs": [],
      "source": [
        "nom = NominalValues(U=400, I=14.5, f=50, P=10e3)\nbase = BaseValues.from_nominal(nom)"
      ]
    },
    {
      "cell_type": "markdown",
      "metadata": {},
      "source": [
        "Configure the system model.\n\n"
      ]
    },
    {
      "cell_type": "code",
      "execution_count": null,
      "metadata": {
        "collapsed": false
      },
      "outputs": [],
      "source": [
        "# Grid and filter parameters\ngrid_par = GridPars(u_gN=base.u, w_gN=base.w)\nfilter_par = FilterPars(L_fc=.073*base.L, L_fg=.073*base.L, C_f=.043*base.C)\n\n# DC-bus parameters\nac_filter = model.ACFilter(filter_par, grid_par)\n\n# AC-voltage magnitude (to simulate voltage dips or short-circuits)\nabs_e_g_var = lambda t: grid_par.u_gN\n\n# AC grid model with constant voltage magnitude and frequency\ngrid_model = model.ThreePhaseVoltageSource(\n    w_g=grid_par.w_gN, abs_e_g=abs_e_g_var)\n\n# Inverter model with constant DC voltage\nconverter = VoltageSourceConverter(u_dc=650)\n\n# Create system model\nmdl = model.GridConverterSystem(converter, ac_filter, grid_model)\n\n# Uncomment line below to enable the PWM model\n#mdl.pwm = CarrierComparison()"
      ]
    },
    {
      "cell_type": "markdown",
      "metadata": {},
      "source": [
        "Configure the control system.\n\n"
      ]
    },
    {
      "cell_type": "code",
      "execution_count": null,
      "metadata": {
        "collapsed": false
      },
      "outputs": [],
      "source": [
        "# Control parameters\ncfg = control.GFLControlCfg(\n    grid_par=grid_par, filter_par=filter_par, max_i=1.5*base.i)\n\n# Create the control system\nctrl = control.GFLControl(cfg)"
      ]
    },
    {
      "cell_type": "markdown",
      "metadata": {},
      "source": [
        "Set the time-dependent reference and disturbance signals.\n\n"
      ]
    },
    {
      "cell_type": "code",
      "execution_count": null,
      "metadata": {
        "collapsed": false
      },
      "outputs": [],
      "source": [
        "# Set the active and reactive power references\nctrl.ref.p_g = lambda t: (t > .02)*5e3\nctrl.ref.q_g = lambda t: (t > .04)*4e3"
      ]
    },
    {
      "cell_type": "markdown",
      "metadata": {},
      "source": [
        "Create the simulation object and simulate it.\n\n"
      ]
    },
    {
      "cell_type": "code",
      "execution_count": null,
      "metadata": {
        "collapsed": false
      },
      "outputs": [],
      "source": [
        "sim = Simulation(mdl, ctrl)\nsim.simulate(t_stop=.1)"
      ]
    },
    {
      "cell_type": "markdown",
      "metadata": {},
      "source": [
        "Plot the results.\n\n"
      ]
    },
    {
      "cell_type": "code",
      "execution_count": null,
      "metadata": {
        "collapsed": false
      },
      "outputs": [],
      "source": [
        "# By default results are plotted in per-unit values. By omitting the argument\n# `base` you can plot the results in SI units.\n\nplot_grid(sim, base=base, plot_pcc_voltage=True)"
      ]
    }
  ],
  "metadata": {
    "kernelspec": {
      "display_name": "Python 3",
      "language": "python",
      "name": "python3"
    },
    "language_info": {
      "codemirror_mode": {
        "name": "ipython",
        "version": 3
      },
      "file_extension": ".py",
      "mimetype": "text/x-python",
      "name": "python",
      "nbconvert_exporter": "python",
      "pygments_lexer": "ipython3",
      "version": "3.8.2"
    }
  },
  "nbformat": 4,
  "nbformat_minor": 0
}